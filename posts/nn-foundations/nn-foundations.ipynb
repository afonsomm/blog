{
 "cells": [
  {
   "cell_type": "raw",
   "id": "54e539a1-a1f5-48d2-9a0c-3d636fc860dd",
   "metadata": {},
   "source": [
    "---\n",
    "title: \"Fastai - Images\"\n",
    "subtitle: \"\"\n",
    "author: \"Afonso Matoso Magalhães\"\n",
    "date-modified: last-modified\n",
    "categories: [\"courses\"]\n",
    "image: \"logo.png\"\n",
    "toc: true\n",
    "draft: true\n",
    "---"
   ]
  },
  {
   "cell_type": "code",
   "execution_count": null,
   "id": "2pLekVCObBvR",
   "metadata": {
    "colab": {
     "base_uri": "https://localhost:8080/"
    },
    "executionInfo": {
     "elapsed": 24049,
     "status": "ok",
     "timestamp": 1710785910706,
     "user": {
      "displayName": "Afonso Matoso Magalhães",
      "userId": "00834841139025641156"
     },
     "user_tz": 0
    },
    "id": "2pLekVCObBvR",
    "outputId": "0f7f2583-0390-47ac-aa39-8d9df697d0c2"
   },
   "outputs": [
    {
     "name": "stdout",
     "output_type": "stream",
     "text": [
      "Mounted at /content/drive\n"
     ]
    }
   ],
   "source": [
    "from google.colab import drive\n",
    "drive.mount('/content/drive')"
   ]
  },
  {
   "cell_type": "code",
   "execution_count": null,
   "id": "CxKgXuwBbBm9",
   "metadata": {
    "colab": {
     "base_uri": "https://localhost:8080/"
    },
    "executionInfo": {
     "elapsed": 430,
     "status": "ok",
     "timestamp": 1710785915102,
     "user": {
      "displayName": "Afonso Matoso Magalhães",
      "userId": "00834841139025641156"
     },
     "user_tz": 0
    },
    "id": "CxKgXuwBbBm9",
    "outputId": "5e95bb9f-4712-4eec-9921-5e79dbe8ca7b"
   },
   "outputs": [
    {
     "name": "stdout",
     "output_type": "stream",
     "text": [
      "/content/drive/MyDrive/fastai course/Aula 3.2\n"
     ]
    }
   ],
   "source": [
    "%cd /content/drive/MyDrive/fastai course/Aula 3.2"
   ]
  },
  {
   "cell_type": "markdown",
   "id": "765ab580",
   "metadata": {
    "id": "765ab580",
    "papermill": {
     "duration": 0.070625,
     "end_time": "2024-03-18T16:35:27.403761",
     "exception": false,
     "start_time": "2024-03-18T16:35:27.333136",
     "status": "completed"
    },
    "tags": []
   },
   "source": [
    "**Important**: The interactive features of this notebook don't work in Kaggle's *Reader* mode. They only work in *Edit* mode. Therefore, before starting reading this, please click \"**Copy & Edit**\" in the top right of this window, then in the menu click *Run* and then *Run all*. Then you'll be able to use all the interactive sliders in this notebook."
   ]
  },
  {
   "cell_type": "markdown",
   "id": "9e43085e",
   "metadata": {
    "id": "9e43085e",
    "papermill": {
     "duration": 0.07086,
     "end_time": "2024-03-18T16:35:27.545314",
     "exception": false,
     "start_time": "2024-03-18T16:35:27.474454",
     "status": "completed"
    },
    "tags": []
   },
   "source": [
    "## Fitting a function with *gradient descent*"
   ]
  },
  {
   "cell_type": "markdown",
   "id": "6ed52f1d",
   "metadata": {
    "id": "6ed52f1d",
    "papermill": {
     "duration": 0.068568,
     "end_time": "2024-03-18T16:35:27.682501",
     "exception": false,
     "start_time": "2024-03-18T16:35:27.613933",
     "status": "completed"
    },
    "tags": []
   },
   "source": [
    "A neural network is just a mathematical function. In the most standard kind of neural network, the function:\n",
    "\n",
    "1. Multiplies each input by a number of values. These values are known as *parameters*\n",
    "1. Adds them up for each group of values\n",
    "1. Replaces the negative numbers with zeros\n",
    "\n",
    "This represents one \"layer\". Then these three steps are repeated, using the outputs of the previous layer as the inputs to the next layer. Initially, the parameters in this function are selected randomly. Therefore a newly created neural network doesn't do anything useful at all -- it's just random!\n",
    "\n",
    "To get the function to \"learn\" to do something useful, we have to change the parameters to make them \"better\" in some way. We do this using *gradient descent*. Let's see how this works..."
   ]
  },
  {
   "cell_type": "code",
   "execution_count": null,
   "id": "398d7c7a",
   "metadata": {
    "_kg_hide-input": true,
    "execution": {
     "iopub.execute_input": "2024-03-18T16:35:27.824246Z",
     "iopub.status.busy": "2024-03-18T16:35:27.823710Z",
     "iopub.status.idle": "2024-03-18T16:35:30.688757Z",
     "shell.execute_reply": "2024-03-18T16:35:30.687413Z"
    },
    "id": "398d7c7a",
    "papermill": {
     "duration": 2.940518,
     "end_time": "2024-03-18T16:35:30.692282",
     "exception": false,
     "start_time": "2024-03-18T16:35:27.751764",
     "status": "completed"
    },
    "tags": []
   },
   "outputs": [],
   "source": [
    "from ipywidgets import interact\n",
    "from fastai.basics import *\n",
    "\n",
    "plt.rc('figure', dpi=90)\n",
    "\n",
    "def plot_function(f, title=None, min=-2.1, max=2.1, color='r', ylim=None):\n",
    "    x = torch.linspace(min,max, 100)[:,None]\n",
    "    if ylim: plt.ylim(ylim)\n",
    "    plt.plot(x, f(x), color)\n",
    "    if title is not None: plt.title(title)"
   ]
  },
  {
   "cell_type": "markdown",
   "id": "a5d5dbeb",
   "metadata": {
    "id": "a5d5dbeb",
    "papermill": {
     "duration": 0.069945,
     "end_time": "2024-03-18T16:35:30.834156",
     "exception": false,
     "start_time": "2024-03-18T16:35:30.764211",
     "status": "completed"
    },
    "tags": []
   },
   "source": [
    "To learn how gradient descent works, we're going to start by fitting a quadratic, since that's a function most of us are probably more familiar with than a neural network. Here's the quadratic we're going to try to fit:"
   ]
  },
  {
   "cell_type": "code",
   "execution_count": null,
   "id": "149f6c58",
   "metadata": {
    "colab": {
     "base_uri": "https://localhost:8080/",
     "height": 412
    },
    "execution": {
     "iopub.execute_input": "2024-03-18T16:35:30.977644Z",
     "iopub.status.busy": "2024-03-18T16:35:30.977054Z",
     "iopub.status.idle": "2024-03-18T16:35:31.821938Z",
     "shell.execute_reply": "2024-03-18T16:35:31.820894Z"
    },
    "executionInfo": {
     "elapsed": 1030,
     "status": "ok",
     "timestamp": 1710785969327,
     "user": {
      "displayName": "Afonso Matoso Magalhães",
      "userId": "00834841139025641156"
     },
     "user_tz": 0
    },
    "id": "149f6c58",
    "outputId": "020ace10-8eb7-4794-9676-89394c4ed201",
    "papermill": {
     "duration": 0.921043,
     "end_time": "2024-03-18T16:35:31.824511",
     "exception": false,
     "start_time": "2024-03-18T16:35:30.903468",
     "status": "completed"
    },
    "tags": []
   },
   "outputs": [
    {
     "data": {
      "image/png": "[encoded data removed]",
      "text/plain": [
       "<Figure size 576x432 with 1 Axes>"
      ]
     },
     "metadata": {},
     "output_type": "display_data"
    }
   ],
   "source": [
    "def f(x): return 3*x**2 + 2*x + 1\n",
    "\n",
    "plot_function(f, \"$3x^2 + 2x + 1$\")"
   ]
  },
  {
   "cell_type": "markdown",
   "id": "ff83cf11",
   "metadata": {
    "id": "ff83cf11",
    "papermill": {
     "duration": 0.073237,
     "end_time": "2024-03-18T16:35:31.968209",
     "exception": false,
     "start_time": "2024-03-18T16:35:31.894972",
     "status": "completed"
    },
    "tags": []
   },
   "source": [
    "This quadratic is of the form $ax^2+bx+c$, with parameters $a=3$, $b=2$, $c=1$. To make it easier to try out different quadratics for fitting a model to the data we'll create, let's create a function that calculates the value of a point on any quadratic:"
   ]
  },
  {
   "cell_type": "code",
   "execution_count": null,
   "id": "541cc519",
   "metadata": {
    "execution": {
     "iopub.execute_input": "2024-03-18T16:35:32.114902Z",
     "iopub.status.busy": "2024-03-18T16:35:32.114524Z",
     "iopub.status.idle": "2024-03-18T16:35:32.120528Z",
     "shell.execute_reply": "2024-03-18T16:35:32.119189Z"
    },
    "id": "541cc519",
    "papermill": {
     "duration": 0.081413,
     "end_time": "2024-03-18T16:35:32.122898",
     "exception": false,
     "start_time": "2024-03-18T16:35:32.041485",
     "status": "completed"
    },
    "tags": []
   },
   "outputs": [],
   "source": [
    "def quad(a, b, c, x): return a*x**2 + b*x + c"
   ]
  },
  {
   "cell_type": "markdown",
   "id": "62d91c43",
   "metadata": {
    "id": "62d91c43",
    "papermill": {
     "duration": 0.07143,
     "end_time": "2024-03-18T16:35:32.264641",
     "exception": false,
     "start_time": "2024-03-18T16:35:32.193211",
     "status": "completed"
    },
    "tags": []
   },
   "source": [
    "If we fix some particular values of a, b, and c, then we'll have made a quadratic. To fix values passed to a function in python, we use the `partial` function, like so:"
   ]
  },
  {
   "cell_type": "code",
   "execution_count": null,
   "id": "d7290e08",
   "metadata": {
    "execution": {
     "iopub.execute_input": "2024-03-18T16:35:32.408774Z",
     "iopub.status.busy": "2024-03-18T16:35:32.408066Z",
     "iopub.status.idle": "2024-03-18T16:35:32.413461Z",
     "shell.execute_reply": "2024-03-18T16:35:32.412221Z"
    },
    "id": "d7290e08",
    "papermill": {
     "duration": 0.080846,
     "end_time": "2024-03-18T16:35:32.415931",
     "exception": false,
     "start_time": "2024-03-18T16:35:32.335085",
     "status": "completed"
    },
    "tags": []
   },
   "outputs": [],
   "source": [
    "def mk_quad(a,b,c): return partial(quad, a,b,c)"
   ]
  },
  {
   "cell_type": "markdown",
   "id": "afb71798",
   "metadata": {
    "id": "afb71798",
    "papermill": {
     "duration": 0.0692,
     "end_time": "2024-03-18T16:35:32.557642",
     "exception": false,
     "start_time": "2024-03-18T16:35:32.488442",
     "status": "completed"
    },
    "tags": []
   },
   "source": [
    "So for instance, we can recreate our previous quadratic:"
   ]
  },
  {
   "cell_type": "code",
   "execution_count": null,
   "id": "4619b3bd",
   "metadata": {
    "colab": {
     "base_uri": "https://localhost:8080/",
     "height": 389
    },
    "execution": {
     "iopub.execute_input": "2024-03-18T16:35:32.699637Z",
     "iopub.status.busy": "2024-03-18T16:35:32.699024Z",
     "iopub.status.idle": "2024-03-18T16:35:32.925801Z",
     "shell.execute_reply": "2024-03-18T16:35:32.924824Z"
    },
    "executionInfo": {
     "elapsed": 582,
     "status": "ok",
     "timestamp": 1710786363708,
     "user": {
      "displayName": "Afonso Matoso Magalhães",
      "userId": "00834841139025641156"
     },
     "user_tz": 0
    },
    "id": "4619b3bd",
    "outputId": "8d947b6f-662c-442d-e29c-eb6b5e309089",
    "papermill": {
     "duration": 0.300722,
     "end_time": "2024-03-18T16:35:32.928580",
     "exception": false,
     "start_time": "2024-03-18T16:35:32.627858",
     "status": "completed"
    },
    "tags": []
   },
   "outputs": [
    {
     "data": {
      "image/png": "[encoded data removed]",
      "text/plain": [
       "<Figure size 576x432 with 1 Axes>"
      ]
     },
     "metadata": {},
     "output_type": "display_data"
    }
   ],
   "source": [
    "f2 = mk_quad(3,2,1)\n",
    "plot_function(f2)"
   ]
  },
  {
   "cell_type": "code",
   "execution_count": null,
   "id": "YpnYpFGu0G2W",
   "metadata": {
    "colab": {
     "base_uri": "https://localhost:8080/"
    },
    "executionInfo": {
     "elapsed": 3,
     "status": "ok",
     "timestamp": 1710786382634,
     "user": {
      "displayName": "Afonso Matoso Magalhães",
      "userId": "00834841139025641156"
     },
     "user_tz": 0
    },
    "id": "YpnYpFGu0G2W",
    "outputId": "adc080cf-af7e-4648-afbd-198dc1f883fd"
   },
   "outputs": [
    {
     "data": {
      "text/plain": [
       "10.75"
      ]
     },
     "execution_count": 9,
     "metadata": {},
     "output_type": "execute_result"
    }
   ],
   "source": [
    "f2(1.5)"
   ]
  },
  {
   "cell_type": "markdown",
   "id": "eaca1272",
   "metadata": {
    "id": "eaca1272",
    "papermill": {
     "duration": 0.072008,
     "end_time": "2024-03-18T16:35:33.073541",
     "exception": false,
     "start_time": "2024-03-18T16:35:33.001533",
     "status": "completed"
    },
    "tags": []
   },
   "source": [
    "Now let's simulate making some noisy measurements of our quadratic `f`. We'll then use gradient descent to see if we can recreate the original function from the data.\n",
    "\n",
    "Here's a couple of functions to add some random noise to data:"
   ]
  },
  {
   "cell_type": "code",
   "execution_count": null,
   "id": "2402b7d4",
   "metadata": {
    "execution": {
     "iopub.execute_input": "2024-03-18T16:35:33.218487Z",
     "iopub.status.busy": "2024-03-18T16:35:33.217873Z",
     "iopub.status.idle": "2024-03-18T16:35:33.223948Z",
     "shell.execute_reply": "2024-03-18T16:35:33.223146Z"
    },
    "id": "2402b7d4",
    "papermill": {
     "duration": 0.081666,
     "end_time": "2024-03-18T16:35:33.226271",
     "exception": false,
     "start_time": "2024-03-18T16:35:33.144605",
     "status": "completed"
    },
    "tags": []
   },
   "outputs": [],
   "source": [
    "def noise(x, scale): return np.random.normal(scale=scale, size=x.shape)\n",
    "def add_noise(x, mult, add): return x * (1+noise(x,mult)) + noise(x,add)"
   ]
  },
  {
   "cell_type": "markdown",
   "id": "2381086b",
   "metadata": {
    "id": "2381086b",
    "papermill": {
     "duration": 0.070407,
     "end_time": "2024-03-18T16:35:33.367149",
     "exception": false,
     "start_time": "2024-03-18T16:35:33.296742",
     "status": "completed"
    },
    "tags": []
   },
   "source": [
    "Let's use the now to create our noisy measurements based on the quadratic above:"
   ]
  },
  {
   "cell_type": "code",
   "execution_count": null,
   "id": "03e16a2d",
   "metadata": {
    "execution": {
     "iopub.execute_input": "2024-03-18T16:35:33.512328Z",
     "iopub.status.busy": "2024-03-18T16:35:33.511737Z",
     "iopub.status.idle": "2024-03-18T16:35:33.529365Z",
     "shell.execute_reply": "2024-03-18T16:35:33.528645Z"
    },
    "id": "03e16a2d",
    "papermill": {
     "duration": 0.094035,
     "end_time": "2024-03-18T16:35:33.531876",
     "exception": false,
     "start_time": "2024-03-18T16:35:33.437841",
     "status": "completed"
    },
    "tags": []
   },
   "outputs": [],
   "source": [
    "np.random.seed(42)\n",
    "\n",
    "x = torch.linspace(-2, 2, steps=20)[:,None]\n",
    "y = add_noise(f(x), 0.15, 1.5)"
   ]
  },
  {
   "cell_type": "markdown",
   "id": "41d134de",
   "metadata": {
    "id": "41d134de",
    "papermill": {
     "duration": 0.070074,
     "end_time": "2024-03-18T16:35:33.672328",
     "exception": false,
     "start_time": "2024-03-18T16:35:33.602254",
     "status": "completed"
    },
    "tags": []
   },
   "source": [
    "Here's the first few values of each of `x` and `y`:"
   ]
  },
  {
   "cell_type": "code",
   "execution_count": null,
   "id": "0cef763b",
   "metadata": {
    "colab": {
     "base_uri": "https://localhost:8080/"
    },
    "execution": {
     "iopub.execute_input": "2024-03-18T16:35:33.815832Z",
     "iopub.status.busy": "2024-03-18T16:35:33.815338Z",
     "iopub.status.idle": "2024-03-18T16:35:33.860656Z",
     "shell.execute_reply": "2024-03-18T16:35:33.859753Z"
    },
    "executionInfo": {
     "elapsed": 404,
     "status": "ok",
     "timestamp": 1710786474455,
     "user": {
      "displayName": "Afonso Matoso Magalhães",
      "userId": "00834841139025641156"
     },
     "user_tz": 0
    },
    "id": "0cef763b",
    "outputId": "f23565f9-015d-488f-c312-f3c1971da5fc",
    "papermill": {
     "duration": 0.120086,
     "end_time": "2024-03-18T16:35:33.863380",
     "exception": false,
     "start_time": "2024-03-18T16:35:33.743294",
     "status": "completed"
    },
    "tags": []
   },
   "outputs": [
    {
     "data": {
      "text/plain": [
       "(tensor([[-2.0000],\n",
       "         [-1.7895],\n",
       "         [-1.5789],\n",
       "         [-1.3684],\n",
       "         [-1.1579]]),\n",
       " tensor([[11.8690],\n",
       "         [ 6.5433],\n",
       "         [ 5.9396],\n",
       "         [ 2.6304],\n",
       "         [ 1.7947]], dtype=torch.float64))"
      ]
     },
     "execution_count": 12,
     "metadata": {},
     "output_type": "execute_result"
    }
   ],
   "source": [
    "x[:5],y[:5]"
   ]
  },
  {
   "cell_type": "markdown",
   "id": "fd31c253",
   "metadata": {
    "id": "fd31c253",
    "papermill": {
     "duration": 0.074138,
     "end_time": "2024-03-18T16:35:34.009280",
     "exception": false,
     "start_time": "2024-03-18T16:35:33.935142",
     "status": "completed"
    },
    "tags": []
   },
   "source": [
    "As you can see, they're *tensors*. A tensor is just like an `array` in numpy (if you're not familiar with numpy, I strongly recommend reading [this great book](https://wesmckinney.com/book/), because it's a critical foundation for nearly all numeric programming in Python. Furthermore, PyTorch, which most researchers use for deep learning, is modeled closely on numpy.) A tensor can be a single number (a *scalar* or *rank-0 tensor*), a list of numbers (a *vector* or *rank-1 tensor*), a table of numbers (a *matrix* or *rank-2 tensor*), a table of tables of numbers (a *rank-3 tensor*), and so forth.\n",
    "\n",
    "We're not going to learn much about our data by just looking at the raw numbers, so let's draw a picture:"
   ]
  },
  {
   "cell_type": "code",
   "execution_count": null,
   "id": "468c230a",
   "metadata": {
    "colab": {
     "base_uri": "https://localhost:8080/",
     "height": 389
    },
    "execution": {
     "iopub.execute_input": "2024-03-18T16:35:34.156222Z",
     "iopub.status.busy": "2024-03-18T16:35:34.155753Z",
     "iopub.status.idle": "2024-03-18T16:35:34.439806Z",
     "shell.execute_reply": "2024-03-18T16:35:34.438279Z"
    },
    "executionInfo": {
     "elapsed": 6,
     "status": "ok",
     "timestamp": 1710786477328,
     "user": {
      "displayName": "Afonso Matoso Magalhães",
      "userId": "00834841139025641156"
     },
     "user_tz": 0
    },
    "id": "468c230a",
    "outputId": "8610b32c-7b6d-48f8-bf58-0b6ab129360f",
    "papermill": {
     "duration": 0.361655,
     "end_time": "2024-03-18T16:35:34.442664",
     "exception": false,
     "start_time": "2024-03-18T16:35:34.081009",
     "status": "completed"
    },
    "tags": []
   },
   "outputs": [
    {
     "data": {
      "image/png": "[encoded data removed]",
      "text/plain": [
       "<Figure size 576x432 with 1 Axes>"
      ]
     },
     "metadata": {},
     "output_type": "display_data"
    }
   ],
   "source": [
    "plt.scatter(x,y);"
   ]
  },
  {
   "cell_type": "markdown",
   "id": "91615822",
   "metadata": {
    "id": "91615822",
    "papermill": {
     "duration": 0.074715,
     "end_time": "2024-03-18T16:35:34.595251",
     "exception": false,
     "start_time": "2024-03-18T16:35:34.520536",
     "status": "completed"
    },
    "tags": []
   },
   "source": [
    "How do we find values of a, b, and c which fit this data? One approach is to try a few values and see what fits. Here's a function which overlays a quadratic on top of our data, along with some sliders to change a, b, and c, and see how it looks:"
   ]
  },
  {
   "cell_type": "code",
   "execution_count": null,
   "id": "b0b99889",
   "metadata": {
    "colab": {
     "base_uri": "https://localhost:8080/",
     "height": 485,
     "referenced_widgets": [
      "04c6544307484257bb086c1006048232",
      "0e333a074ab240c8be1bd3c6f418d054",
      "6ba75b0511a9493497b21ba1870ea800",
      "b7e2b59f0d5b4a6fba25a442561fb522",
      "17f9996e9a7c409492bc129c35b164e3",
      "61931916eb3d432eabb24f9ce0701597",
      "c01963d3105b45c59ffc91db5c1d9c8d",
      "83e13eaeee804b669bf5a84790b33c18",
      "9171f02a4ea94567bd3a58f50b663d52",
      "c504cb9901064eb09e5dd5ba0e2eeee6",
      "dfe29f4572c64252a70eaa53ceea89c2",
      "45a9b7a8b64a4191b795c7decec2ad7c",
      "5429f6b47e7f499f8c88bb6962a22193"
     ]
    },
    "execution": {
     "iopub.execute_input": "2024-03-18T16:35:34.747085Z",
     "iopub.status.busy": "2024-03-18T16:35:34.745621Z",
     "iopub.status.idle": "2024-03-18T16:35:35.023315Z",
     "shell.execute_reply": "2024-03-18T16:35:35.022112Z"
    },
    "executionInfo": {
     "elapsed": 506,
     "status": "ok",
     "timestamp": 1710786773615,
     "user": {
      "displayName": "Afonso Matoso Magalhães",
      "userId": "00834841139025641156"
     },
     "user_tz": 0
    },
    "id": "b0b99889",
    "outputId": "521fd2db-19a3-41a9-b152-8e7871504da8",
    "papermill": {
     "duration": 0.357482,
     "end_time": "2024-03-18T16:35:35.026879",
     "exception": false,
     "start_time": "2024-03-18T16:35:34.669397",
     "status": "completed"
    },
    "tags": []
   },
   "outputs": [
    {
     "data": {
      "application/vnd.jupyter.widget-view+json": {
       "model_id": "04c6544307484257bb086c1006048232",
       "version_major": 2,
       "version_minor": 0
      },
      "text/plain": [
       "interactive(children=(IntSlider(value=3, description='a', max=9, min=-3), IntSlider(value=2, description='b', …"
      ]
     },
     "metadata": {},
     "output_type": "display_data"
    },
    {
     "data": {
      "image/png": "[encoded data removed]",
      "text/plain": [
       "<Figure size 576x432 with 1 Axes>"
      ]
     },
     "metadata": {},
     "output_type": "display_data"
    }
   ],
   "source": [
    "@interact(a=3, b=2, c=1)\n",
    "def plot_quad(a, b, c):\n",
    "    plt.scatter(x,y)\n",
    "    plot_function(mk_quad(a,b,c), ylim=(-3,13))"
   ]
  },
  {
   "cell_type": "markdown",
   "id": "3a5f2300",
   "metadata": {
    "id": "3a5f2300",
    "papermill": {
     "duration": 0.074763,
     "end_time": "2024-03-18T16:35:35.176303",
     "exception": false,
     "start_time": "2024-03-18T16:35:35.101540",
     "status": "completed"
    },
    "tags": []
   },
   "source": [
    "**Reminder**: If the sliders above aren't working for you, that's because the interactive features of this notebook don't work in Kaggle's *Reader* mode. They only work in *Edit* mode. Please click \"**Copy & Edit**\" in the top right of this window, then in the menu click *Run* and then *Run all*. Then you'll be able to use all the interactive sliders in this notebook."
   ]
  },
  {
   "cell_type": "markdown",
   "id": "61d1d879",
   "metadata": {
    "id": "61d1d879",
    "papermill": {
     "duration": 0.073346,
     "end_time": "2024-03-18T16:35:35.323832",
     "exception": false,
     "start_time": "2024-03-18T16:35:35.250486",
     "status": "completed"
    },
    "tags": []
   },
   "source": [
    "Try moving slider `a` a bit to the left. Does that look better or worse? How about if you move it a bit to the right? Find out which direction seems to improve the fit of the quadratic to the data, and move the slider a bit in that direction. Next, do the same for slider `b`: first figure out which direction improves the fit, then move it a bit in that direction. Then do the same for `c`.\n",
    "\n",
    "OK, now go back to slider `a` and repeat the process. Do it again for `b` and `c` as well.\n",
    "\n",
    "Did you notice that by going back and doing the sliders a second time that you were able to improve things a bit further? That's an important insight -- it's only after changing `b` and `c`, for instance, that you realise that `a` actually needs some adjustment based on those new values.\n",
    "\n",
    "One thing that's making this tricky is that we don't really have a great sense of whether our fit is really better or worse. It would be easier if we had a numeric measure of that. On easy metric we could use is *mean absolute error* -- which is the distance from each data point to the curve:"
   ]
  },
  {
   "cell_type": "code",
   "execution_count": null,
   "id": "13d37656",
   "metadata": {
    "execution": {
     "iopub.execute_input": "2024-03-18T16:35:35.473290Z",
     "iopub.status.busy": "2024-03-18T16:35:35.472638Z",
     "iopub.status.idle": "2024-03-18T16:35:35.477346Z",
     "shell.execute_reply": "2024-03-18T16:35:35.476653Z"
    },
    "id": "13d37656",
    "papermill": {
     "duration": 0.082481,
     "end_time": "2024-03-18T16:35:35.479887",
     "exception": false,
     "start_time": "2024-03-18T16:35:35.397406",
     "status": "completed"
    },
    "tags": []
   },
   "outputs": [],
   "source": [
    "def mae(preds, acts): return (torch.abs(preds-acts)).mean()"
   ]
  },
  {
   "cell_type": "markdown",
   "id": "a2a76156",
   "metadata": {
    "id": "a2a76156",
    "papermill": {
     "duration": 0.074003,
     "end_time": "2024-03-18T16:35:35.631641",
     "exception": false,
     "start_time": "2024-03-18T16:35:35.557638",
     "status": "completed"
    },
    "tags": []
   },
   "source": [
    "We'll update our interactive function to print this at the top for us.\n",
    "\n",
    "Use this to repeat the approach we took before to try to find the best fit, but this time just use the value of the metric to decide which direction to move each slider, and how far to move it.\n",
    "\n",
    "This time around, try doing it in the opposite order: `c`, then `b`, then `a`.\n",
    "\n",
    "You'll probably find that you have to go through the set of sliders a couple of times to get the best fit."
   ]
  },
  {
   "cell_type": "code",
   "execution_count": null,
   "id": "8d3c2e91",
   "metadata": {
    "colab": {
     "base_uri": "https://localhost:8080/",
     "height": 504,
     "referenced_widgets": [
      "ae03e4d27e554cb0ac823ea38818c96c",
      "03602186c57c4392903ed6878ce3ca69",
      "cfe2fa2895754263bf9504f0b69262d8",
      "d40036e2abec459b88b7ffcf65911133",
      "c1a7e3f78f874efc980af9147834610c",
      "f8ac93466bf043f68714c2fbbb8bf66d",
      "ef54aaa62a514225bb36b7a30c4629b9",
      "53de9e751da74653841f711c92b34758",
      "b7fcdefccb30419287f2ce9c55f7b735",
      "59584f3d2c884c458ec5bfbef82c39e6",
      "62e020b7e40e4045a6de2b5395570dfd",
      "dd4c00ac2373499d837026a4e8a20851",
      "2064081864ee465bb0eae144e92cb45e"
     ]
    },
    "execution": {
     "iopub.execute_input": "2024-03-18T16:35:35.784622Z",
     "iopub.status.busy": "2024-03-18T16:35:35.783942Z",
     "iopub.status.idle": "2024-03-18T16:35:36.073323Z",
     "shell.execute_reply": "2024-03-18T16:35:36.072203Z"
    },
    "executionInfo": {
     "elapsed": 534,
     "status": "ok",
     "timestamp": 1710786927081,
     "user": {
      "displayName": "Afonso Matoso Magalhães",
      "userId": "00834841139025641156"
     },
     "user_tz": 0
    },
    "id": "8d3c2e91",
    "outputId": "530a56d7-85c6-4a7b-94d5-3e7645e723f3",
    "papermill": {
     "duration": 0.370392,
     "end_time": "2024-03-18T16:35:36.076689",
     "exception": false,
     "start_time": "2024-03-18T16:35:35.706297",
     "status": "completed"
    },
    "tags": []
   },
   "outputs": [
    {
     "data": {
      "application/vnd.jupyter.widget-view+json": {
       "model_id": "ae03e4d27e554cb0ac823ea38818c96c",
       "version_major": 2,
       "version_minor": 0
      },
      "text/plain": [
       "interactive(children=(FloatSlider(value=2.6, description='a', max=7.800000000000001, min=-2.6), FloatSlider(va…"
      ]
     },
     "metadata": {},
     "output_type": "display_data"
    },
    {
     "data": {
      "image/png": "[encoded data removed]",
      "text/plain": [
       "<Figure size 576x432 with 1 Axes>"
      ]
     },
     "metadata": {},
     "output_type": "display_data"
    }
   ],
   "source": [
    "@interact(a=2.6, b=1.4, c=0.5)\n",
    "def plot_quad(a, b, c):\n",
    "    f = mk_quad(a,b,c)\n",
    "    plt.scatter(x,y)\n",
    "    loss = mae(f(x), y)\n",
    "    plot_function(f, ylim=(-3,12), title=f\"MAE: {loss:.2f}\")"
   ]
  },
  {
   "cell_type": "markdown",
   "id": "4da8b758",
   "metadata": {
    "id": "4da8b758",
    "papermill": {
     "duration": 0.075484,
     "end_time": "2024-03-18T16:35:36.229091",
     "exception": false,
     "start_time": "2024-03-18T16:35:36.153607",
     "status": "completed"
    },
    "tags": []
   },
   "source": [
    "In a modern neural network we'll often have tens of millions of parameters to fit, or more, and thousands or millions of data points to fit them to. We're not going to be able to do that by moving sliders around! We'll need to automate this process.\n",
    "\n",
    "Thankfully, that turns out to be pretty straightforward. We can use calculus to figure out, for each parameter, whether we should increase or decrease it.\n",
    "\n",
    "Uh oh, calculus! If you haven't touched calculus since school, you might be getting ready to run away at this point. But don't worry, we don't actually need much calculus at all. Just derivatives, which measure the rate of change of a function. We don't even need to calculate them ourselves, because the computer will do it for us! If you've forgotten what a derivitive is, then watch the first three of these fantastic [videos by Professor Dave](https://www.youtube.com/playlist?list=PLybg94GvOJ9ELZEe9s2NXTKr41Yedbw7M). It's only 15 minutes in total, so give it a go! Then come back here and we'll continue on our journey..."
   ]
  },
  {
   "cell_type": "markdown",
   "id": "97f879ba",
   "metadata": {
    "id": "97f879ba",
    "papermill": {
     "duration": 0.074827,
     "end_time": "2024-03-18T16:35:36.378934",
     "exception": false,
     "start_time": "2024-03-18T16:35:36.304107",
     "status": "completed"
    },
    "tags": []
   },
   "source": [
    "## Automating gradient descent"
   ]
  },
  {
   "cell_type": "markdown",
   "id": "75ee2995",
   "metadata": {
    "id": "75ee2995",
    "papermill": {
     "duration": 0.077732,
     "end_time": "2024-03-18T16:35:36.531858",
     "exception": false,
     "start_time": "2024-03-18T16:35:36.454126",
     "status": "completed"
    },
    "tags": []
   },
   "source": [
    "The basic idea is this: if we know the *gradient* of our `mae()` function *with respect to* our parameters, `a`, `b`, and `c`, then that means we know how adjusting (for instance) `a` will change the value of `mae()`. If, say, `a` has a *negative* gradient, then we know that increasing `a` will decrease `mae()`. Then we know that's what we need to do, since we trying to make `mae()` as low as possible.\n",
    "\n",
    "So, we find the gradient of `mae()` for each of our parameters, and then adjust our parameters a bit in the *opposite* direction to the sign of the gradient.\n",
    "\n",
    "To do this, first we need a function that takes all the parameters `a`, `b`, and `c` as a single vector input, and returns the value `mae()` based on those parameters:"
   ]
  },
  {
   "cell_type": "code",
   "execution_count": null,
   "id": "ca5aff01",
   "metadata": {
    "execution": {
     "iopub.execute_input": "2024-03-18T16:35:36.686695Z",
     "iopub.status.busy": "2024-03-18T16:35:36.685426Z",
     "iopub.status.idle": "2024-03-18T16:35:36.691440Z",
     "shell.execute_reply": "2024-03-18T16:35:36.690185Z"
    },
    "id": "ca5aff01",
    "papermill": {
     "duration": 0.087364,
     "end_time": "2024-03-18T16:35:36.694426",
     "exception": false,
     "start_time": "2024-03-18T16:35:36.607062",
     "status": "completed"
    },
    "tags": []
   },
   "outputs": [],
   "source": [
    "def quad_mae(params):\n",
    "    f = mk_quad(*params)\n",
    "    return mae(f(x), y)"
   ]
  },
  {
   "cell_type": "markdown",
   "id": "975c71e0",
   "metadata": {
    "id": "975c71e0",
    "papermill": {
     "duration": 0.075682,
     "end_time": "2024-03-18T16:35:36.846765",
     "exception": false,
     "start_time": "2024-03-18T16:35:36.771083",
     "status": "completed"
    },
    "tags": []
   },
   "source": [
    "Let's try it:"
   ]
  },
  {
   "cell_type": "code",
   "execution_count": null,
   "id": "3a696b39",
   "metadata": {
    "colab": {
     "base_uri": "https://localhost:8080/"
    },
    "execution": {
     "iopub.execute_input": "2024-03-18T16:35:37.001451Z",
     "iopub.status.busy": "2024-03-18T16:35:37.001053Z",
     "iopub.status.idle": "2024-03-18T16:35:37.009960Z",
     "shell.execute_reply": "2024-03-18T16:35:37.008980Z"
    },
    "executionInfo": {
     "elapsed": 568,
     "status": "ok",
     "timestamp": 1710787071076,
     "user": {
      "displayName": "Afonso Matoso Magalhães",
      "userId": "00834841139025641156"
     },
     "user_tz": 0
    },
    "id": "3a696b39",
    "outputId": "5ef39d08-41ac-43a7-a2a8-f2000d9331d4",
    "papermill": {
     "duration": 0.089062,
     "end_time": "2024-03-18T16:35:37.012253",
     "exception": false,
     "start_time": "2024-03-18T16:35:36.923191",
     "status": "completed"
    },
    "tags": []
   },
   "outputs": [
    {
     "data": {
      "text/plain": [
       "tensor(2.4219, dtype=torch.float64)"
      ]
     },
     "execution_count": 41,
     "metadata": {},
     "output_type": "execute_result"
    }
   ],
   "source": [
    "quad_mae([1.1, 1.1, 1.1])"
   ]
  },
  {
   "cell_type": "markdown",
   "id": "576dea77",
   "metadata": {
    "id": "576dea77",
    "papermill": {
     "duration": 0.074864,
     "end_time": "2024-03-18T16:35:37.164420",
     "exception": false,
     "start_time": "2024-03-18T16:35:37.089556",
     "status": "completed"
    },
    "tags": []
   },
   "source": [
    "Yup, that's the same as the starting `mae()` we had in our plot before.\n",
    "\n",
    "We're first going to do exactly the same thing as we did manually -- pick some arbritrary starting point for our parameters. We'll put them all into a single tensor:"
   ]
  },
  {
   "cell_type": "code",
   "execution_count": null,
   "id": "4bd52cb9",
   "metadata": {
    "execution": {
     "iopub.execute_input": "2024-03-18T16:35:37.318368Z",
     "iopub.status.busy": "2024-03-18T16:35:37.317981Z",
     "iopub.status.idle": "2024-03-18T16:35:37.323422Z",
     "shell.execute_reply": "2024-03-18T16:35:37.322305Z"
    },
    "id": "4bd52cb9",
    "papermill": {
     "duration": 0.086284,
     "end_time": "2024-03-18T16:35:37.326055",
     "exception": false,
     "start_time": "2024-03-18T16:35:37.239771",
     "status": "completed"
    },
    "tags": []
   },
   "outputs": [],
   "source": [
    "abc = torch.tensor([1.1,1.1,1.1])"
   ]
  },
  {
   "cell_type": "markdown",
   "id": "267f1b1a",
   "metadata": {
    "id": "267f1b1a",
    "papermill": {
     "duration": 0.074962,
     "end_time": "2024-03-18T16:35:37.475916",
     "exception": false,
     "start_time": "2024-03-18T16:35:37.400954",
     "status": "completed"
    },
    "tags": []
   },
   "source": [
    "To tell PyTorch that we want it to calculate gradients for these parameters, we need to call `requires_grad_()`:"
   ]
  },
  {
   "cell_type": "code",
   "execution_count": null,
   "id": "81223689",
   "metadata": {
    "colab": {
     "base_uri": "https://localhost:8080/"
    },
    "execution": {
     "iopub.execute_input": "2024-03-18T16:35:37.641040Z",
     "iopub.status.busy": "2024-03-18T16:35:37.640307Z",
     "iopub.status.idle": "2024-03-18T16:35:37.647702Z",
     "shell.execute_reply": "2024-03-18T16:35:37.646919Z"
    },
    "executionInfo": {
     "elapsed": 3,
     "status": "ok",
     "timestamp": 1710787079349,
     "user": {
      "displayName": "Afonso Matoso Magalhães",
      "userId": "00834841139025641156"
     },
     "user_tz": 0
    },
    "id": "81223689",
    "outputId": "df5b2b0f-6a2a-4826-8530-6aab5ff26090",
    "papermill": {
     "duration": 0.089157,
     "end_time": "2024-03-18T16:35:37.650040",
     "exception": false,
     "start_time": "2024-03-18T16:35:37.560883",
     "status": "completed"
    },
    "tags": []
   },
   "outputs": [
    {
     "data": {
      "text/plain": [
       "tensor([1.1000, 1.1000, 1.1000], requires_grad=True)"
      ]
     },
     "execution_count": 43,
     "metadata": {},
     "output_type": "execute_result"
    }
   ],
   "source": [
    "abc.requires_grad_()"
   ]
  },
  {
   "cell_type": "markdown",
   "id": "a95c229e",
   "metadata": {
    "id": "a95c229e",
    "papermill": {
     "duration": 0.07665,
     "end_time": "2024-03-18T16:35:37.803957",
     "exception": false,
     "start_time": "2024-03-18T16:35:37.727307",
     "status": "completed"
    },
    "tags": []
   },
   "source": [
    "We can now calculate `mae()`. Generally, when doing gradient descent, the thing we're trying to minimise is called the *loss*:"
   ]
  },
  {
   "cell_type": "code",
   "execution_count": null,
   "id": "5b2c5cc2",
   "metadata": {
    "colab": {
     "base_uri": "https://localhost:8080/"
    },
    "execution": {
     "iopub.execute_input": "2024-03-18T16:35:37.963493Z",
     "iopub.status.busy": "2024-03-18T16:35:37.962851Z",
     "iopub.status.idle": "2024-03-18T16:35:37.973180Z",
     "shell.execute_reply": "2024-03-18T16:35:37.972097Z"
    },
    "executionInfo": {
     "elapsed": 3,
     "status": "ok",
     "timestamp": 1710787082551,
     "user": {
      "displayName": "Afonso Matoso Magalhães",
      "userId": "00834841139025641156"
     },
     "user_tz": 0
    },
    "id": "5b2c5cc2",
    "outputId": "10c9fe86-3d06-4db3-c695-7944216bd63e",
    "papermill": {
     "duration": 0.094561,
     "end_time": "2024-03-18T16:35:37.976047",
     "exception": false,
     "start_time": "2024-03-18T16:35:37.881486",
     "status": "completed"
    },
    "tags": []
   },
   "outputs": [
    {
     "data": {
      "text/plain": [
       "tensor(2.4219, dtype=torch.float64, grad_fn=<MeanBackward0>)"
      ]
     },
     "execution_count": 44,
     "metadata": {},
     "output_type": "execute_result"
    }
   ],
   "source": [
    "loss = quad_mae(abc)\n",
    "loss"
   ]
  },
  {
   "cell_type": "markdown",
   "id": "d27199a3",
   "metadata": {
    "id": "d27199a3",
    "papermill": {
     "duration": 0.075487,
     "end_time": "2024-03-18T16:35:38.129336",
     "exception": false,
     "start_time": "2024-03-18T16:35:38.053849",
     "status": "completed"
    },
    "tags": []
   },
   "source": [
    "To get PyTorch to now calculate the gradients, we need to call `backward()`"
   ]
  },
  {
   "cell_type": "code",
   "execution_count": null,
   "id": "8018a3d4",
   "metadata": {
    "execution": {
     "iopub.execute_input": "2024-03-18T16:35:38.285494Z",
     "iopub.status.busy": "2024-03-18T16:35:38.284775Z",
     "iopub.status.idle": "2024-03-18T16:35:38.302686Z",
     "shell.execute_reply": "2024-03-18T16:35:38.301914Z"
    },
    "id": "8018a3d4",
    "papermill": {
     "duration": 0.098981,
     "end_time": "2024-03-18T16:35:38.305312",
     "exception": false,
     "start_time": "2024-03-18T16:35:38.206331",
     "status": "completed"
    },
    "tags": []
   },
   "outputs": [],
   "source": [
    "loss.backward()"
   ]
  },
  {
   "cell_type": "markdown",
   "id": "9a100709",
   "metadata": {
    "id": "9a100709",
    "papermill": {
     "duration": 0.075432,
     "end_time": "2024-03-18T16:35:38.456987",
     "exception": false,
     "start_time": "2024-03-18T16:35:38.381555",
     "status": "completed"
    },
    "tags": []
   },
   "source": [
    "The gradients will be stored for us in an attribute called `grad`:"
   ]
  },
  {
   "cell_type": "code",
   "execution_count": null,
   "id": "75234762",
   "metadata": {
    "colab": {
     "base_uri": "https://localhost:8080/"
    },
    "execution": {
     "iopub.execute_input": "2024-03-18T16:35:38.612533Z",
     "iopub.status.busy": "2024-03-18T16:35:38.611577Z",
     "iopub.status.idle": "2024-03-18T16:35:38.620076Z",
     "shell.execute_reply": "2024-03-18T16:35:38.618980Z"
    },
    "executionInfo": {
     "elapsed": 2,
     "status": "ok",
     "timestamp": 1710787086008,
     "user": {
      "displayName": "Afonso Matoso Magalhães",
      "userId": "00834841139025641156"
     },
     "user_tz": 0
    },
    "id": "75234762",
    "outputId": "6039d35e-1be1-4d18-d763-4b9dce1d518e",
    "papermill": {
     "duration": 0.088652,
     "end_time": "2024-03-18T16:35:38.622501",
     "exception": false,
     "start_time": "2024-03-18T16:35:38.533849",
     "status": "completed"
    },
    "tags": []
   },
   "outputs": [
    {
     "data": {
      "text/plain": [
       "tensor([-1.3529, -0.0316, -0.5000])"
      ]
     },
     "execution_count": 46,
     "metadata": {},
     "output_type": "execute_result"
    }
   ],
   "source": [
    "abc.grad"
   ]
  },
  {
   "cell_type": "markdown",
   "id": "ReNPk-NaKEct",
   "metadata": {
    "id": "ReNPk-NaKEct"
   },
   "source": [
    "- Each gradient means that if we increase the parameter by 1, then the loss will decrease by the value of the gradient for that parameter. This is an approximation, since the slope of the function is not constant. So we estimate, given the current slope of the loss function dependent on the parameters, how much should we increase/decrease each of the latter."
   ]
  },
  {
   "cell_type": "markdown",
   "id": "81f738ca",
   "metadata": {
    "id": "81f738ca",
    "papermill": {
     "duration": 0.077529,
     "end_time": "2024-03-18T16:35:38.778525",
     "exception": false,
     "start_time": "2024-03-18T16:35:38.700996",
     "status": "completed"
    },
    "tags": []
   },
   "source": [
    "According to these gradients, all our parameters are a little low. So let's increase them a bit. If we subtract the gradient, multiplied by a small number, that should improve them a bit:"
   ]
  },
  {
   "cell_type": "code",
   "execution_count": null,
   "id": "5af47f3f",
   "metadata": {
    "colab": {
     "base_uri": "https://localhost:8080/"
    },
    "execution": {
     "iopub.execute_input": "2024-03-18T16:35:38.938173Z",
     "iopub.status.busy": "2024-03-18T16:35:38.937852Z",
     "iopub.status.idle": "2024-03-18T16:35:38.946733Z",
     "shell.execute_reply": "2024-03-18T16:35:38.945317Z"
    },
    "executionInfo": {
     "elapsed": 382,
     "status": "ok",
     "timestamp": 1710787413668,
     "user": {
      "displayName": "Afonso Matoso Magalhães",
      "userId": "00834841139025641156"
     },
     "user_tz": 0
    },
    "id": "5af47f3f",
    "outputId": "348dd0bb-896e-49e9-bca9-0767e3d65120",
    "papermill": {
     "duration": 0.09043,
     "end_time": "2024-03-18T16:35:38.949366",
     "exception": false,
     "start_time": "2024-03-18T16:35:38.858936",
     "status": "completed"
    },
    "tags": []
   },
   "outputs": [
    {
     "name": "stdout",
     "output_type": "stream",
     "text": [
      "loss=2.40\n"
     ]
    }
   ],
   "source": [
    "with torch.no_grad():\n",
    "    abc -= abc.grad*0.01\n",
    "    loss = quad_mae(abc)\n",
    "\n",
    "print(f'loss={loss:.2f}')"
   ]
  },
  {
   "cell_type": "markdown",
   "id": "a5c890ec",
   "metadata": {
    "id": "a5c890ec",
    "papermill": {
     "duration": 0.07872,
     "end_time": "2024-03-18T16:35:39.108697",
     "exception": false,
     "start_time": "2024-03-18T16:35:39.029977",
     "status": "completed"
    },
    "tags": []
   },
   "source": [
    "Yes, our loss has gone down!\n",
    "\n",
    "The \"small number\" we multiply is called the *learning rate*, and is the most important *hyper-parameter* to set when training a neural network.\n",
    "\n",
    "BTW, you'll see we had to wrap our calculation of the new parameters in `with torch.no_grad()`. That disables the calculation of gradients for any operations inside that context manager. We have to do that, because `abc -= abc.grad*0.01` isn't actually part of our quadratic model, so we don't want derivitives to include that calculation.\n",
    "\n",
    "We can use a loop to do a few more iterations of this:"
   ]
  },
  {
   "cell_type": "code",
   "execution_count": null,
   "id": "ce9ea31a",
   "metadata": {
    "colab": {
     "base_uri": "https://localhost:8080/"
    },
    "execution": {
     "iopub.execute_input": "2024-03-18T16:35:39.273444Z",
     "iopub.status.busy": "2024-03-18T16:35:39.272198Z",
     "iopub.status.idle": "2024-03-18T16:35:39.286563Z",
     "shell.execute_reply": "2024-03-18T16:35:39.285027Z"
    },
    "executionInfo": {
     "elapsed": 3,
     "status": "ok",
     "timestamp": 1710787577778,
     "user": {
      "displayName": "Afonso Matoso Magalhães",
      "userId": "00834841139025641156"
     },
     "user_tz": 0
    },
    "id": "ce9ea31a",
    "outputId": "286ff3ff-54bb-487f-fd9a-f32fd7de2587",
    "papermill": {
     "duration": 0.10043,
     "end_time": "2024-03-18T16:35:39.289467",
     "exception": false,
     "start_time": "2024-03-18T16:35:39.189037",
     "status": "completed"
    },
    "tags": []
   },
   "outputs": [
    {
     "name": "stdout",
     "output_type": "stream",
     "text": [
      "step=0; loss=2.40\n",
      "step=1; loss=2.36\n",
      "step=2; loss=2.30\n",
      "step=3; loss=2.21\n",
      "step=4; loss=2.11\n",
      "step=5; loss=1.98\n",
      "step=6; loss=1.85\n",
      "step=7; loss=1.72\n",
      "step=8; loss=1.58\n",
      "step=9; loss=1.46\n"
     ]
    }
   ],
   "source": [
    "for i in range(10):\n",
    "    loss = quad_mae(abc)\n",
    "    loss.backward()\n",
    "    with torch.no_grad(): abc -= abc.grad*0.01\n",
    "    print(f'step={i}; loss={loss:.2f}')"
   ]
  },
  {
   "cell_type": "markdown",
   "id": "f1ac5a23",
   "metadata": {
    "id": "f1ac5a23",
    "papermill": {
     "duration": 0.079141,
     "end_time": "2024-03-18T16:35:39.448456",
     "exception": false,
     "start_time": "2024-03-18T16:35:39.369315",
     "status": "completed"
    },
    "tags": []
   },
   "source": [
    "As you can see, our loss keeps going down!\n",
    "\n",
    "If you keep running this loop for long enough however, you'll see that the loss eventually starts increasing for a while. That's because once the parameters get close to the correct answer, our parameter updates will jump right over the correct answer! To avoid this, we need to decrease our learning rate as we train. This is done using a *learning rate schedule*, and can be automated in most deep learning frameworks, such as fastai and PyTorch."
   ]
  },
  {
   "cell_type": "markdown",
   "id": "e5919511",
   "metadata": {
    "id": "e5919511",
    "papermill": {
     "duration": 0.077023,
     "end_time": "2024-03-18T16:35:39.604536",
     "exception": false,
     "start_time": "2024-03-18T16:35:39.527513",
     "status": "completed"
    },
    "tags": []
   },
   "source": [
    "## How a neural network approximates any given function"
   ]
  },
  {
   "cell_type": "markdown",
   "id": "e35ca4c0",
   "metadata": {
    "id": "e35ca4c0",
    "papermill": {
     "duration": 0.079679,
     "end_time": "2024-03-18T16:35:39.761837",
     "exception": false,
     "start_time": "2024-03-18T16:35:39.682158",
     "status": "completed"
    },
    "tags": []
   },
   "source": [
    "But neural nets are much more convenient and powerful than this example showed, because we can learn much more than just a quadratic with them. How does *that* work?\n",
    "\n",
    "The trick is that a neural network is a very expressive function. In fact -- it's [infinitely expressive](https://en.wikipedia.org/wiki/Universal_approximation_theorem). A neural network can approximate any computable function, given enough parameters. A \"computable function\" can cover just about anything you can imagine: understand and translate human speech; paint a picture; diagnose a disease from medical imaging; write an essay; etc...\n",
    "\n",
    "The way a neural network approximates a function actually turns out to be very simple. The key trick is to combine two extremely basic steps:\n",
    "\n",
    "1. Matrix multiplication, which is just multiplying things together and then adding them up\n",
    "1. The function $max(x,0)$, which simply replaces all negative numbers with zero.\n",
    "\n",
    "In PyTorch, the function $max(x,0)$ is written as `np.clip(x,0)`. The combination of a linear function and this *max()* is called a *rectified linear function*, and it can be implemented like this:"
   ]
  },
  {
   "cell_type": "code",
   "execution_count": null,
   "id": "8c43945e",
   "metadata": {
    "execution": {
     "iopub.execute_input": "2024-03-18T16:35:39.922150Z",
     "iopub.status.busy": "2024-03-18T16:35:39.921841Z",
     "iopub.status.idle": "2024-03-18T16:35:39.926814Z",
     "shell.execute_reply": "2024-03-18T16:35:39.926156Z"
    },
    "id": "8c43945e",
    "papermill": {
     "duration": 0.088188,
     "end_time": "2024-03-18T16:35:39.929082",
     "exception": false,
     "start_time": "2024-03-18T16:35:39.840894",
     "status": "completed"
    },
    "tags": []
   },
   "outputs": [],
   "source": [
    "def rectified_linear(m,b,x):\n",
    "    y = m*x+b\n",
    "    return torch.clip(y, 0.)"
   ]
  },
  {
   "cell_type": "markdown",
   "id": "edeb6420",
   "metadata": {
    "id": "edeb6420",
    "papermill": {
     "duration": 0.078619,
     "end_time": "2024-03-18T16:35:40.087511",
     "exception": false,
     "start_time": "2024-03-18T16:35:40.008892",
     "status": "completed"
    },
    "tags": []
   },
   "source": [
    "Here's what it looks like:"
   ]
  },
  {
   "cell_type": "code",
   "execution_count": null,
   "id": "3153827e",
   "metadata": {
    "colab": {
     "base_uri": "https://localhost:8080/",
     "height": 389
    },
    "execution": {
     "iopub.execute_input": "2024-03-18T16:35:40.246846Z",
     "iopub.status.busy": "2024-03-18T16:35:40.246372Z",
     "iopub.status.idle": "2024-03-18T16:35:40.477594Z",
     "shell.execute_reply": "2024-03-18T16:35:40.476368Z"
    },
    "executionInfo": {
     "elapsed": 953,
     "status": "ok",
     "timestamp": 1710787820309,
     "user": {
      "displayName": "Afonso Matoso Magalhães",
      "userId": "00834841139025641156"
     },
     "user_tz": 0
    },
    "id": "3153827e",
    "outputId": "b6966f51-f4e3-4a93-916a-4c20f4a0a49d",
    "papermill": {
     "duration": 0.314012,
     "end_time": "2024-03-18T16:35:40.480423",
     "exception": false,
     "start_time": "2024-03-18T16:35:40.166411",
     "status": "completed"
    },
    "tags": []
   },
   "outputs": [
    {
     "data": {
      "image/png": "[encoded data removed]",
      "text/plain": [
       "<Figure size 576x432 with 1 Axes>"
      ]
     },
     "metadata": {},
     "output_type": "display_data"
    }
   ],
   "source": [
    "plot_function(partial(rectified_linear, 1,1))"
   ]
  },
  {
   "cell_type": "markdown",
   "id": "f803a839",
   "metadata": {
    "id": "f803a839",
    "papermill": {
     "duration": 0.079142,
     "end_time": "2024-03-18T16:35:40.642428",
     "exception": false,
     "start_time": "2024-03-18T16:35:40.563286",
     "status": "completed"
    },
    "tags": []
   },
   "source": [
    "BTW, instead of `torch.clip(y, 0.)`, we can instead use `F.relu(x)`, which does exactly the same thing. In PyTorch, `F` refers to the `torch.nn.functional` module."
   ]
  },
  {
   "cell_type": "code",
   "execution_count": null,
   "id": "ad673741",
   "metadata": {
    "colab": {
     "base_uri": "https://localhost:8080/",
     "height": 389
    },
    "execution": {
     "iopub.execute_input": "2024-03-18T16:35:40.805543Z",
     "iopub.status.busy": "2024-03-18T16:35:40.804939Z",
     "iopub.status.idle": "2024-03-18T16:35:40.970898Z",
     "shell.execute_reply": "2024-03-18T16:35:40.969781Z"
    },
    "executionInfo": {
     "elapsed": 501,
     "status": "ok",
     "timestamp": 1710787828752,
     "user": {
      "displayName": "Afonso Matoso Magalhães",
      "userId": "00834841139025641156"
     },
     "user_tz": 0
    },
    "id": "ad673741",
    "outputId": "3de94ba9-c91d-462d-84d3-504c2441fd4a",
    "papermill": {
     "duration": 0.250146,
     "end_time": "2024-03-18T16:35:40.974163",
     "exception": false,
     "start_time": "2024-03-18T16:35:40.724017",
     "status": "completed"
    },
    "tags": []
   },
   "outputs": [
    {
     "data": {
      "image/png": "[encoded data removed]",
      "text/plain": [
       "<Figure size 576x432 with 1 Axes>"
      ]
     },
     "metadata": {},
     "output_type": "display_data"
    }
   ],
   "source": [
    "import torch.nn.functional as F\n",
    "def rectified_linear2(m,b,x): return F.relu(m*x+b)\n",
    "plot_function(partial(rectified_linear2, 1,1))"
   ]
  },
  {
   "cell_type": "markdown",
   "id": "e2866313",
   "metadata": {
    "id": "e2866313",
    "papermill": {
     "duration": 0.079972,
     "end_time": "2024-03-18T16:35:41.138115",
     "exception": false,
     "start_time": "2024-03-18T16:35:41.058143",
     "status": "completed"
    },
    "tags": []
   },
   "source": [
    "To understand how this function works, try using this interactive version to play around with the parameters `m` and `b`:"
   ]
  },
  {
   "cell_type": "code",
   "execution_count": null,
   "id": "ab6295ff",
   "metadata": {
    "colab": {
     "base_uri": "https://localhost:8080/",
     "height": 458,
     "referenced_widgets": [
      "f1c746db594c4b48aa5b18e7df8ef127",
      "1c9feccf1b9c444f9d54491913b2f546",
      "f54a5a8c1ae74513a41e7e375214255a",
      "fa12348c65fc48f0ae7c7de9b055e582",
      "53d01808f3234d6198cd7ad9300b1455",
      "acae924940db4ad385a130f8e4a72997",
      "86883951902e4698ad9cce83257e9720",
      "a30e9972494b4a94985768a6fba8f958",
      "e35d1a2b04c54778a20d62c925dfe676",
      "177576eb62d74bc6871592d628da479d"
     ]
    },
    "execution": {
     "iopub.execute_input": "2024-03-18T16:35:41.302874Z",
     "iopub.status.busy": "2024-03-18T16:35:41.301525Z",
     "iopub.status.idle": "2024-03-18T16:35:41.527646Z",
     "shell.execute_reply": "2024-03-18T16:35:41.526587Z"
    },
    "executionInfo": {
     "elapsed": 839,
     "status": "ok",
     "timestamp": 1710787886178,
     "user": {
      "displayName": "Afonso Matoso Magalhães",
      "userId": "00834841139025641156"
     },
     "user_tz": 0
    },
    "id": "ab6295ff",
    "outputId": "bd73a7fe-8b3f-4c72-ebf2-edea2f9a632c",
    "papermill": {
     "duration": 0.313293,
     "end_time": "2024-03-18T16:35:41.532665",
     "exception": false,
     "start_time": "2024-03-18T16:35:41.219372",
     "status": "completed"
    },
    "tags": []
   },
   "outputs": [
    {
     "data": {
      "application/vnd.jupyter.widget-view+json": {
       "model_id": "f1c746db594c4b48aa5b18e7df8ef127",
       "version_major": 2,
       "version_minor": 0
      },
      "text/plain": [
       "interactive(children=(FloatSlider(value=1.5, description='m', max=4.5, min=-1.5), FloatSlider(value=1.5, descr…"
      ]
     },
     "metadata": {},
     "output_type": "display_data"
    },
    {
     "data": {
      "image/png": "[encoded data removed]",
      "text/plain": [
       "<Figure size 576x432 with 1 Axes>"
      ]
     },
     "metadata": {},
     "output_type": "display_data"
    }
   ],
   "source": [
    "@interact(m=1.5, b=1.5)\n",
    "def plot_relu(m, b):\n",
    "    plot_function(partial(rectified_linear, m,b), ylim=(-1,4))"
   ]
  },
  {
   "cell_type": "markdown",
   "id": "51c54adf",
   "metadata": {
    "id": "51c54adf",
    "papermill": {
     "duration": 0.09488,
     "end_time": "2024-03-18T16:35:41.726302",
     "exception": false,
     "start_time": "2024-03-18T16:35:41.631422",
     "status": "completed"
    },
    "tags": []
   },
   "source": [
    "As you see, `m` changes the slope, and `b` changes where the \"hook\" appears. This function doesn't do much on its own, but look what happens when we add two of them together:"
   ]
  },
  {
   "cell_type": "code",
   "execution_count": null,
   "id": "23f4b3fe",
   "metadata": {
    "colab": {
     "base_uri": "https://localhost:8080/",
     "height": 522,
     "referenced_widgets": [
      "ce075e8dd3664efba76a4f68761c1090",
      "e9d0216251ed4a05bebccd09d113319a",
      "3eb3db8becf1452fb79b54b4520e43d9",
      "b186e5dcf8184886b10daaa3841c00d0",
      "be171fb8b6534dc4b06beb712380a38b",
      "c6e9ff75fbd145b1978a83b63c222c3e",
      "dcbbde560c1f4bd6bcd7726f275dd91b",
      "8a2205884cbb4e9bb91ce914a743cb90",
      "7307157e900446b19322464e43f71167",
      "3c53ebb0e56a4ca7a14818cc1dbea358",
      "29c7f643582e4690874e6a0c9de68064",
      "cb67208497284615bfa4fa99ce7735d6",
      "db9df6c3ac8c48fc9e9443b06b4cb2e4",
      "0cf3d1695217408aa04f568659f5ac19",
      "76a6ebc5731b4354a890352d4d2cbb42",
      "6bc831533bf542ada652644d03d3d69a"
     ]
    },
    "execution": {
     "iopub.execute_input": "2024-03-18T16:35:41.897791Z",
     "iopub.status.busy": "2024-03-18T16:35:41.896537Z",
     "iopub.status.idle": "2024-03-18T16:35:42.159181Z",
     "shell.execute_reply": "2024-03-18T16:35:42.158102Z"
    },
    "executionInfo": {
     "elapsed": 411,
     "status": "ok",
     "timestamp": 1710787915738,
     "user": {
      "displayName": "Afonso Matoso Magalhães",
      "userId": "00834841139025641156"
     },
     "user_tz": 0
    },
    "id": "23f4b3fe",
    "outputId": "bfa118a3-864a-449c-b50f-dd5ae4a8f9f9",
    "papermill": {
     "duration": 0.352119,
     "end_time": "2024-03-18T16:35:42.161955",
     "exception": false,
     "start_time": "2024-03-18T16:35:41.809836",
     "status": "completed"
    },
    "tags": []
   },
   "outputs": [
    {
     "data": {
      "application/vnd.jupyter.widget-view+json": {
       "model_id": "ce075e8dd3664efba76a4f68761c1090",
       "version_major": 2,
       "version_minor": 0
      },
      "text/plain": [
       "interactive(children=(FloatSlider(value=-1.5, description='m1', max=1.5, min=-4.5), FloatSlider(value=-1.5, de…"
      ]
     },
     "metadata": {},
     "output_type": "display_data"
    },
    {
     "data": {
      "image/png": "[encoded data removed]",
      "text/plain": [
       "<Figure size 576x432 with 1 Axes>"
      ]
     },
     "metadata": {},
     "output_type": "display_data"
    }
   ],
   "source": [
    "def double_relu(m1,b1,m2,b2,x):\n",
    "    return rectified_linear(m1,b1,x) + rectified_linear(m2,b2,x)\n",
    "\n",
    "@interact(m1=-1.5, b1=-1.5, m2=1.5, b2=1.5)\n",
    "def plot_double_relu(m1, b1, m2, b2):\n",
    "    plot_function(partial(double_relu, m1,b1,m2,b2), ylim=(-1,6))"
   ]
  },
  {
   "cell_type": "markdown",
   "id": "4452102b",
   "metadata": {
    "id": "4452102b",
    "papermill": {
     "duration": 0.083722,
     "end_time": "2024-03-18T16:35:42.328970",
     "exception": false,
     "start_time": "2024-03-18T16:35:42.245248",
     "status": "completed"
    },
    "tags": []
   },
   "source": [
    "If you play around with that for a while, you notice something quite profound: with enough of these rectified linear functions added together, you could approximate any function with a single input, to whatever accuracy you like! Any time the function doesn't quite match, you can just add a few more additions to the mix to make it a bit closer. As an experiment, perhaps you'd like to try creating your own `plot_triple_relu` interactive function, and maybe even include the scatter plot of our data from before, to see how close you can get?\n",
    "\n",
    "This exact same approach can be expanded to functions of 2, 3, or more parameters."
   ]
  },
  {
   "cell_type": "markdown",
   "id": "2bfa019e",
   "metadata": {
    "id": "2bfa019e",
    "papermill": {
     "duration": 0.082491,
     "end_time": "2024-03-18T16:35:42.495304",
     "exception": false,
     "start_time": "2024-03-18T16:35:42.412813",
     "status": "completed"
    },
    "tags": []
   },
   "source": [
    "## How to recognise an owl"
   ]
  },
  {
   "cell_type": "markdown",
   "id": "ec2b21cd",
   "metadata": {
    "id": "ec2b21cd",
    "papermill": {
     "duration": 0.083638,
     "end_time": "2024-03-18T16:35:42.664662",
     "exception": false,
     "start_time": "2024-03-18T16:35:42.581024",
     "status": "completed"
    },
    "tags": []
   },
   "source": [
    "OK great, we've created a nifty little example showing that we can drawing squiggly lines that go through some points. So what?\n",
    "\n",
    "Well... the truth is that actually drawing squiggly lines (or planes, or high-dimensional hyperplanes...) through some points is literally *all that deep learning does*! If your data points are, say, the RGB values of pixels in photos of owls, then you can create an owl-recogniser model by following the exact steps above.\n",
    "\n",
    "This may, at first, sound about as useful as the classic \"how to draw an owl\" guide:"
   ]
  },
  {
   "cell_type": "markdown",
   "id": "25161cfa",
   "metadata": {
    "id": "25161cfa",
    "papermill": {
     "duration": 0.080876,
     "end_time": "2024-03-18T16:35:42.827153",
     "exception": false,
     "start_time": "2024-03-18T16:35:42.746277",
     "status": "completed"
    },
    "tags": []
   },
   "source": [
    "![image.png](attachment:c66592d3-c997-4c72-aed4-2dea579b96e1.png)"
   ]
  },
  {
   "cell_type": "markdown",
   "id": "9f065717",
   "metadata": {
    "id": "9f065717",
    "papermill": {
     "duration": 0.080748,
     "end_time": "2024-03-18T16:35:42.991270",
     "exception": false,
     "start_time": "2024-03-18T16:35:42.910522",
     "status": "completed"
    },
    "tags": []
   },
   "source": [
    "Students often ask me at this point \"OK Jeremy, but how do neural nets *actually work*\". But at a foundational level, there is no \"step 2\". We're done -- the above steps will, given enough time and enough data, create (for example) an owl recogniser, if you feed in enough owls (and non-owls).\n",
    "\n",
    "The devil, I guess, is in the \"given enough time and enough data\" part of the above sentence. There's a *lot* of tweaks we can make to reduce both of these things. For instance, instead of running our calculations on a normal CPU, as we've done above, we could do thousands of them simultaneously by taking advantage of a GPU. We could greatly reduce the amount of computation and data needed by using a convolution instead of a matrix multiplication, which basically means skipping over a bunch of the multiplications and additions for bits that you'd guess won't be important. We could make things much faster if, instead of starting with random parameters, we start with parameters of someone else's model that does something similar to what we want (this is called *transfer learning*).\n",
    "\n",
    "And, of course, there's lots of helpful software out there to do this stuff for you without too much fuss. Like, say, [fastai](https://docs.fast.ai).\n",
    "\n",
    "Learning these things is what we teach in our [course](https://course.fast.ai), which, like everything we make, is totally free. So if you're interested in learning more, do check it out!"
   ]
  },
  {
   "cell_type": "markdown",
   "id": "b2751b47",
   "metadata": {
    "id": "b2751b47",
    "papermill": {
     "duration": 0.081354,
     "end_time": "2024-03-18T16:35:43.155705",
     "exception": false,
     "start_time": "2024-03-18T16:35:43.074351",
     "status": "completed"
    },
    "tags": []
   },
   "source": [
    "As always, if you enjoyed this notebook, please upvote it to help others find it, and to encourage me to write more. If you upvote it, be careful you don't accidentally upvote your copy that's created when you click \"Copy & Edit\" -- you can find my original at [this link](https://www.kaggle.com/code/jhoward/how-does-a-neural-net-really-work)."
   ]
  },
  {
   "cell_type": "code",
   "execution_count": null,
   "id": "388b1af7",
   "metadata": {
    "id": "388b1af7",
    "papermill": {
     "duration": 0.080488,
     "end_time": "2024-03-18T16:35:43.316998",
     "exception": false,
     "start_time": "2024-03-18T16:35:43.236510",
     "status": "completed"
    },
    "tags": []
   },
   "outputs": [],
   "source": []
  }
 ],
 "metadata": {
  "colab": {
   "provenance": []
  },
  "kaggle": {
   "accelerator": "none",
   "dataSources": [],
   "dockerImageVersionId": 30178,
   "isGpuEnabled": false,
   "isInternetEnabled": true,
   "language": "python",
   "sourceType": "notebook"
  },
  "kernelspec": {
   "display_name": "Python 3 (ipykernel)",
   "language": "python",
   "name": "python3"
  },
  "language_info": {
   "codemirror_mode": {
    "name": "ipython",
    "version": 3
   },
   "file_extension": ".py",
   "mimetype": "text/x-python",
   "name": "python",
   "nbconvert_exporter": "python",
   "pygments_lexer": "ipython3",
   "version": "3.12.2"
  },
  "papermill": {
   "default_parameters": {},
   "duration": 29.807808,
   "end_time": "2024-03-18T16:35:44.626740",
   "environment_variables": {},
   "exception": null,
   "input_path": "__notebook__.ipynb",
   "output_path": "__notebook__.ipynb",
   "parameters": {},
   "start_time": "2024-03-18T16:35:14.818932",
   "version": "2.3.4"
  },
  "widgets": {
   "application/vnd.jupyter.widget-state+json": {
    "03602186c57c4392903ed6878ce3ca69": {
     "model_module": "@jupyter-widgets/controls",
     "model_module_version": "1.5.0",
     "model_name": "FloatSliderModel",
     "state": {
      "_dom_classes": [],
      "_model_module": "@jupyter-widgets/controls",
      "_model_module_version": "1.5.0",
      "_model_name": "FloatSliderModel",
      "_view_count": null,
      "_view_module": "@jupyter-widgets/controls",
      "_view_module_version": "1.5.0",
      "_view_name": "FloatSliderView",
      "continuous_update": true,
      "description": "a",
      "description_tooltip": null,
      "disabled": false,
      "layout": "IPY_MODEL_ef54aaa62a514225bb36b7a30c4629b9",
      "max": 7.800000000000001,
      "min": -2.6,
      "orientation": "horizontal",
      "readout": true,
      "readout_format": ".2f",
      "step": 0.1,
      "style": "IPY_MODEL_53de9e751da74653841f711c92b34758",
      "value": 2.6
     }
    },
    "04c6544307484257bb086c1006048232": {
     "model_module": "@jupyter-widgets/controls",
     "model_module_version": "1.5.0",
     "model_name": "VBoxModel",
     "state": {
      "_dom_classes": [
       "widget-interact"
      ],
      "_model_module": "@jupyter-widgets/controls",
      "_model_module_version": "1.5.0",
      "_model_name": "VBoxModel",
      "_view_count": null,
      "_view_module": "@jupyter-widgets/controls",
      "_view_module_version": "1.5.0",
      "_view_name": "VBoxView",
      "box_style": "",
      "children": [
       "IPY_MODEL_0e333a074ab240c8be1bd3c6f418d054",
       "IPY_MODEL_6ba75b0511a9493497b21ba1870ea800",
       "IPY_MODEL_b7e2b59f0d5b4a6fba25a442561fb522",
       "IPY_MODEL_17f9996e9a7c409492bc129c35b164e3"
      ],
      "layout": "IPY_MODEL_61931916eb3d432eabb24f9ce0701597"
     }
    },
    "0cf3d1695217408aa04f568659f5ac19": {
     "model_module": "@jupyter-widgets/base",
     "model_module_version": "1.2.0",
     "model_name": "LayoutModel",
     "state": {
      "_model_module": "@jupyter-widgets/base",
      "_model_module_version": "1.2.0",
      "_model_name": "LayoutModel",
      "_view_count": null,
      "_view_module": "@jupyter-widgets/base",
      "_view_module_version": "1.2.0",
      "_view_name": "LayoutView",
      "align_content": null,
      "align_items": null,
      "align_self": null,
      "border": null,
      "bottom": null,
      "display": null,
      "flex": null,
      "flex_flow": null,
      "grid_area": null,
      "grid_auto_columns": null,
      "grid_auto_flow": null,
      "grid_auto_rows": null,
      "grid_column": null,
      "grid_gap": null,
      "grid_row": null,
      "grid_template_areas": null,
      "grid_template_columns": null,
      "grid_template_rows": null,
      "height": null,
      "justify_content": null,
      "justify_items": null,
      "left": null,
      "margin": null,
      "max_height": null,
      "max_width": null,
      "min_height": null,
      "min_width": null,
      "object_fit": null,
      "object_position": null,
      "order": null,
      "overflow": null,
      "overflow_x": null,
      "overflow_y": null,
      "padding": null,
      "right": null,
      "top": null,
      "visibility": null,
      "width": null
     }
    },
    "0e333a074ab240c8be1bd3c6f418d054": {
     "model_module": "@jupyter-widgets/controls",
     "model_module_version": "1.5.0",
     "model_name": "IntSliderModel",
     "state": {
      "_dom_classes": [],
      "_model_module": "@jupyter-widgets/controls",
      "_model_module_version": "1.5.0",
      "_model_name": "IntSliderModel",
      "_view_count": null,
      "_view_module": "@jupyter-widgets/controls",
      "_view_module_version": "1.5.0",
      "_view_name": "IntSliderView",
      "continuous_update": true,
      "description": "a",
      "description_tooltip": null,
      "disabled": false,
      "layout": "IPY_MODEL_c01963d3105b45c59ffc91db5c1d9c8d",
      "max": 9,
      "min": -3,
      "orientation": "horizontal",
      "readout": true,
      "readout_format": "d",
      "step": 1,
      "style": "IPY_MODEL_83e13eaeee804b669bf5a84790b33c18",
      "value": 3
     }
    },
    "177576eb62d74bc6871592d628da479d": {
     "model_module": "@jupyter-widgets/base",
     "model_module_version": "1.2.0",
     "model_name": "LayoutModel",
     "state": {
      "_model_module": "@jupyter-widgets/base",
      "_model_module_version": "1.2.0",
      "_model_name": "LayoutModel",
      "_view_count": null,
      "_view_module": "@jupyter-widgets/base",
      "_view_module_version": "1.2.0",
      "_view_name": "LayoutView",
      "align_content": null,
      "align_items": null,
      "align_self": null,
      "border": null,
      "bottom": null,
      "display": null,
      "flex": null,
      "flex_flow": null,
      "grid_area": null,
      "grid_auto_columns": null,
      "grid_auto_flow": null,
      "grid_auto_rows": null,
      "grid_column": null,
      "grid_gap": null,
      "grid_row": null,
      "grid_template_areas": null,
      "grid_template_columns": null,
      "grid_template_rows": null,
      "height": null,
      "justify_content": null,
      "justify_items": null,
      "left": null,
      "margin": null,
      "max_height": null,
      "max_width": null,
      "min_height": null,
      "min_width": null,
      "object_fit": null,
      "object_position": null,
      "order": null,
      "overflow": null,
      "overflow_x": null,
      "overflow_y": null,
      "padding": null,
      "right": null,
      "top": null,
      "visibility": null,
      "width": null
     }
    },
    "17f9996e9a7c409492bc129c35b164e3": {
     "model_module": "@jupyter-widgets/output",
     "model_module_version": "1.0.0",
     "model_name": "OutputModel",
     "state": {
      "_dom_classes": [],
      "_model_module": "@jupyter-widgets/output",
      "_model_module_version": "1.0.0",
      "_model_name": "OutputModel",
      "_view_count": null,
      "_view_module": "@jupyter-widgets/output",
      "_view_module_version": "1.0.0",
      "_view_name": "OutputView",
      "layout": "IPY_MODEL_5429f6b47e7f499f8c88bb6962a22193",
      "msg_id": "",
      "outputs": []
     }
    },
    "1c9feccf1b9c444f9d54491913b2f546": {
     "model_module": "@jupyter-widgets/controls",
     "model_module_version": "1.5.0",
     "model_name": "FloatSliderModel",
     "state": {
      "_dom_classes": [],
      "_model_module": "@jupyter-widgets/controls",
      "_model_module_version": "1.5.0",
      "_model_name": "FloatSliderModel",
      "_view_count": null,
      "_view_module": "@jupyter-widgets/controls",
      "_view_module_version": "1.5.0",
      "_view_name": "FloatSliderView",
      "continuous_update": true,
      "description": "m",
      "description_tooltip": null,
      "disabled": false,
      "layout": "IPY_MODEL_acae924940db4ad385a130f8e4a72997",
      "max": 4.5,
      "min": -1.5,
      "orientation": "horizontal",
      "readout": true,
      "readout_format": ".2f",
      "step": 0.1,
      "style": "IPY_MODEL_86883951902e4698ad9cce83257e9720",
      "value": 1.5
     }
    },
    "2064081864ee465bb0eae144e92cb45e": {
     "model_module": "@jupyter-widgets/base",
     "model_module_version": "1.2.0",
     "model_name": "LayoutModel",
     "state": {
      "_model_module": "@jupyter-widgets/base",
      "_model_module_version": "1.2.0",
      "_model_name": "LayoutModel",
      "_view_count": null,
      "_view_module": "@jupyter-widgets/base",
      "_view_module_version": "1.2.0",
      "_view_name": "LayoutView",
      "align_content": null,
      "align_items": null,
      "align_self": null,
      "border": null,
      "bottom": null,
      "display": null,
      "flex": null,
      "flex_flow": null,
      "grid_area": null,
      "grid_auto_columns": null,
      "grid_auto_flow": null,
      "grid_auto_rows": null,
      "grid_column": null,
      "grid_gap": null,
      "grid_row": null,
      "grid_template_areas": null,
      "grid_template_columns": null,
      "grid_template_rows": null,
      "height": null,
      "justify_content": null,
      "justify_items": null,
      "left": null,
      "margin": null,
      "max_height": null,
      "max_width": null,
      "min_height": null,
      "min_width": null,
      "object_fit": null,
      "object_position": null,
      "order": null,
      "overflow": null,
      "overflow_x": null,
      "overflow_y": null,
      "padding": null,
      "right": null,
      "top": null,
      "visibility": null,
      "width": null
     }
    },
    "29c7f643582e4690874e6a0c9de68064": {
     "model_module": "@jupyter-widgets/controls",
     "model_module_version": "1.5.0",
     "model_name": "SliderStyleModel",
     "state": {
      "_model_module": "@jupyter-widgets/controls",
      "_model_module_version": "1.5.0",
      "_model_name": "SliderStyleModel",
      "_view_count": null,
      "_view_module": "@jupyter-widgets/base",
      "_view_module_version": "1.2.0",
      "_view_name": "StyleView",
      "description_width": "",
      "handle_color": null
     }
    },
    "3c53ebb0e56a4ca7a14818cc1dbea358": {
     "model_module": "@jupyter-widgets/base",
     "model_module_version": "1.2.0",
     "model_name": "LayoutModel",
     "state": {
      "_model_module": "@jupyter-widgets/base",
      "_model_module_version": "1.2.0",
      "_model_name": "LayoutModel",
      "_view_count": null,
      "_view_module": "@jupyter-widgets/base",
      "_view_module_version": "1.2.0",
      "_view_name": "LayoutView",
      "align_content": null,
      "align_items": null,
      "align_self": null,
      "border": null,
      "bottom": null,
      "display": null,
      "flex": null,
      "flex_flow": null,
      "grid_area": null,
      "grid_auto_columns": null,
      "grid_auto_flow": null,
      "grid_auto_rows": null,
      "grid_column": null,
      "grid_gap": null,
      "grid_row": null,
      "grid_template_areas": null,
      "grid_template_columns": null,
      "grid_template_rows": null,
      "height": null,
      "justify_content": null,
      "justify_items": null,
      "left": null,
      "margin": null,
      "max_height": null,
      "max_width": null,
      "min_height": null,
      "min_width": null,
      "object_fit": null,
      "object_position": null,
      "order": null,
      "overflow": null,
      "overflow_x": null,
      "overflow_y": null,
      "padding": null,
      "right": null,
      "top": null,
      "visibility": null,
      "width": null
     }
    },
    "3eb3db8becf1452fb79b54b4520e43d9": {
     "model_module": "@jupyter-widgets/controls",
     "model_module_version": "1.5.0",
     "model_name": "FloatSliderModel",
     "state": {
      "_dom_classes": [],
      "_model_module": "@jupyter-widgets/controls",
      "_model_module_version": "1.5.0",
      "_model_name": "FloatSliderModel",
      "_view_count": null,
      "_view_module": "@jupyter-widgets/controls",
      "_view_module_version": "1.5.0",
      "_view_name": "FloatSliderView",
      "continuous_update": true,
      "description": "b1",
      "description_tooltip": null,
      "disabled": false,
      "layout": "IPY_MODEL_3c53ebb0e56a4ca7a14818cc1dbea358",
      "max": 1.5,
      "min": -4.5,
      "orientation": "horizontal",
      "readout": true,
      "readout_format": ".2f",
      "step": 0.1,
      "style": "IPY_MODEL_29c7f643582e4690874e6a0c9de68064",
      "value": -1.5
     }
    },
    "45a9b7a8b64a4191b795c7decec2ad7c": {
     "model_module": "@jupyter-widgets/controls",
     "model_module_version": "1.5.0",
     "model_name": "SliderStyleModel",
     "state": {
      "_model_module": "@jupyter-widgets/controls",
      "_model_module_version": "1.5.0",
      "_model_name": "SliderStyleModel",
      "_view_count": null,
      "_view_module": "@jupyter-widgets/base",
      "_view_module_version": "1.2.0",
      "_view_name": "StyleView",
      "description_width": "",
      "handle_color": null
     }
    },
    "53d01808f3234d6198cd7ad9300b1455": {
     "model_module": "@jupyter-widgets/base",
     "model_module_version": "1.2.0",
     "model_name": "LayoutModel",
     "state": {
      "_model_module": "@jupyter-widgets/base",
      "_model_module_version": "1.2.0",
      "_model_name": "LayoutModel",
      "_view_count": null,
      "_view_module": "@jupyter-widgets/base",
      "_view_module_version": "1.2.0",
      "_view_name": "LayoutView",
      "align_content": null,
      "align_items": null,
      "align_self": null,
      "border": null,
      "bottom": null,
      "display": null,
      "flex": null,
      "flex_flow": null,
      "grid_area": null,
      "grid_auto_columns": null,
      "grid_auto_flow": null,
      "grid_auto_rows": null,
      "grid_column": null,
      "grid_gap": null,
      "grid_row": null,
      "grid_template_areas": null,
      "grid_template_columns": null,
      "grid_template_rows": null,
      "height": null,
      "justify_content": null,
      "justify_items": null,
      "left": null,
      "margin": null,
      "max_height": null,
      "max_width": null,
      "min_height": null,
      "min_width": null,
      "object_fit": null,
      "object_position": null,
      "order": null,
      "overflow": null,
      "overflow_x": null,
      "overflow_y": null,
      "padding": null,
      "right": null,
      "top": null,
      "visibility": null,
      "width": null
     }
    },
    "53de9e751da74653841f711c92b34758": {
     "model_module": "@jupyter-widgets/controls",
     "model_module_version": "1.5.0",
     "model_name": "SliderStyleModel",
     "state": {
      "_model_module": "@jupyter-widgets/controls",
      "_model_module_version": "1.5.0",
      "_model_name": "SliderStyleModel",
      "_view_count": null,
      "_view_module": "@jupyter-widgets/base",
      "_view_module_version": "1.2.0",
      "_view_name": "StyleView",
      "description_width": "",
      "handle_color": null
     }
    },
    "5429f6b47e7f499f8c88bb6962a22193": {
     "model_module": "@jupyter-widgets/base",
     "model_module_version": "1.2.0",
     "model_name": "LayoutModel",
     "state": {
      "_model_module": "@jupyter-widgets/base",
      "_model_module_version": "1.2.0",
      "_model_name": "LayoutModel",
      "_view_count": null,
      "_view_module": "@jupyter-widgets/base",
      "_view_module_version": "1.2.0",
      "_view_name": "LayoutView",
      "align_content": null,
      "align_items": null,
      "align_self": null,
      "border": null,
      "bottom": null,
      "display": null,
      "flex": null,
      "flex_flow": null,
      "grid_area": null,
      "grid_auto_columns": null,
      "grid_auto_flow": null,
      "grid_auto_rows": null,
      "grid_column": null,
      "grid_gap": null,
      "grid_row": null,
      "grid_template_areas": null,
      "grid_template_columns": null,
      "grid_template_rows": null,
      "height": null,
      "justify_content": null,
      "justify_items": null,
      "left": null,
      "margin": null,
      "max_height": null,
      "max_width": null,
      "min_height": null,
      "min_width": null,
      "object_fit": null,
      "object_position": null,
      "order": null,
      "overflow": null,
      "overflow_x": null,
      "overflow_y": null,
      "padding": null,
      "right": null,
      "top": null,
      "visibility": null,
      "width": null
     }
    },
    "59584f3d2c884c458ec5bfbef82c39e6": {
     "model_module": "@jupyter-widgets/controls",
     "model_module_version": "1.5.0",
     "model_name": "SliderStyleModel",
     "state": {
      "_model_module": "@jupyter-widgets/controls",
      "_model_module_version": "1.5.0",
      "_model_name": "SliderStyleModel",
      "_view_count": null,
      "_view_module": "@jupyter-widgets/base",
      "_view_module_version": "1.2.0",
      "_view_name": "StyleView",
      "description_width": "",
      "handle_color": null
     }
    },
    "61931916eb3d432eabb24f9ce0701597": {
     "model_module": "@jupyter-widgets/base",
     "model_module_version": "1.2.0",
     "model_name": "LayoutModel",
     "state": {
      "_model_module": "@jupyter-widgets/base",
      "_model_module_version": "1.2.0",
      "_model_name": "LayoutModel",
      "_view_count": null,
      "_view_module": "@jupyter-widgets/base",
      "_view_module_version": "1.2.0",
      "_view_name": "LayoutView",
      "align_content": null,
      "align_items": null,
      "align_self": null,
      "border": null,
      "bottom": null,
      "display": null,
      "flex": null,
      "flex_flow": null,
      "grid_area": null,
      "grid_auto_columns": null,
      "grid_auto_flow": null,
      "grid_auto_rows": null,
      "grid_column": null,
      "grid_gap": null,
      "grid_row": null,
      "grid_template_areas": null,
      "grid_template_columns": null,
      "grid_template_rows": null,
      "height": null,
      "justify_content": null,
      "justify_items": null,
      "left": null,
      "margin": null,
      "max_height": null,
      "max_width": null,
      "min_height": null,
      "min_width": null,
      "object_fit": null,
      "object_position": null,
      "order": null,
      "overflow": null,
      "overflow_x": null,
      "overflow_y": null,
      "padding": null,
      "right": null,
      "top": null,
      "visibility": null,
      "width": null
     }
    },
    "62e020b7e40e4045a6de2b5395570dfd": {
     "model_module": "@jupyter-widgets/base",
     "model_module_version": "1.2.0",
     "model_name": "LayoutModel",
     "state": {
      "_model_module": "@jupyter-widgets/base",
      "_model_module_version": "1.2.0",
      "_model_name": "LayoutModel",
      "_view_count": null,
      "_view_module": "@jupyter-widgets/base",
      "_view_module_version": "1.2.0",
      "_view_name": "LayoutView",
      "align_content": null,
      "align_items": null,
      "align_self": null,
      "border": null,
      "bottom": null,
      "display": null,
      "flex": null,
      "flex_flow": null,
      "grid_area": null,
      "grid_auto_columns": null,
      "grid_auto_flow": null,
      "grid_auto_rows": null,
      "grid_column": null,
      "grid_gap": null,
      "grid_row": null,
      "grid_template_areas": null,
      "grid_template_columns": null,
      "grid_template_rows": null,
      "height": null,
      "justify_content": null,
      "justify_items": null,
      "left": null,
      "margin": null,
      "max_height": null,
      "max_width": null,
      "min_height": null,
      "min_width": null,
      "object_fit": null,
      "object_position": null,
      "order": null,
      "overflow": null,
      "overflow_x": null,
      "overflow_y": null,
      "padding": null,
      "right": null,
      "top": null,
      "visibility": null,
      "width": null
     }
    },
    "6ba75b0511a9493497b21ba1870ea800": {
     "model_module": "@jupyter-widgets/controls",
     "model_module_version": "1.5.0",
     "model_name": "IntSliderModel",
     "state": {
      "_dom_classes": [],
      "_model_module": "@jupyter-widgets/controls",
      "_model_module_version": "1.5.0",
      "_model_name": "IntSliderModel",
      "_view_count": null,
      "_view_module": "@jupyter-widgets/controls",
      "_view_module_version": "1.5.0",
      "_view_name": "IntSliderView",
      "continuous_update": true,
      "description": "b",
      "description_tooltip": null,
      "disabled": false,
      "layout": "IPY_MODEL_9171f02a4ea94567bd3a58f50b663d52",
      "max": 6,
      "min": -2,
      "orientation": "horizontal",
      "readout": true,
      "readout_format": "d",
      "step": 1,
      "style": "IPY_MODEL_c504cb9901064eb09e5dd5ba0e2eeee6",
      "value": 2
     }
    },
    "6bc831533bf542ada652644d03d3d69a": {
     "model_module": "@jupyter-widgets/base",
     "model_module_version": "1.2.0",
     "model_name": "LayoutModel",
     "state": {
      "_model_module": "@jupyter-widgets/base",
      "_model_module_version": "1.2.0",
      "_model_name": "LayoutModel",
      "_view_count": null,
      "_view_module": "@jupyter-widgets/base",
      "_view_module_version": "1.2.0",
      "_view_name": "LayoutView",
      "align_content": null,
      "align_items": null,
      "align_self": null,
      "border": null,
      "bottom": null,
      "display": null,
      "flex": null,
      "flex_flow": null,
      "grid_area": null,
      "grid_auto_columns": null,
      "grid_auto_flow": null,
      "grid_auto_rows": null,
      "grid_column": null,
      "grid_gap": null,
      "grid_row": null,
      "grid_template_areas": null,
      "grid_template_columns": null,
      "grid_template_rows": null,
      "height": null,
      "justify_content": null,
      "justify_items": null,
      "left": null,
      "margin": null,
      "max_height": null,
      "max_width": null,
      "min_height": null,
      "min_width": null,
      "object_fit": null,
      "object_position": null,
      "order": null,
      "overflow": null,
      "overflow_x": null,
      "overflow_y": null,
      "padding": null,
      "right": null,
      "top": null,
      "visibility": null,
      "width": null
     }
    },
    "7307157e900446b19322464e43f71167": {
     "model_module": "@jupyter-widgets/controls",
     "model_module_version": "1.5.0",
     "model_name": "SliderStyleModel",
     "state": {
      "_model_module": "@jupyter-widgets/controls",
      "_model_module_version": "1.5.0",
      "_model_name": "SliderStyleModel",
      "_view_count": null,
      "_view_module": "@jupyter-widgets/base",
      "_view_module_version": "1.2.0",
      "_view_name": "StyleView",
      "description_width": "",
      "handle_color": null
     }
    },
    "76a6ebc5731b4354a890352d4d2cbb42": {
     "model_module": "@jupyter-widgets/controls",
     "model_module_version": "1.5.0",
     "model_name": "SliderStyleModel",
     "state": {
      "_model_module": "@jupyter-widgets/controls",
      "_model_module_version": "1.5.0",
      "_model_name": "SliderStyleModel",
      "_view_count": null,
      "_view_module": "@jupyter-widgets/base",
      "_view_module_version": "1.2.0",
      "_view_name": "StyleView",
      "description_width": "",
      "handle_color": null
     }
    },
    "83e13eaeee804b669bf5a84790b33c18": {
     "model_module": "@jupyter-widgets/controls",
     "model_module_version": "1.5.0",
     "model_name": "SliderStyleModel",
     "state": {
      "_model_module": "@jupyter-widgets/controls",
      "_model_module_version": "1.5.0",
      "_model_name": "SliderStyleModel",
      "_view_count": null,
      "_view_module": "@jupyter-widgets/base",
      "_view_module_version": "1.2.0",
      "_view_name": "StyleView",
      "description_width": "",
      "handle_color": null
     }
    },
    "86883951902e4698ad9cce83257e9720": {
     "model_module": "@jupyter-widgets/controls",
     "model_module_version": "1.5.0",
     "model_name": "SliderStyleModel",
     "state": {
      "_model_module": "@jupyter-widgets/controls",
      "_model_module_version": "1.5.0",
      "_model_name": "SliderStyleModel",
      "_view_count": null,
      "_view_module": "@jupyter-widgets/base",
      "_view_module_version": "1.2.0",
      "_view_name": "StyleView",
      "description_width": "",
      "handle_color": null
     }
    },
    "8a2205884cbb4e9bb91ce914a743cb90": {
     "model_module": "@jupyter-widgets/base",
     "model_module_version": "1.2.0",
     "model_name": "LayoutModel",
     "state": {
      "_model_module": "@jupyter-widgets/base",
      "_model_module_version": "1.2.0",
      "_model_name": "LayoutModel",
      "_view_count": null,
      "_view_module": "@jupyter-widgets/base",
      "_view_module_version": "1.2.0",
      "_view_name": "LayoutView",
      "align_content": null,
      "align_items": null,
      "align_self": null,
      "border": null,
      "bottom": null,
      "display": null,
      "flex": null,
      "flex_flow": null,
      "grid_area": null,
      "grid_auto_columns": null,
      "grid_auto_flow": null,
      "grid_auto_rows": null,
      "grid_column": null,
      "grid_gap": null,
      "grid_row": null,
      "grid_template_areas": null,
      "grid_template_columns": null,
      "grid_template_rows": null,
      "height": null,
      "justify_content": null,
      "justify_items": null,
      "left": null,
      "margin": null,
      "max_height": null,
      "max_width": null,
      "min_height": null,
      "min_width": null,
      "object_fit": null,
      "object_position": null,
      "order": null,
      "overflow": null,
      "overflow_x": null,
      "overflow_y": null,
      "padding": null,
      "right": null,
      "top": null,
      "visibility": null,
      "width": null
     }
    },
    "9171f02a4ea94567bd3a58f50b663d52": {
     "model_module": "@jupyter-widgets/base",
     "model_module_version": "1.2.0",
     "model_name": "LayoutModel",
     "state": {
      "_model_module": "@jupyter-widgets/base",
      "_model_module_version": "1.2.0",
      "_model_name": "LayoutModel",
      "_view_count": null,
      "_view_module": "@jupyter-widgets/base",
      "_view_module_version": "1.2.0",
      "_view_name": "LayoutView",
      "align_content": null,
      "align_items": null,
      "align_self": null,
      "border": null,
      "bottom": null,
      "display": null,
      "flex": null,
      "flex_flow": null,
      "grid_area": null,
      "grid_auto_columns": null,
      "grid_auto_flow": null,
      "grid_auto_rows": null,
      "grid_column": null,
      "grid_gap": null,
      "grid_row": null,
      "grid_template_areas": null,
      "grid_template_columns": null,
      "grid_template_rows": null,
      "height": null,
      "justify_content": null,
      "justify_items": null,
      "left": null,
      "margin": null,
      "max_height": null,
      "max_width": null,
      "min_height": null,
      "min_width": null,
      "object_fit": null,
      "object_position": null,
      "order": null,
      "overflow": null,
      "overflow_x": null,
      "overflow_y": null,
      "padding": null,
      "right": null,
      "top": null,
      "visibility": null,
      "width": null
     }
    },
    "a30e9972494b4a94985768a6fba8f958": {
     "model_module": "@jupyter-widgets/base",
     "model_module_version": "1.2.0",
     "model_name": "LayoutModel",
     "state": {
      "_model_module": "@jupyter-widgets/base",
      "_model_module_version": "1.2.0",
      "_model_name": "LayoutModel",
      "_view_count": null,
      "_view_module": "@jupyter-widgets/base",
      "_view_module_version": "1.2.0",
      "_view_name": "LayoutView",
      "align_content": null,
      "align_items": null,
      "align_self": null,
      "border": null,
      "bottom": null,
      "display": null,
      "flex": null,
      "flex_flow": null,
      "grid_area": null,
      "grid_auto_columns": null,
      "grid_auto_flow": null,
      "grid_auto_rows": null,
      "grid_column": null,
      "grid_gap": null,
      "grid_row": null,
      "grid_template_areas": null,
      "grid_template_columns": null,
      "grid_template_rows": null,
      "height": null,
      "justify_content": null,
      "justify_items": null,
      "left": null,
      "margin": null,
      "max_height": null,
      "max_width": null,
      "min_height": null,
      "min_width": null,
      "object_fit": null,
      "object_position": null,
      "order": null,
      "overflow": null,
      "overflow_x": null,
      "overflow_y": null,
      "padding": null,
      "right": null,
      "top": null,
      "visibility": null,
      "width": null
     }
    },
    "acae924940db4ad385a130f8e4a72997": {
     "model_module": "@jupyter-widgets/base",
     "model_module_version": "1.2.0",
     "model_name": "LayoutModel",
     "state": {
      "_model_module": "@jupyter-widgets/base",
      "_model_module_version": "1.2.0",
      "_model_name": "LayoutModel",
      "_view_count": null,
      "_view_module": "@jupyter-widgets/base",
      "_view_module_version": "1.2.0",
      "_view_name": "LayoutView",
      "align_content": null,
      "align_items": null,
      "align_self": null,
      "border": null,
      "bottom": null,
      "display": null,
      "flex": null,
      "flex_flow": null,
      "grid_area": null,
      "grid_auto_columns": null,
      "grid_auto_flow": null,
      "grid_auto_rows": null,
      "grid_column": null,
      "grid_gap": null,
      "grid_row": null,
      "grid_template_areas": null,
      "grid_template_columns": null,
      "grid_template_rows": null,
      "height": null,
      "justify_content": null,
      "justify_items": null,
      "left": null,
      "margin": null,
      "max_height": null,
      "max_width": null,
      "min_height": null,
      "min_width": null,
      "object_fit": null,
      "object_position": null,
      "order": null,
      "overflow": null,
      "overflow_x": null,
      "overflow_y": null,
      "padding": null,
      "right": null,
      "top": null,
      "visibility": null,
      "width": null
     }
    },
    "ae03e4d27e554cb0ac823ea38818c96c": {
     "model_module": "@jupyter-widgets/controls",
     "model_module_version": "1.5.0",
     "model_name": "VBoxModel",
     "state": {
      "_dom_classes": [
       "widget-interact"
      ],
      "_model_module": "@jupyter-widgets/controls",
      "_model_module_version": "1.5.0",
      "_model_name": "VBoxModel",
      "_view_count": null,
      "_view_module": "@jupyter-widgets/controls",
      "_view_module_version": "1.5.0",
      "_view_name": "VBoxView",
      "box_style": "",
      "children": [
       "IPY_MODEL_03602186c57c4392903ed6878ce3ca69",
       "IPY_MODEL_cfe2fa2895754263bf9504f0b69262d8",
       "IPY_MODEL_d40036e2abec459b88b7ffcf65911133",
       "IPY_MODEL_c1a7e3f78f874efc980af9147834610c"
      ],
      "layout": "IPY_MODEL_f8ac93466bf043f68714c2fbbb8bf66d"
     }
    },
    "b186e5dcf8184886b10daaa3841c00d0": {
     "model_module": "@jupyter-widgets/controls",
     "model_module_version": "1.5.0",
     "model_name": "FloatSliderModel",
     "state": {
      "_dom_classes": [],
      "_model_module": "@jupyter-widgets/controls",
      "_model_module_version": "1.5.0",
      "_model_name": "FloatSliderModel",
      "_view_count": null,
      "_view_module": "@jupyter-widgets/controls",
      "_view_module_version": "1.5.0",
      "_view_name": "FloatSliderView",
      "continuous_update": true,
      "description": "m2",
      "description_tooltip": null,
      "disabled": false,
      "layout": "IPY_MODEL_cb67208497284615bfa4fa99ce7735d6",
      "max": 4.5,
      "min": -1.5,
      "orientation": "horizontal",
      "readout": true,
      "readout_format": ".2f",
      "step": 0.1,
      "style": "IPY_MODEL_db9df6c3ac8c48fc9e9443b06b4cb2e4",
      "value": 1.5
     }
    },
    "b7e2b59f0d5b4a6fba25a442561fb522": {
     "model_module": "@jupyter-widgets/controls",
     "model_module_version": "1.5.0",
     "model_name": "IntSliderModel",
     "state": {
      "_dom_classes": [],
      "_model_module": "@jupyter-widgets/controls",
      "_model_module_version": "1.5.0",
      "_model_name": "IntSliderModel",
      "_view_count": null,
      "_view_module": "@jupyter-widgets/controls",
      "_view_module_version": "1.5.0",
      "_view_name": "IntSliderView",
      "continuous_update": true,
      "description": "c",
      "description_tooltip": null,
      "disabled": false,
      "layout": "IPY_MODEL_dfe29f4572c64252a70eaa53ceea89c2",
      "max": 3,
      "min": -1,
      "orientation": "horizontal",
      "readout": true,
      "readout_format": "d",
      "step": 1,
      "style": "IPY_MODEL_45a9b7a8b64a4191b795c7decec2ad7c",
      "value": 1
     }
    },
    "b7fcdefccb30419287f2ce9c55f7b735": {
     "model_module": "@jupyter-widgets/base",
     "model_module_version": "1.2.0",
     "model_name": "LayoutModel",
     "state": {
      "_model_module": "@jupyter-widgets/base",
      "_model_module_version": "1.2.0",
      "_model_name": "LayoutModel",
      "_view_count": null,
      "_view_module": "@jupyter-widgets/base",
      "_view_module_version": "1.2.0",
      "_view_name": "LayoutView",
      "align_content": null,
      "align_items": null,
      "align_self": null,
      "border": null,
      "bottom": null,
      "display": null,
      "flex": null,
      "flex_flow": null,
      "grid_area": null,
      "grid_auto_columns": null,
      "grid_auto_flow": null,
      "grid_auto_rows": null,
      "grid_column": null,
      "grid_gap": null,
      "grid_row": null,
      "grid_template_areas": null,
      "grid_template_columns": null,
      "grid_template_rows": null,
      "height": null,
      "justify_content": null,
      "justify_items": null,
      "left": null,
      "margin": null,
      "max_height": null,
      "max_width": null,
      "min_height": null,
      "min_width": null,
      "object_fit": null,
      "object_position": null,
      "order": null,
      "overflow": null,
      "overflow_x": null,
      "overflow_y": null,
      "padding": null,
      "right": null,
      "top": null,
      "visibility": null,
      "width": null
     }
    },
    "be171fb8b6534dc4b06beb712380a38b": {
     "model_module": "@jupyter-widgets/controls",
     "model_module_version": "1.5.0",
     "model_name": "FloatSliderModel",
     "state": {
      "_dom_classes": [],
      "_model_module": "@jupyter-widgets/controls",
      "_model_module_version": "1.5.0",
      "_model_name": "FloatSliderModel",
      "_view_count": null,
      "_view_module": "@jupyter-widgets/controls",
      "_view_module_version": "1.5.0",
      "_view_name": "FloatSliderView",
      "continuous_update": true,
      "description": "b2",
      "description_tooltip": null,
      "disabled": false,
      "layout": "IPY_MODEL_0cf3d1695217408aa04f568659f5ac19",
      "max": 4.5,
      "min": -1.5,
      "orientation": "horizontal",
      "readout": true,
      "readout_format": ".2f",
      "step": 0.1,
      "style": "IPY_MODEL_76a6ebc5731b4354a890352d4d2cbb42",
      "value": 1.5
     }
    },
    "c01963d3105b45c59ffc91db5c1d9c8d": {
     "model_module": "@jupyter-widgets/base",
     "model_module_version": "1.2.0",
     "model_name": "LayoutModel",
     "state": {
      "_model_module": "@jupyter-widgets/base",
      "_model_module_version": "1.2.0",
      "_model_name": "LayoutModel",
      "_view_count": null,
      "_view_module": "@jupyter-widgets/base",
      "_view_module_version": "1.2.0",
      "_view_name": "LayoutView",
      "align_content": null,
      "align_items": null,
      "align_self": null,
      "border": null,
      "bottom": null,
      "display": null,
      "flex": null,
      "flex_flow": null,
      "grid_area": null,
      "grid_auto_columns": null,
      "grid_auto_flow": null,
      "grid_auto_rows": null,
      "grid_column": null,
      "grid_gap": null,
      "grid_row": null,
      "grid_template_areas": null,
      "grid_template_columns": null,
      "grid_template_rows": null,
      "height": null,
      "justify_content": null,
      "justify_items": null,
      "left": null,
      "margin": null,
      "max_height": null,
      "max_width": null,
      "min_height": null,
      "min_width": null,
      "object_fit": null,
      "object_position": null,
      "order": null,
      "overflow": null,
      "overflow_x": null,
      "overflow_y": null,
      "padding": null,
      "right": null,
      "top": null,
      "visibility": null,
      "width": null
     }
    },
    "c1a7e3f78f874efc980af9147834610c": {
     "model_module": "@jupyter-widgets/output",
     "model_module_version": "1.0.0",
     "model_name": "OutputModel",
     "state": {
      "_dom_classes": [],
      "_model_module": "@jupyter-widgets/output",
      "_model_module_version": "1.0.0",
      "_model_name": "OutputModel",
      "_view_count": null,
      "_view_module": "@jupyter-widgets/output",
      "_view_module_version": "1.0.0",
      "_view_name": "OutputView",
      "layout": "IPY_MODEL_2064081864ee465bb0eae144e92cb45e",
      "msg_id": "",
      "outputs": []
     }
    },
    "c504cb9901064eb09e5dd5ba0e2eeee6": {
     "model_module": "@jupyter-widgets/controls",
     "model_module_version": "1.5.0",
     "model_name": "SliderStyleModel",
     "state": {
      "_model_module": "@jupyter-widgets/controls",
      "_model_module_version": "1.5.0",
      "_model_name": "SliderStyleModel",
      "_view_count": null,
      "_view_module": "@jupyter-widgets/base",
      "_view_module_version": "1.2.0",
      "_view_name": "StyleView",
      "description_width": "",
      "handle_color": null
     }
    },
    "c6e9ff75fbd145b1978a83b63c222c3e": {
     "model_module": "@jupyter-widgets/output",
     "model_module_version": "1.0.0",
     "model_name": "OutputModel",
     "state": {
      "_dom_classes": [],
      "_model_module": "@jupyter-widgets/output",
      "_model_module_version": "1.0.0",
      "_model_name": "OutputModel",
      "_view_count": null,
      "_view_module": "@jupyter-widgets/output",
      "_view_module_version": "1.0.0",
      "_view_name": "OutputView",
      "layout": "IPY_MODEL_6bc831533bf542ada652644d03d3d69a",
      "msg_id": "",
      "outputs": []
     }
    },
    "cb67208497284615bfa4fa99ce7735d6": {
     "model_module": "@jupyter-widgets/base",
     "model_module_version": "1.2.0",
     "model_name": "LayoutModel",
     "state": {
      "_model_module": "@jupyter-widgets/base",
      "_model_module_version": "1.2.0",
      "_model_name": "LayoutModel",
      "_view_count": null,
      "_view_module": "@jupyter-widgets/base",
      "_view_module_version": "1.2.0",
      "_view_name": "LayoutView",
      "align_content": null,
      "align_items": null,
      "align_self": null,
      "border": null,
      "bottom": null,
      "display": null,
      "flex": null,
      "flex_flow": null,
      "grid_area": null,
      "grid_auto_columns": null,
      "grid_auto_flow": null,
      "grid_auto_rows": null,
      "grid_column": null,
      "grid_gap": null,
      "grid_row": null,
      "grid_template_areas": null,
      "grid_template_columns": null,
      "grid_template_rows": null,
      "height": null,
      "justify_content": null,
      "justify_items": null,
      "left": null,
      "margin": null,
      "max_height": null,
      "max_width": null,
      "min_height": null,
      "min_width": null,
      "object_fit": null,
      "object_position": null,
      "order": null,
      "overflow": null,
      "overflow_x": null,
      "overflow_y": null,
      "padding": null,
      "right": null,
      "top": null,
      "visibility": null,
      "width": null
     }
    },
    "ce075e8dd3664efba76a4f68761c1090": {
     "model_module": "@jupyter-widgets/controls",
     "model_module_version": "1.5.0",
     "model_name": "VBoxModel",
     "state": {
      "_dom_classes": [
       "widget-interact"
      ],
      "_model_module": "@jupyter-widgets/controls",
      "_model_module_version": "1.5.0",
      "_model_name": "VBoxModel",
      "_view_count": null,
      "_view_module": "@jupyter-widgets/controls",
      "_view_module_version": "1.5.0",
      "_view_name": "VBoxView",
      "box_style": "",
      "children": [
       "IPY_MODEL_e9d0216251ed4a05bebccd09d113319a",
       "IPY_MODEL_3eb3db8becf1452fb79b54b4520e43d9",
       "IPY_MODEL_b186e5dcf8184886b10daaa3841c00d0",
       "IPY_MODEL_be171fb8b6534dc4b06beb712380a38b",
       "IPY_MODEL_c6e9ff75fbd145b1978a83b63c222c3e"
      ],
      "layout": "IPY_MODEL_dcbbde560c1f4bd6bcd7726f275dd91b"
     }
    },
    "cfe2fa2895754263bf9504f0b69262d8": {
     "model_module": "@jupyter-widgets/controls",
     "model_module_version": "1.5.0",
     "model_name": "FloatSliderModel",
     "state": {
      "_dom_classes": [],
      "_model_module": "@jupyter-widgets/controls",
      "_model_module_version": "1.5.0",
      "_model_name": "FloatSliderModel",
      "_view_count": null,
      "_view_module": "@jupyter-widgets/controls",
      "_view_module_version": "1.5.0",
      "_view_name": "FloatSliderView",
      "continuous_update": true,
      "description": "b",
      "description_tooltip": null,
      "disabled": false,
      "layout": "IPY_MODEL_b7fcdefccb30419287f2ce9c55f7b735",
      "max": 4.199999999999999,
      "min": -1.4,
      "orientation": "horizontal",
      "readout": true,
      "readout_format": ".2f",
      "step": 0.1,
      "style": "IPY_MODEL_59584f3d2c884c458ec5bfbef82c39e6",
      "value": 1.4
     }
    },
    "d40036e2abec459b88b7ffcf65911133": {
     "model_module": "@jupyter-widgets/controls",
     "model_module_version": "1.5.0",
     "model_name": "FloatSliderModel",
     "state": {
      "_dom_classes": [],
      "_model_module": "@jupyter-widgets/controls",
      "_model_module_version": "1.5.0",
      "_model_name": "FloatSliderModel",
      "_view_count": null,
      "_view_module": "@jupyter-widgets/controls",
      "_view_module_version": "1.5.0",
      "_view_name": "FloatSliderView",
      "continuous_update": true,
      "description": "c",
      "description_tooltip": null,
      "disabled": false,
      "layout": "IPY_MODEL_62e020b7e40e4045a6de2b5395570dfd",
      "max": 1.5,
      "min": -0.5,
      "orientation": "horizontal",
      "readout": true,
      "readout_format": ".2f",
      "step": 0.1,
      "style": "IPY_MODEL_dd4c00ac2373499d837026a4e8a20851",
      "value": 0.5
     }
    },
    "db9df6c3ac8c48fc9e9443b06b4cb2e4": {
     "model_module": "@jupyter-widgets/controls",
     "model_module_version": "1.5.0",
     "model_name": "SliderStyleModel",
     "state": {
      "_model_module": "@jupyter-widgets/controls",
      "_model_module_version": "1.5.0",
      "_model_name": "SliderStyleModel",
      "_view_count": null,
      "_view_module": "@jupyter-widgets/base",
      "_view_module_version": "1.2.0",
      "_view_name": "StyleView",
      "description_width": "",
      "handle_color": null
     }
    },
    "dcbbde560c1f4bd6bcd7726f275dd91b": {
     "model_module": "@jupyter-widgets/base",
     "model_module_version": "1.2.0",
     "model_name": "LayoutModel",
     "state": {
      "_model_module": "@jupyter-widgets/base",
      "_model_module_version": "1.2.0",
      "_model_name": "LayoutModel",
      "_view_count": null,
      "_view_module": "@jupyter-widgets/base",
      "_view_module_version": "1.2.0",
      "_view_name": "LayoutView",
      "align_content": null,
      "align_items": null,
      "align_self": null,
      "border": null,
      "bottom": null,
      "display": null,
      "flex": null,
      "flex_flow": null,
      "grid_area": null,
      "grid_auto_columns": null,
      "grid_auto_flow": null,
      "grid_auto_rows": null,
      "grid_column": null,
      "grid_gap": null,
      "grid_row": null,
      "grid_template_areas": null,
      "grid_template_columns": null,
      "grid_template_rows": null,
      "height": null,
      "justify_content": null,
      "justify_items": null,
      "left": null,
      "margin": null,
      "max_height": null,
      "max_width": null,
      "min_height": null,
      "min_width": null,
      "object_fit": null,
      "object_position": null,
      "order": null,
      "overflow": null,
      "overflow_x": null,
      "overflow_y": null,
      "padding": null,
      "right": null,
      "top": null,
      "visibility": null,
      "width": null
     }
    },
    "dd4c00ac2373499d837026a4e8a20851": {
     "model_module": "@jupyter-widgets/controls",
     "model_module_version": "1.5.0",
     "model_name": "SliderStyleModel",
     "state": {
      "_model_module": "@jupyter-widgets/controls",
      "_model_module_version": "1.5.0",
      "_model_name": "SliderStyleModel",
      "_view_count": null,
      "_view_module": "@jupyter-widgets/base",
      "_view_module_version": "1.2.0",
      "_view_name": "StyleView",
      "description_width": "",
      "handle_color": null
     }
    },
    "dfe29f4572c64252a70eaa53ceea89c2": {
     "model_module": "@jupyter-widgets/base",
     "model_module_version": "1.2.0",
     "model_name": "LayoutModel",
     "state": {
      "_model_module": "@jupyter-widgets/base",
      "_model_module_version": "1.2.0",
      "_model_name": "LayoutModel",
      "_view_count": null,
      "_view_module": "@jupyter-widgets/base",
      "_view_module_version": "1.2.0",
      "_view_name": "LayoutView",
      "align_content": null,
      "align_items": null,
      "align_self": null,
      "border": null,
      "bottom": null,
      "display": null,
      "flex": null,
      "flex_flow": null,
      "grid_area": null,
      "grid_auto_columns": null,
      "grid_auto_flow": null,
      "grid_auto_rows": null,
      "grid_column": null,
      "grid_gap": null,
      "grid_row": null,
      "grid_template_areas": null,
      "grid_template_columns": null,
      "grid_template_rows": null,
      "height": null,
      "justify_content": null,
      "justify_items": null,
      "left": null,
      "margin": null,
      "max_height": null,
      "max_width": null,
      "min_height": null,
      "min_width": null,
      "object_fit": null,
      "object_position": null,
      "order": null,
      "overflow": null,
      "overflow_x": null,
      "overflow_y": null,
      "padding": null,
      "right": null,
      "top": null,
      "visibility": null,
      "width": null
     }
    },
    "e35d1a2b04c54778a20d62c925dfe676": {
     "model_module": "@jupyter-widgets/controls",
     "model_module_version": "1.5.0",
     "model_name": "SliderStyleModel",
     "state": {
      "_model_module": "@jupyter-widgets/controls",
      "_model_module_version": "1.5.0",
      "_model_name": "SliderStyleModel",
      "_view_count": null,
      "_view_module": "@jupyter-widgets/base",
      "_view_module_version": "1.2.0",
      "_view_name": "StyleView",
      "description_width": "",
      "handle_color": null
     }
    },
    "e9d0216251ed4a05bebccd09d113319a": {
     "model_module": "@jupyter-widgets/controls",
     "model_module_version": "1.5.0",
     "model_name": "FloatSliderModel",
     "state": {
      "_dom_classes": [],
      "_model_module": "@jupyter-widgets/controls",
      "_model_module_version": "1.5.0",
      "_model_name": "FloatSliderModel",
      "_view_count": null,
      "_view_module": "@jupyter-widgets/controls",
      "_view_module_version": "1.5.0",
      "_view_name": "FloatSliderView",
      "continuous_update": true,
      "description": "m1",
      "description_tooltip": null,
      "disabled": false,
      "layout": "IPY_MODEL_8a2205884cbb4e9bb91ce914a743cb90",
      "max": 1.5,
      "min": -4.5,
      "orientation": "horizontal",
      "readout": true,
      "readout_format": ".2f",
      "step": 0.1,
      "style": "IPY_MODEL_7307157e900446b19322464e43f71167",
      "value": -1.5
     }
    },
    "ef54aaa62a514225bb36b7a30c4629b9": {
     "model_module": "@jupyter-widgets/base",
     "model_module_version": "1.2.0",
     "model_name": "LayoutModel",
     "state": {
      "_model_module": "@jupyter-widgets/base",
      "_model_module_version": "1.2.0",
      "_model_name": "LayoutModel",
      "_view_count": null,
      "_view_module": "@jupyter-widgets/base",
      "_view_module_version": "1.2.0",
      "_view_name": "LayoutView",
      "align_content": null,
      "align_items": null,
      "align_self": null,
      "border": null,
      "bottom": null,
      "display": null,
      "flex": null,
      "flex_flow": null,
      "grid_area": null,
      "grid_auto_columns": null,
      "grid_auto_flow": null,
      "grid_auto_rows": null,
      "grid_column": null,
      "grid_gap": null,
      "grid_row": null,
      "grid_template_areas": null,
      "grid_template_columns": null,
      "grid_template_rows": null,
      "height": null,
      "justify_content": null,
      "justify_items": null,
      "left": null,
      "margin": null,
      "max_height": null,
      "max_width": null,
      "min_height": null,
      "min_width": null,
      "object_fit": null,
      "object_position": null,
      "order": null,
      "overflow": null,
      "overflow_x": null,
      "overflow_y": null,
      "padding": null,
      "right": null,
      "top": null,
      "visibility": null,
      "width": null
     }
    },
    "f1c746db594c4b48aa5b18e7df8ef127": {
     "model_module": "@jupyter-widgets/controls",
     "model_module_version": "1.5.0",
     "model_name": "VBoxModel",
     "state": {
      "_dom_classes": [
       "widget-interact"
      ],
      "_model_module": "@jupyter-widgets/controls",
      "_model_module_version": "1.5.0",
      "_model_name": "VBoxModel",
      "_view_count": null,
      "_view_module": "@jupyter-widgets/controls",
      "_view_module_version": "1.5.0",
      "_view_name": "VBoxView",
      "box_style": "",
      "children": [
       "IPY_MODEL_1c9feccf1b9c444f9d54491913b2f546",
       "IPY_MODEL_f54a5a8c1ae74513a41e7e375214255a",
       "IPY_MODEL_fa12348c65fc48f0ae7c7de9b055e582"
      ],
      "layout": "IPY_MODEL_53d01808f3234d6198cd7ad9300b1455"
     }
    },
    "f54a5a8c1ae74513a41e7e375214255a": {
     "model_module": "@jupyter-widgets/controls",
     "model_module_version": "1.5.0",
     "model_name": "FloatSliderModel",
     "state": {
      "_dom_classes": [],
      "_model_module": "@jupyter-widgets/controls",
      "_model_module_version": "1.5.0",
      "_model_name": "FloatSliderModel",
      "_view_count": null,
      "_view_module": "@jupyter-widgets/controls",
      "_view_module_version": "1.5.0",
      "_view_name": "FloatSliderView",
      "continuous_update": true,
      "description": "b",
      "description_tooltip": null,
      "disabled": false,
      "layout": "IPY_MODEL_a30e9972494b4a94985768a6fba8f958",
      "max": 4.5,
      "min": -1.5,
      "orientation": "horizontal",
      "readout": true,
      "readout_format": ".2f",
      "step": 0.1,
      "style": "IPY_MODEL_e35d1a2b04c54778a20d62c925dfe676",
      "value": 1.5
     }
    },
    "f8ac93466bf043f68714c2fbbb8bf66d": {
     "model_module": "@jupyter-widgets/base",
     "model_module_version": "1.2.0",
     "model_name": "LayoutModel",
     "state": {
      "_model_module": "@jupyter-widgets/base",
      "_model_module_version": "1.2.0",
      "_model_name": "LayoutModel",
      "_view_count": null,
      "_view_module": "@jupyter-widgets/base",
      "_view_module_version": "1.2.0",
      "_view_name": "LayoutView",
      "align_content": null,
      "align_items": null,
      "align_self": null,
      "border": null,
      "bottom": null,
      "display": null,
      "flex": null,
      "flex_flow": null,
      "grid_area": null,
      "grid_auto_columns": null,
      "grid_auto_flow": null,
      "grid_auto_rows": null,
      "grid_column": null,
      "grid_gap": null,
      "grid_row": null,
      "grid_template_areas": null,
      "grid_template_columns": null,
      "grid_template_rows": null,
      "height": null,
      "justify_content": null,
      "justify_items": null,
      "left": null,
      "margin": null,
      "max_height": null,
      "max_width": null,
      "min_height": null,
      "min_width": null,
      "object_fit": null,
      "object_position": null,
      "order": null,
      "overflow": null,
      "overflow_x": null,
      "overflow_y": null,
      "padding": null,
      "right": null,
      "top": null,
      "visibility": null,
      "width": null
     }
    },
    "fa12348c65fc48f0ae7c7de9b055e582": {
     "model_module": "@jupyter-widgets/output",
     "model_module_version": "1.0.0",
     "model_name": "OutputModel",
     "state": {
      "_dom_classes": [],
      "_model_module": "@jupyter-widgets/output",
      "_model_module_version": "1.0.0",
      "_model_name": "OutputModel",
      "_view_count": null,
      "_view_module": "@jupyter-widgets/output",
      "_view_module_version": "1.0.0",
      "_view_name": "OutputView",
      "layout": "IPY_MODEL_177576eb62d74bc6871592d628da479d",
      "msg_id": "",
      "outputs": []
     }
    }
   }
  }
 },
 "nbformat": 4,
 "nbformat_minor": 5
}
