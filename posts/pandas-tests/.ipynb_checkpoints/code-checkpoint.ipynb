{
 "cells": [
  {
   "cell_type": "raw",
   "id": "cd116604-b97d-4209-a1ec-21e3e24a109c",
   "metadata": {},
   "source": [
    "---\n",
    "title: \"Pandas Tests\"\n",
    "subtitle: \"Backup of tests with the Pandas data manipulation tool.\"\n",
    "author: \"Afonso Matoso Magalhães\"\n",
    "date-modified: last-modified\n",
    "categories: [\"Tests\"]\n",
    "image: \"pandas-logo.png\"\n",
    "toc: true\n",
    "draft: false\n",
    "---"
   ]
  },
  {
   "cell_type": "code",
   "execution_count": 1,
   "id": "c498ae52-0d21-4614-a030-837970179c1e",
   "metadata": {},
   "outputs": [],
   "source": [
    "#| echo: false\n",
    "import pandas as pd"
   ]
  },
  {
   "cell_type": "markdown",
   "id": "f2eb0957-03a5-4d24-b4e1-4dd88f0aa9be",
   "metadata": {},
   "source": [
    "## Iterating over rows"
   ]
  },
  {
   "cell_type": "code",
   "execution_count": 11,
   "id": "8d67d3c5-ce14-45fb-9e8d-37c7a5927007",
   "metadata": {},
   "outputs": [
    {
     "name": "stdout",
     "output_type": "stream",
     "text": [
      "20.7 s ± 425 ms per loop (mean ± std. dev. of 7 runs, 1 loop each)\n",
      "357 ms ± 21.9 ms per loop (mean ± std. dev. of 7 runs, 1 loop each)\n",
      "1.87 s ± 31.2 ms per loop (mean ± std. dev. of 7 runs, 1 loop each)\n"
     ]
    }
   ],
   "source": [
    "df = pd.DataFrame(range(1000000))\n",
    "\n",
    "%timeit for _, row in df.iterrows(): ...\n",
    "%timeit for row in df.itertuples(): ...\n",
    "%timeit df.apply(lambda x: None, axis=1)"
   ]
  },
  {
   "cell_type": "markdown",
   "id": "71d25b30-a787-4e3d-a571-55adcc6ce8cb",
   "metadata": {},
   "source": [
    "- `itertuples()` is the faster way to iterate over the rows of a DF."
   ]
  },
  {
   "cell_type": "code",
   "execution_count": null,
   "id": "5c8d3bdb-69e2-4722-b71b-329b0a7c25a6",
   "metadata": {},
   "outputs": [],
   "source": []
  }
 ],
 "metadata": {
  "kernelspec": {
   "display_name": "Python 3 (ipykernel)",
   "language": "python",
   "name": "python3"
  },
  "language_info": {
   "codemirror_mode": {
    "name": "ipython",
    "version": 3
   },
   "file_extension": ".py",
   "mimetype": "text/x-python",
   "name": "python",
   "nbconvert_exporter": "python",
   "pygments_lexer": "ipython3",
   "version": "3.12.2"
  }
 },
 "nbformat": 4,
 "nbformat_minor": 5
}
