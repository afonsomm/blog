{
 "cells": [
  {
   "cell_type": "raw",
   "id": "afe0eba6-c003-42a5-95c0-d08345bd2d07",
   "metadata": {},
   "source": [
    "---\n",
    "title: \"Python for Data Analysis: Data Wrangling with pandas, NumPy, and Jupyter\"\n",
    "subtitle: \"\"\n",
    "author: \"Afonso Matoso Magalhães\"\n",
    "date-modified: last-modified\n",
    "categories: [\"books\"]\n",
    "image: \"logo.webp\"\n",
    "toc: true\n",
    "draft: false\n",
    "---"
   ]
  },
  {
   "cell_type": "code",
   "execution_count": 1,
   "id": "65754b9f-14ef-47b7-9875-a6b4148ee846",
   "metadata": {},
   "outputs": [],
   "source": [
    "import numpy as np\n",
    "import pandas as pd\n",
    "\n",
    "pd.options.display.max_columns = 20\n",
    "pd.options.display.max_rows = 20\n",
    "pd.options.display.max_colwidth = 80\n",
    "np.set_printoptions(precision=4, suppress=True)"
   ]
  },
  {
   "cell_type": "markdown",
   "id": "0293a2e6-601e-4e56-a60e-1bc9161fa7be",
   "metadata": {},
   "source": [
    "# Python"
   ]
  },
  {
   "cell_type": "code",
   "execution_count": null,
   "id": "d393c2ec-2294-466a-937c-ee7bd8bebf46",
   "metadata": {},
   "outputs": [],
   "source": []
  },
  {
   "cell_type": "code",
   "execution_count": null,
   "id": "6affd20b-7c74-4b7e-ab27-5ce0a22436ed",
   "metadata": {},
   "outputs": [],
   "source": []
  },
  {
   "cell_type": "code",
   "execution_count": null,
   "id": "57dfa504-c729-4586-9d00-35d6332dd831",
   "metadata": {},
   "outputs": [],
   "source": []
  },
  {
   "cell_type": "markdown",
   "id": "42e7eed0-7ff0-4b56-8d99-7659f17aacf8",
   "metadata": {},
   "source": [
    "# NumPy"
   ]
  },
  {
   "cell_type": "code",
   "execution_count": null,
   "id": "4191761b-d3ab-4838-9d7b-cff9b447b30e",
   "metadata": {},
   "outputs": [],
   "source": []
  },
  {
   "cell_type": "code",
   "execution_count": null,
   "id": "d16b5cc1-a0ff-464f-9854-4995685285cf",
   "metadata": {},
   "outputs": [],
   "source": []
  },
  {
   "cell_type": "code",
   "execution_count": null,
   "id": "0af96273-3f4a-41fb-ba06-e4d32729d293",
   "metadata": {},
   "outputs": [],
   "source": []
  },
  {
   "cell_type": "markdown",
   "id": "4b69b086-04e6-4fc2-9600-a8681a382d32",
   "metadata": {},
   "source": [
    "# Pandas"
   ]
  },
  {
   "cell_type": "code",
   "execution_count": null,
   "id": "d635dcb5-ffbd-4f54-8a4a-1b8235180ab1",
   "metadata": {},
   "outputs": [],
   "source": []
  },
  {
   "cell_type": "code",
   "execution_count": null,
   "id": "8711274e-e3ae-4743-8640-df0ade26edc3",
   "metadata": {},
   "outputs": [],
   "source": []
  },
  {
   "cell_type": "code",
   "execution_count": null,
   "id": "e1c0b3e2-4300-4d1f-b6dd-609063c80bf3",
   "metadata": {},
   "outputs": [],
   "source": []
  },
  {
   "cell_type": "markdown",
   "id": "84cac789-0c52-41c6-a793-17b4afd7c535",
   "metadata": {},
   "source": [
    "# Statsmodels"
   ]
  },
  {
   "cell_type": "code",
   "execution_count": null,
   "id": "eb825845-3391-4b3d-9eab-9cbdcf0f8026",
   "metadata": {},
   "outputs": [],
   "source": []
  },
  {
   "cell_type": "code",
   "execution_count": null,
   "id": "fbfda89b-bc88-4fbb-8e7e-100dbd3086b0",
   "metadata": {},
   "outputs": [],
   "source": []
  },
  {
   "cell_type": "code",
   "execution_count": null,
   "id": "05a72dce-5432-43ca-a22c-781556afffd0",
   "metadata": {},
   "outputs": [],
   "source": []
  },
  {
   "cell_type": "markdown",
   "id": "d4a5adfc-0845-4697-8bb3-5b406da9d508",
   "metadata": {},
   "source": [
    "# Scikit-Learn"
   ]
  },
  {
   "cell_type": "code",
   "execution_count": null,
   "id": "7b423d27-306b-4637-9138-49e8e38e3daf",
   "metadata": {},
   "outputs": [],
   "source": []
  },
  {
   "cell_type": "code",
   "execution_count": null,
   "id": "85b2a76b-6489-4535-ad6e-6f3016356df4",
   "metadata": {},
   "outputs": [],
   "source": []
  },
  {
   "cell_type": "code",
   "execution_count": null,
   "id": "4028e0d2-9acd-4f8a-87c8-9ddfce92b9ce",
   "metadata": {},
   "outputs": [],
   "source": []
  },
  {
   "cell_type": "code",
   "execution_count": null,
   "id": "abac7754-7b0d-4295-986c-c34260f007f3",
   "metadata": {},
   "outputs": [],
   "source": []
  }
 ],
 "metadata": {
  "kernelspec": {
   "display_name": "Python 3 (ipykernel)",
   "language": "python",
   "name": "python3"
  },
  "language_info": {
   "codemirror_mode": {
    "name": "ipython",
    "version": 3
   },
   "file_extension": ".py",
   "mimetype": "text/x-python",
   "name": "python",
   "nbconvert_exporter": "python",
   "pygments_lexer": "ipython3",
   "version": "3.12.2"
  }
 },
 "nbformat": 4,
 "nbformat_minor": 5
}
