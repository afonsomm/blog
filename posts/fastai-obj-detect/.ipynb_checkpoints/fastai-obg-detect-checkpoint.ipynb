{
 "cells": [
  {
   "cell_type": "raw",
   "id": "2b9af6ab-d5bb-4dc9-a4e0-cf51a691c163",
   "metadata": {},
   "source": [
    "---\n",
    "title: \"fastai: Object Detection\"\n",
    "subtitle: \"Application of the fastai library to the .\"\n",
    "author: \"Afonso Matoso Magalhães\"\n",
    "date-modified: last-modified\n",
    "categories: [\"deep learning\", \"image classification\"]\n",
    "image: \"logo.png\"\n",
    "toc: true\n",
    "draft: true\n",
    "---"
   ]
  },
  {
   "cell_type": "markdown",
   "id": "2cf8c1b0-7775-442c-b16b-f3e079ba7b1a",
   "metadata": {},
   "source": [
    "- Computer Vision Datasets: https://universe.roboflow.com/"
   ]
  },
  {
   "cell_type": "code",
   "execution_count": null,
   "id": "1e3dfd3c-2756-4b38-b826-56b32243887a",
   "metadata": {},
   "outputs": [],
   "source": []
  }
 ],
 "metadata": {
  "kernelspec": {
   "display_name": "Python 3 (ipykernel)",
   "language": "python",
   "name": "python3"
  },
  "language_info": {
   "codemirror_mode": {
    "name": "ipython",
    "version": 3
   },
   "file_extension": ".py",
   "mimetype": "text/x-python",
   "name": "python",
   "nbconvert_exporter": "python",
   "pygments_lexer": "ipython3",
   "version": "3.11.8"
  }
 },
 "nbformat": 4,
 "nbformat_minor": 5
}
