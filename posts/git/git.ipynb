{
 "cells": [
  {
   "cell_type": "raw",
   "id": "e7df8cfc-6aaa-42f4-b844-f378cbc700dc",
   "metadata": {},
   "source": [
    "---\n",
    "title: \"Git\"\n",
    "subtitle: \"\"\n",
    "author: \"Afonso Matoso Magalhães\"\n",
    "date-modified: last-modified\n",
    "categories: [\"courses\"]\n",
    "image: \"logo.webp\"\n",
    "toc: true\n",
    "draft: true\n",
    "---"
   ]
  },
  {
   "cell_type": "markdown",
   "id": "32c49dfb-8c90-4fc4-9cf3-8a74becc94e7",
   "metadata": {},
   "source": [
    "- https://learngitbranching.js.org\n",
    "- https://missing.csail.mit.edu/2020/version-control/"
   ]
  },
  {
   "cell_type": "markdown",
   "id": "89e8b18a-3e10-4b38-b701-1a1fa94adc60",
   "metadata": {},
   "source": [
    "### Utils"
   ]
  },
  {
   "cell_type": "code",
   "execution_count": 1,
   "id": "65de05c9-ec91-4be2-9536-54c9a1ae1539",
   "metadata": {},
   "outputs": [],
   "source": [
    "#%cd .."
   ]
  },
  {
   "cell_type": "code",
   "execution_count": 2,
   "id": "554c70a9-2d94-4749-8388-850cf7f461c3",
   "metadata": {},
   "outputs": [],
   "source": [
    "!rm -rf example/"
   ]
  },
  {
   "cell_type": "markdown",
   "id": "e894f69c-452f-4290-80c1-a060a5ce2fdc",
   "metadata": {},
   "source": [
    "### Actual Post"
   ]
  },
  {
   "cell_type": "markdown",
   "id": "5a6d93ec-2070-4aea-9b4f-abdd71a24bfa",
   "metadata": {},
   "source": [
    "Let's get to the same stage as the beginning of the game.\n",
    "\n",
    "- First, we need to create a local git repository:"
   ]
  },
  {
   "cell_type": "code",
   "execution_count": 3,
   "id": "2b2f88b0-83e1-49de-bc5f-4910059ea192",
   "metadata": {},
   "outputs": [
    {
     "name": "stdout",
     "output_type": "stream",
     "text": [
      "/Users/afonsomm/blog/posts/git/example\n",
      "total 0\n",
      "drwxr-xr-x@ 2 afonsomm  staff   64 Apr  9 10:42 \u001b[1m\u001b[36m.\u001b[m\u001b[m\n",
      "drwxr-xr-x  8 afonsomm  staff  256 Apr  9 10:42 \u001b[1m\u001b[36m..\u001b[m\u001b[m\n",
      "Initialized empty Git repository in /Users/afonsomm/blog/posts/git/example/.git/\n"
     ]
    }
   ],
   "source": [
    "!mkdir example\n",
    "%cd example\n",
    "!ls -la; git init"
   ]
  },
  {
   "cell_type": "markdown",
   "id": "fd4ec495-c367-4b7d-8bed-9b9b55a689e5",
   "metadata": {},
   "source": [
    "- Here, we created a directory `example` with an empty git repository.\n",
    "\n",
    ">- *Sidenote*: In notebooks, the syntax `!command` opens a new shell in a different process, executes the command in that shell, and terminates the process running it right after, while the '%command' syntax is used for *magic commands*, which are specified by the IPython kernel, including some shell commands such as `cd`, and also timing commands, plotting, etc. If we want to change to a given directory in a lasting way, we need to run the `%command`, since with the `!command`, the current process will be unchanged, and the directory is changed on the newly created one, which also terminates right after command execution is over.\n",
    "\n",
    "- Now let's add our first change to the repository:"
   ]
  },
  {
   "cell_type": "code",
   "execution_count": 4,
   "id": "0f956908-ad4e-45e7-b5fa-397f92b471b1",
   "metadata": {},
   "outputs": [
    {
     "name": "stdout",
     "output_type": "stream",
     "text": [
      "[main (root-commit) d8a3b49] Initial Commit\n",
      " 1 file changed, 1 insertion(+)\n",
      " create mode 100644 file.txt\n"
     ]
    }
   ],
   "source": [
    "!echo \"hello world\" >> file.txt; git add file.txt; git commit -m \"Initial Commit\""
   ]
  },
  {
   "cell_type": "markdown",
   "id": "5b92c90f-5a20-4d63-b8de-370cb23a80ff",
   "metadata": {},
   "source": [
    "- Here, we created a text file `file.txt` with the content \"hello world\". Then we **staged** that file using the `git add` command, which means add the mentioned changed files/directories (in this case `file.txt`) in their current state to the list of changes to be commited. Finally, we used the `git commit` command to take a **snapshot** of all the tracked files in our working directory (i.e., the one where `.git` is located, in this case `./example`)."
   ]
  },
  {
   "cell_type": "code",
   "execution_count": 5,
   "id": "f66e2205-52f9-4e4b-8d5e-4e707928c7e6",
   "metadata": {},
   "outputs": [
    {
     "name": "stdout",
     "output_type": "stream",
     "text": [
      "* \u001b[33mcommit d8a3b498035d6f26f980698245570acf6f9fcb70\u001b[m\u001b[33m (\u001b[m\u001b[1;36mHEAD -> \u001b[m\u001b[1;32mmain\u001b[m\u001b[33m)\u001b[m\n",
      "  Author: Afonso Matoso Magalhães <afonsomm98@gmail.com>\n",
      "  Date:   Tue Apr 9 10:42:07 2024 +0100\n",
      "  \n",
      "      Initial Commit\n"
     ]
    }
   ],
   "source": [
    "!git log --all --graph --decorate"
   ]
  },
  {
   "cell_type": "markdown",
   "id": "c89a9a47-dd63-4873-978c-d9693ed936a1",
   "metadata": {},
   "source": [
    "- The `git log` command allows us to see the full history of commits for the current **branch** we are in (in this case `main`). A branch is a pointer to a given commit. If we add the `--all` flag, we print out the commit history for every branch. With the `--graph` flag, we visualize the commits with dashed lines indicating what is/are the previous commit(s) a given commit depends on, meaning what are its parent commits. With the `--decorate` flag, we give some colors to the output and also print out to which *commit* each branch is pointing to, and also which *commit* we are currently **checking out**, defined by the *HEAD* pointer.\n",
    "\n",
    ">- *Sidenote*: when the *HEAD* pointer is not pointing to the same commit where a *branch* is pointing to, then it is called **detached (HEAD)**."
   ]
  },
  {
   "cell_type": "code",
   "execution_count": 6,
   "id": "56d31519-8e68-4261-a0d1-1bd723e844b4",
   "metadata": {},
   "outputs": [
    {
     "name": "stdout",
     "output_type": "stream",
     "text": [
      "[main 7755dd8] file.txt change\n",
      " 1 file changed, 1 insertion(+)\n"
     ]
    }
   ],
   "source": [
    "!echo \"hello world changed\" >> file.txt; git add file.txt; git commit -m \"file.txt change\""
   ]
  },
  {
   "cell_type": "code",
   "execution_count": 11,
   "id": "04fc6c27-3a56-4100-ac9c-70e508e2f2e8",
   "metadata": {},
   "outputs": [
    {
     "name": "stdout",
     "output_type": "stream",
     "text": [
      "* \u001b[33mcommit 7755dd8a44abf3f8fcaf36720e99649623681a89\u001b[m\u001b[33m (\u001b[m\u001b[1;36mHEAD -> \u001b[m\u001b[1;32mmain\u001b[m\u001b[33m)\u001b[m\n",
      "\u001b[31m|\u001b[m Author: Afonso Matoso Magalhães <afonsomm98@gmail.com>\n",
      "\u001b[31m|\u001b[m Date:   Tue Apr 9 10:54:15 2024 +0100\n",
      "\u001b[31m|\u001b[m \n",
      "\u001b[31m|\u001b[m     file.txt change\n",
      "\u001b[31m|\u001b[m \n",
      "* \u001b[33mcommit d8a3b498035d6f26f980698245570acf6f9fcb70\u001b[m\n",
      "  Author: Afonso Matoso Magalhães <afonsomm98@gmail.com>\n",
      "  Date:   Tue Apr 9 10:42:07 2024 +0100\n",
      "  \n",
      "      Initial Commit\n"
     ]
    }
   ],
   "source": [
    "!git log --all --graph --decorate"
   ]
  },
  {
   "cell_type": "code",
   "execution_count": null,
   "id": "0b1f5ce8-5338-49cc-a29f-f587551e7dff",
   "metadata": {},
   "outputs": [],
   "source": []
  },
  {
   "cell_type": "code",
   "execution_count": null,
   "id": "d356c394-c7ec-4a04-ad97-fa3702225d1c",
   "metadata": {},
   "outputs": [],
   "source": []
  },
  {
   "cell_type": "code",
   "execution_count": null,
   "id": "54e22a53-6c56-4047-ad3c-adfe764281d5",
   "metadata": {},
   "outputs": [],
   "source": []
  },
  {
   "cell_type": "code",
   "execution_count": null,
   "id": "bdde74aa-c4bc-4ba9-9a89-9071ac115871",
   "metadata": {},
   "outputs": [],
   "source": []
  },
  {
   "cell_type": "code",
   "execution_count": null,
   "id": "d0f16a6a-1f12-4cdd-8535-1b4afa117b86",
   "metadata": {},
   "outputs": [],
   "source": []
  },
  {
   "cell_type": "code",
   "execution_count": null,
   "id": "41676a4d-2124-4c15-ab0e-1a527294e668",
   "metadata": {},
   "outputs": [],
   "source": []
  },
  {
   "cell_type": "markdown",
   "id": "ade71e68-fcd9-4dee-9aeb-bff52bf62fc5",
   "metadata": {},
   "source": [
    "# Backup"
   ]
  },
  {
   "cell_type": "markdown",
   "id": "f051b51d-c3f6-424c-82fd-7db6e90d3a9e",
   "metadata": {},
   "source": [
    "- When building a project, we have a base/`root` folder where everything for that project is stored. We may want to store an history of versions for that project, for instance to publish stable version and keep improving it with new features or fixing errors. For that, we could simply save a `snapshot` of the stable version, and keep building on the current working directory. However, we may want to save the complete history of a project to, say, roll back to a previous version and start rebuilding the project from there, because the current one is already too complex, or, even, to colaborate with other people, allowing them to work on different things in parallel in an isolated manner, and then merge all the changes into the main project. To do that productively, we need a Version Control System (VCS).\n",
    "\n",
    "- A VCS ..."
   ]
  },
  {
   "cell_type": "markdown",
   "id": "449bc7ea-69fb-457f-ab69-0cb0a9238977",
   "metadata": {},
   "source": [
    "## Data Model"
   ]
  },
  {
   "cell_type": "markdown",
   "id": "cf10b631-86d7-4511-abc0-bb1cc8d7b70f",
   "metadata": {},
   "source": [
    "- In Git, everything is stored in disk as an `object` or a `reference`. The `object` corresponds to a mapping between a unique `id` and ...\n",
    "\n"
   ]
  },
  {
   "cell_type": "code",
   "execution_count": 4,
   "id": "df97318a-7a93-4c6f-bf0e-e7662a1d9042",
   "metadata": {},
   "outputs": [
    {
     "name": "stdout",
     "output_type": "stream",
     "text": [
      "usage: git [-v | --version] [-h | --help] [-C <path>] [-c <name>=<value>]\n",
      "           [--exec-path[=<path>]] [--html-path] [--man-path] [--info-path]\n",
      "           [-p | --paginate | -P | --no-pager] [--no-replace-objects] [--bare]\n",
      "           [--git-dir=<path>] [--work-tree=<path>] [--namespace=<name>]\n",
      "           [--super-prefix=<path>] [--config-env=<name>=<envvar>]\n",
      "           <command> [<args>]\n",
      "\n",
      "These are common Git commands used in various situations:\n",
      "\n",
      "start a working area (see also: git help tutorial)\n",
      "   clone     Clone a repository into a new directory\n",
      "   init      Create an empty Git repository or reinitialize an existing one\n",
      "\n",
      "work on the current change (see also: git help everyday)\n",
      "   add       Add file contents to the index\n",
      "   mv        Move or rename a file, a directory, or a symlink\n",
      "   restore   Restore working tree files\n",
      "   rm        Remove files from the working tree and from the index\n",
      "\n",
      "examine the history and state (see also: git help revisions)\n",
      "   bisect    Use binary search to find the commit that introduced a bug\n",
      "   diff      Show changes between commits, commit and working tree, etc\n",
      "   grep      Print lines matching a pattern\n",
      "   log       Show commit logs\n",
      "   show      Show various types of objects\n",
      "   status    Show the working tree status\n",
      "\n",
      "grow, mark and tweak your common history\n",
      "   branch    List, create, or delete branches\n",
      "   commit    Record changes to the repository\n",
      "   merge     Join two or more development histories together\n",
      "   rebase    Reapply commits on top of another base tip\n",
      "   reset     Reset current HEAD to the specified state\n",
      "   switch    Switch branches\n",
      "   tag       Create, list, delete or verify a tag object signed with GPG\n",
      "\n",
      "collaborate (see also: git help workflows)\n",
      "   fetch     Download objects and refs from another repository\n",
      "   pull      Fetch from and integrate with another repository or a local branch\n",
      "   push      Update remote refs along with associated objects\n",
      "\n",
      "'git help -a' and 'git help -g' list available subcommands and some\n",
      "concept guides. See 'git help <command>' or 'git help <concept>'\n",
      "to read about a specific subcommand or concept.\n",
      "See 'git help git' for an overview of the system.\n"
     ]
    }
   ],
   "source": [
    "!git --help"
   ]
  },
  {
   "cell_type": "code",
   "execution_count": null,
   "id": "b5c484ca-5e8a-4c21-8800-a93a138c18a5",
   "metadata": {},
   "outputs": [],
   "source": []
  },
  {
   "cell_type": "markdown",
   "id": "ca3a431d-fd93-4bc5-80b8-42569e9e957e",
   "metadata": {},
   "source": [
    "## Local Repo"
   ]
  },
  {
   "cell_type": "code",
   "execution_count": 16,
   "id": "6a2a6286-eb59-485c-96d0-e5a8fdc2b1f8",
   "metadata": {},
   "outputs": [
    {
     "name": "stdout",
     "output_type": "stream",
     "text": [
      "/Users/afonsomm/blog/posts/git/example/repo_local\n"
     ]
    }
   ],
   "source": [
    "!mkdir -p example/repo_local\n",
    "%cd example/repo_local"
   ]
  },
  {
   "cell_type": "code",
   "execution_count": 18,
   "id": "0e980233-3799-448b-81b9-11f702d329c7",
   "metadata": {},
   "outputs": [
    {
     "name": "stdout",
     "output_type": "stream",
     "text": [
      "Initialized empty Git repository in /Users/afonsomm/blog/posts/git/example/repo_local/.git/\n"
     ]
    }
   ],
   "source": [
    "!git init"
   ]
  },
  {
   "cell_type": "code",
   "execution_count": 19,
   "id": "bacd7522-797c-46a3-9baf-9f9ab3dc74f3",
   "metadata": {},
   "outputs": [
    {
     "name": "stdout",
     "output_type": "stream",
     "text": [
      "\u001b[1m\u001b[36m.\u001b[m\u001b[m    \u001b[1m\u001b[36m..\u001b[m\u001b[m   \u001b[1m\u001b[36m.git\u001b[m\u001b[m\n"
     ]
    }
   ],
   "source": [
    "!ls -a"
   ]
  },
  {
   "cell_type": "markdown",
   "id": "ead56c90-c9d5-48fa-89f1-4f3aebcba5da",
   "metadata": {},
   "source": [
    "## Colaborating"
   ]
  },
  {
   "cell_type": "code",
   "execution_count": null,
   "id": "129e1414-8ab8-48e5-aedc-67e021cfc610",
   "metadata": {},
   "outputs": [],
   "source": []
  },
  {
   "cell_type": "code",
   "execution_count": null,
   "id": "17d3ad87-b207-4f88-8aec-951412dd7d8e",
   "metadata": {},
   "outputs": [],
   "source": []
  },
  {
   "cell_type": "code",
   "execution_count": null,
   "id": "a2ccada8-18e9-4c1c-b10d-1f74b2f12e68",
   "metadata": {},
   "outputs": [],
   "source": []
  }
 ],
 "metadata": {
  "kernelspec": {
   "display_name": "Python 3 (ipykernel)",
   "language": "python",
   "name": "python3"
  },
  "language_info": {
   "codemirror_mode": {
    "name": "ipython",
    "version": 3
   },
   "file_extension": ".py",
   "mimetype": "text/x-python",
   "name": "python",
   "nbconvert_exporter": "python",
   "pygments_lexer": "ipython3",
   "version": "3.12.2"
  }
 },
 "nbformat": 4,
 "nbformat_minor": 5
}
