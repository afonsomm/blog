{
 "cells": [
  {
   "cell_type": "raw",
   "id": "e7df8cfc-6aaa-42f4-b844-f378cbc700dc",
   "metadata": {},
   "source": [
    "---\n",
    "title: \"Git\"\n",
    "subtitle: \"Pratical Git Tutorial.\"\n",
    "author: \"Afonso Matoso Magalhães\"\n",
    "date-modified: last-modified\n",
    "categories: [\"courses\"]\n",
    "image: \"logo.png\"\n",
    "toc: true\n",
    "draft: false\n",
    "---"
   ]
  },
  {
   "cell_type": "markdown",
   "id": "32c49dfb-8c90-4fc4-9cf3-8a74becc94e7",
   "metadata": {},
   "source": [
    "This post follows the [Learning Git Branching](https://learngitbranching.js.org) game, in which we use git commands to reach the desired state for the git repository at each level.\n",
    "\n",
    "::: {.content-hidden}\n",
    "- https://missing.csail.mit.edu/2020/version-control/\n",
    "- https://xosh.org/explain-git-in-simple-words/\n",
    ":::"
   ]
  },
  {
   "cell_type": "markdown",
   "id": "5a6d93ec-2070-4aea-9b4f-abdd71a24bfa",
   "metadata": {},
   "source": [
    "Let's get to the same stage as the beginning of the game.\n",
    "\n",
    "- First, we need to create a local git repository:"
   ]
  },
  {
   "cell_type": "code",
   "execution_count": null,
   "id": "2b2f88b0-83e1-49de-bc5f-4910059ea192",
   "metadata": {},
   "outputs": [
    {
     "name": "stdout",
     "output_type": "stream",
     "text": [
      "/Users/afonsomm/blog/posts/git/example\n",
      "total 0\n",
      "drwxr-xr-x@ 2 afonsomm  staff   64 Apr 16 11:44 \u001b[1m\u001b[36m.\u001b[m\u001b[m\n",
      "drwxr-xr-x  8 afonsomm  staff  256 Apr 16 11:44 \u001b[1m\u001b[36m..\u001b[m\u001b[m\n",
      "Initialized empty Git repository in /Users/afonsomm/blog/posts/git/example/.git/\n"
     ]
    }
   ],
   "source": [
    "!mkdir example\n",
    "%cd example\n",
    "!ls -la; git init"
   ]
  },
  {
   "cell_type": "markdown",
   "id": "fd4ec495-c367-4b7d-8bed-9b9b55a689e5",
   "metadata": {},
   "source": [
    "- We created a directory \"example\" with an empty git repository (using the `git init` command).\n",
    "\n",
    ">- *Sidenote*: In notebooks, the syntax `!command` opens a new shell in a different process, executes the command in that shell, and terminates the process running it right after, while the `%command` syntax is used for *magic commands*, which are specified by the IPython kernel, including some shell commands such as `cd`, and also timing commands, plotting, etc. Suppose we want to change to a given directory in a lasting way. In that case, we need to run the `%command`, since with the `!command`, the current process will be unchanged, and the directory is changed on the newly created one, which also terminates right after command execution is over.\n",
    "\n",
    "- Now, let's add our first change to the repository:"
   ]
  },
  {
   "cell_type": "code",
   "execution_count": null,
   "id": "0f956908-ad4e-45e7-b5fa-397f92b471b1",
   "metadata": {},
   "outputs": [
    {
     "name": "stdout",
     "output_type": "stream",
     "text": [
      "[main (root-commit) 4abe474] C0\n",
      " 1 file changed, 1 insertion(+)\n",
      " create mode 100644 file.txt\n"
     ]
    }
   ],
   "source": [
    "!echo \"hello world\" >> file.txt; git add file.txt; git commit -m \"C0\""
   ]
  },
  {
   "cell_type": "markdown",
   "id": "5b92c90f-5a20-4d63-b8de-370cb23a80ff",
   "metadata": {},
   "source": [
    "- Here, we created a text file \"file.txt\" containing \"hello world\". Then we **staged** that file using the `git add` command, which means \"add the mentioned changed files/directories (in this case \"file.txt\") in their current state to the list of changes to be commited\". Finally, we used the `git commit` command to take a **snapshot** of all the tracked files in our working directory (i.e., the one where \".git\" is located, in this case, \"./example\")."
   ]
  },
  {
   "cell_type": "code",
   "execution_count": null,
   "id": "f66e2205-52f9-4e4b-8d5e-4e707928c7e6",
   "metadata": {},
   "outputs": [
    {
     "name": "stdout",
     "output_type": "stream",
     "text": [
      "* \u001b[33mcommit 4abe4740bdd9598bd5c7cc79a987dd5f0554c770\u001b[m\u001b[33m (\u001b[m\u001b[1;36mHEAD -> \u001b[m\u001b[1;32mmain\u001b[m\u001b[33m)\u001b[m\n",
      "  Author: Afonso Matoso Magalhães <afonsomm98@gmail.com>\n",
      "  Date:   Tue Apr 16 11:44:37 2024 +0100\n",
      "  \n",
      "      C0\n"
     ]
    }
   ],
   "source": [
    "!git log --all --graph --decorate"
   ]
  },
  {
   "cell_type": "markdown",
   "id": "c89a9a47-dd63-4873-978c-d9693ed936a1",
   "metadata": {},
   "source": [
    "- The `git log` command allows us to see the entire history of commits for the current **branch** we are in (in this case, \"main\"). A branch is a pointer to a given commit. If we add the `--all` flag, we print out the commit history for every branch. With the `--graph` flag, we visualize the commits with dashed lines indicating what is/are the previous commit(s) a given commit depends on, meaning what are its ancestor commits. With the `--decorate` flag, we give some colors to the output and print out to which *commit* each branch is pointing and which *commit* we are currently **checking out**, defined by the *HEAD* pointer. However, for new versions of git, using this flag does not make a difference in the output.\n",
    "\n",
    ">- *Sidenote*: when the *HEAD* pointer is not pointing to the same commit where a *branch* is pointing to, then it is called **detached (HEAD)**."
   ]
  },
  {
   "cell_type": "code",
   "execution_count": null,
   "id": "56d31519-8e68-4261-a0d1-1bd723e844b4",
   "metadata": {},
   "outputs": [
    {
     "name": "stdout",
     "output_type": "stream",
     "text": [
      "[main d6f8c4c] C1\n",
      " 1 file changed, 1 insertion(+)\n"
     ]
    }
   ],
   "source": [
    "!echo \"hello world changed\" >> file.txt; git add file.txt; git commit -m \"C1\""
   ]
  },
  {
   "cell_type": "code",
   "execution_count": null,
   "id": "04fc6c27-3a56-4100-ac9c-70e508e2f2e8",
   "metadata": {},
   "outputs": [
    {
     "name": "stdout",
     "output_type": "stream",
     "text": [
      "* \u001b[33mcommit d6f8c4ce16a5db9489f3633584a1e149f7c0ddbd\u001b[m\u001b[33m (\u001b[m\u001b[1;36mHEAD -> \u001b[m\u001b[1;32mmain\u001b[m\u001b[33m)\u001b[m\n",
      "\u001b[31m|\u001b[m Author: Afonso Matoso Magalhães <afonsomm98@gmail.com>\n",
      "\u001b[31m|\u001b[m Date:   Tue Apr 16 11:44:38 2024 +0100\n",
      "\u001b[31m|\u001b[m \n",
      "\u001b[31m|\u001b[m     C1\n",
      "\u001b[31m|\u001b[m \n",
      "* \u001b[33mcommit 4abe4740bdd9598bd5c7cc79a987dd5f0554c770\u001b[m\n",
      "  Author: Afonso Matoso Magalhães <afonsomm98@gmail.com>\n",
      "  Date:   Tue Apr 16 11:44:37 2024 +0100\n",
      "  \n",
      "      C0\n"
     ]
    }
   ],
   "source": [
    "!git log --all --graph --decorate"
   ]
  },
  {
   "cell_type": "markdown",
   "id": "9d192cc4-eb2f-4767-b62d-daf8c4fde974",
   "metadata": {},
   "source": [
    "### Level 1"
   ]
  },
  {
   "cell_type": "markdown",
   "id": "5fdf169b-aa0f-4ee7-90b6-c49f3b697993",
   "metadata": {},
   "source": [
    "- To accomplish this level, we need to make a change in the working directory, stage that change, and commit it 2 times:"
   ]
  },
  {
   "cell_type": "code",
   "execution_count": null,
   "id": "0b1f5ce8-5338-49cc-a29f-f587551e7dff",
   "metadata": {},
   "outputs": [
    {
     "name": "stdout",
     "output_type": "stream",
     "text": [
      "[main eadba0c] C2\n",
      " 1 file changed, 1 insertion(+)\n",
      "[main aa84653] C3\n",
      " 1 file changed, 1 insertion(+)\n"
     ]
    }
   ],
   "source": [
    "!echo \"hello world changed 1\" >> file.txt; git add file.txt; git commit -m \"C2\"\n",
    "!echo \"hello world changed 2\" >> file.txt; git add file.txt; git commit -m \"C3\""
   ]
  },
  {
   "cell_type": "code",
   "execution_count": null,
   "id": "d356c394-c7ec-4a04-ad97-fa3702225d1c",
   "metadata": {},
   "outputs": [
    {
     "name": "stdout",
     "output_type": "stream",
     "text": [
      "* \u001b[33mcommit aa84653c82524cf76c3b0e14604469c4e89c7a2f\u001b[m\u001b[33m (\u001b[m\u001b[1;36mHEAD -> \u001b[m\u001b[1;32mmain\u001b[m\u001b[33m)\u001b[m\n",
      "\u001b[31m|\u001b[m Author: Afonso Matoso Magalhães <afonsomm98@gmail.com>\n",
      "\u001b[31m|\u001b[m Date:   Tue Apr 16 11:44:40 2024 +0100\n",
      "\u001b[31m|\u001b[m \n",
      "\u001b[31m|\u001b[m     C3\n",
      "\u001b[31m|\u001b[m \n",
      "* \u001b[33mcommit eadba0c6cff8bebc16b48ae50b09a574eb0c0e37\u001b[m\n",
      "\u001b[31m|\u001b[m Author: Afonso Matoso Magalhães <afonsomm98@gmail.com>\n",
      "\u001b[31m|\u001b[m Date:   Tue Apr 16 11:44:40 2024 +0100\n",
      "\u001b[31m|\u001b[m \n",
      "\u001b[31m|\u001b[m     C2\n",
      "\u001b[31m|\u001b[m \n",
      "* \u001b[33mcommit d6f8c4ce16a5db9489f3633584a1e149f7c0ddbd\u001b[m\n",
      "\u001b[31m|\u001b[m Author: Afonso Matoso Magalhães <afonsomm98@gmail.com>\n",
      "\u001b[31m|\u001b[m Date:   Tue Apr 16 11:44:38 2024 +0100\n",
      "\u001b[31m|\u001b[m \n",
      "\u001b[31m|\u001b[m     C1\n",
      "\u001b[31m|\u001b[m \n",
      "* \u001b[33mcommit 4abe4740bdd9598bd5c7cc79a987dd5f0554c770\u001b[m\n",
      "  Author: Afonso Matoso Magalhães <afonsomm98@gmail.com>\n",
      "  Date:   Tue Apr 16 11:44:37 2024 +0100\n",
      "  \n",
      "      C0\n"
     ]
    }
   ],
   "source": [
    "!git log --all --graph --decorate"
   ]
  },
  {
   "cell_type": "code",
   "execution_count": null,
   "id": "08c84843-3ca0-4120-8f82-444b92e3121e",
   "metadata": {},
   "outputs": [
    {
     "name": "stdout",
     "output_type": "stream",
     "text": [
      "hello world\n",
      "hello world changed\n",
      "hello world changed 1\n",
      "hello world changed 2\n"
     ]
    }
   ],
   "source": [
    "!cat file.txt"
   ]
  },
  {
   "cell_type": "markdown",
   "id": "1cca099e-5db2-498a-b3b7-0aa1f1835070",
   "metadata": {},
   "source": [
    "### Level 2"
   ]
  },
  {
   "cell_type": "markdown",
   "id": "85a2fbab-d3cb-4252-a255-4b574d51156f",
   "metadata": {},
   "source": [
    "- Now we need to get back to the 2 commit state of our repository, as we were at the beginning of level 1. To do that, we have to roll back to the \"C1\" commit and throw away the subsequent ones (\"C2\" and \"C3\"). We can do that using the `git reset <commit-id>` command and we can execute in three main ways:\n",
    "    - Using the `--soft` flag which moves the branch where HEAD is pointing to the specified commit, but keeps the Index and Working Directory intact, meaning the changes made after the specified commit are staged but not commited.\n",
    "    - Using the `--mixed` flag (default), which also updates the **Index** (the proposed next commit) with the contents of that commit, but does not update the Working Directory, so we need to specify which changes we want to stage.\n",
    "    - Using the `--hard` flag, which also updates the Working Directory, meaning the changes made in subsequent commits after the one specified are thrown away, for the current branch (where HEAD is pointing to). In this case, if we reset to commit \"C1\" while HEAD is pointing to \"main\", since no other branches are pointing to subsequent commits after \"C1\", these become untracked and so are completely thrown away, which is what we want. \n",
    "\n",
    ">- *Sidenote*: The Index is a file (\".git/index\") that has the file contents that were checked out into the working directory (1) and what they looked like when they were initially checked out (2). When we change and stage a file using the `git add` command, we replace its contents in (1) with its new version. The following `git commit` command will use this Index to create a new snapshot of the working directory.\n",
    ">- *Sidenote*: To reset to the HEAD's parent commit, we use `git reset HEAD~`."
   ]
  },
  {
   "cell_type": "code",
   "execution_count": null,
   "id": "e25bbd60-3ce8-452c-bc72-0fe05f382e23",
   "metadata": {},
   "outputs": [
    {
     "name": "stdout",
     "output_type": "stream",
     "text": [
      "fatal: Could not parse object 'b20af6721a6a78e3e3077c3c021b345f39f00fac'.\n",
      "* \u001b[33mcommit aa84653c82524cf76c3b0e14604469c4e89c7a2f\u001b[m\u001b[33m (\u001b[m\u001b[1;36mHEAD -> \u001b[m\u001b[1;32mmain\u001b[m\u001b[33m)\u001b[m\n",
      "\u001b[31m|\u001b[m Author: Afonso Matoso Magalhães <afonsomm98@gmail.com>\n",
      "\u001b[31m|\u001b[m Date:   Tue Apr 16 11:44:40 2024 +0100\n",
      "\u001b[31m|\u001b[m \n",
      "\u001b[31m|\u001b[m     C3\n",
      "\u001b[31m|\u001b[m \n",
      "* \u001b[33mcommit eadba0c6cff8bebc16b48ae50b09a574eb0c0e37\u001b[m\n",
      "\u001b[31m|\u001b[m Author: Afonso Matoso Magalhães <afonsomm98@gmail.com>\n",
      "\u001b[31m|\u001b[m Date:   Tue Apr 16 11:44:40 2024 +0100\n",
      "\u001b[31m|\u001b[m \n",
      "\u001b[31m|\u001b[m     C2\n",
      "\u001b[31m|\u001b[m \n",
      "* \u001b[33mcommit d6f8c4ce16a5db9489f3633584a1e149f7c0ddbd\u001b[m\n",
      "\u001b[31m|\u001b[m Author: Afonso Matoso Magalhães <afonsomm98@gmail.com>\n",
      "\u001b[31m|\u001b[m Date:   Tue Apr 16 11:44:38 2024 +0100\n",
      "\u001b[31m|\u001b[m \n",
      "\u001b[31m|\u001b[m     C1\n",
      "\u001b[31m|\u001b[m \n",
      "* \u001b[33mcommit 4abe4740bdd9598bd5c7cc79a987dd5f0554c770\u001b[m\n",
      "  Author: Afonso Matoso Magalhães <afonsomm98@gmail.com>\n",
      "  Date:   Tue Apr 16 11:44:37 2024 +0100\n",
      "  \n",
      "      C0\n",
      "hello world\n",
      "hello world changed\n",
      "hello world changed 1\n",
      "hello world changed 2\n"
     ]
    }
   ],
   "source": [
    "!git reset --hard b20af6721a6a78e3e3077c3c021b345f39f00fac\n",
    "!git log --all --graph\n",
    "!cat file.txt"
   ]
  },
  {
   "cell_type": "markdown",
   "id": "bbf0b90b-2872-4a61-a55a-d938d762c383",
   "metadata": {},
   "source": [
    "- To complete this level, we create a new *branch* (using `git branch`) and then *check it out* (using `git checkout`), meaning we tell git to point *HEAD* to the *main branch*. This will populate the *Index* with the *commit* content where *main* is pointing and then update the working directory.\n",
    "\n",
    ">- Sidenote: we can create a *branch* and *check it out* using the command `git checkout -b <name-of-branch>`. "
   ]
  },
  {
   "cell_type": "code",
   "execution_count": null,
   "id": "4c522d1d-0cb8-46b9-b3fe-55f727c643f9",
   "metadata": {},
   "outputs": [
    {
     "name": "stdout",
     "output_type": "stream",
     "text": [
      "Switched to branch 'bugFix'\n",
      "* \u001b[33mcommit aa84653c82524cf76c3b0e14604469c4e89c7a2f\u001b[m\u001b[33m (\u001b[m\u001b[1;36mHEAD -> \u001b[m\u001b[1;32mbugFix\u001b[m\u001b[33m, \u001b[m\u001b[1;32mmain\u001b[m\u001b[33m)\u001b[m\n",
      "\u001b[31m|\u001b[m Author: Afonso Matoso Magalhães <afonsomm98@gmail.com>\n",
      "\u001b[31m|\u001b[m Date:   Tue Apr 16 11:44:40 2024 +0100\n",
      "\u001b[31m|\u001b[m \n",
      "\u001b[31m|\u001b[m     C3\n",
      "\u001b[31m|\u001b[m \n",
      "* \u001b[33mcommit eadba0c6cff8bebc16b48ae50b09a574eb0c0e37\u001b[m\n",
      "\u001b[31m|\u001b[m Author: Afonso Matoso Magalhães <afonsomm98@gmail.com>\n",
      "\u001b[31m|\u001b[m Date:   Tue Apr 16 11:44:40 2024 +0100\n",
      "\u001b[31m|\u001b[m \n",
      "\u001b[31m|\u001b[m     C2\n",
      "\u001b[31m|\u001b[m \n",
      "* \u001b[33mcommit d6f8c4ce16a5db9489f3633584a1e149f7c0ddbd\u001b[m\n",
      "\u001b[31m|\u001b[m Author: Afonso Matoso Magalhães <afonsomm98@gmail.com>\n",
      "\u001b[31m|\u001b[m Date:   Tue Apr 16 11:44:38 2024 +0100\n",
      "\u001b[31m|\u001b[m \n",
      "\u001b[31m|\u001b[m     C1\n",
      "\u001b[31m|\u001b[m \n",
      "* \u001b[33mcommit 4abe4740bdd9598bd5c7cc79a987dd5f0554c770\u001b[m\n",
      "  Author: Afonso Matoso Magalhães <afonsomm98@gmail.com>\n",
      "  Date:   Tue Apr 16 11:44:37 2024 +0100\n",
      "  \n",
      "      C0\n"
     ]
    }
   ],
   "source": [
    "!git branch bugFix; git checkout bugFix\n",
    "!git log --all --graph"
   ]
  },
  {
   "cell_type": "markdown",
   "id": "b7fa4aec-717a-4d80-b59d-d768f0bcbe31",
   "metadata": {},
   "source": [
    "### Level 3"
   ]
  },
  {
   "cell_type": "markdown",
   "id": "30abd9ec-0c20-4c50-8d21-f1158874c8ed",
   "metadata": {},
   "source": [
    "- Branches allow us to quickly switch between project versions and work on different things in isolation. This removes the possibility of conflicts between the changes made in each thing arising while working on them. We then need to merge these changes together into the main version of the project.\n",
    "\n",
    "- At this level, we use the `git merge` command, which creates a commit with two parents, including both project versions. When we merge two branches, we may need to resolve conflicts between their work.\n",
    "\n",
    "- To get to the same stage as the beginning of this level, we would undo and redo what we did in the previous level, so let's just keep going.\n",
    "- To complete this level, we need to commit from the \"bugFix\" branch, then check out and commit from the \"main\" branch, and finally merge the commits where each branch is pointing to while in the \"main\" branch, so this one points to the created merged commit:"
   ]
  },
  {
   "cell_type": "code",
   "execution_count": null,
   "id": "00218b18-0875-4206-bc18-28f4a627b32f",
   "metadata": {},
   "outputs": [
    {
     "name": "stdout",
     "output_type": "stream",
     "text": [
      "[bugFix 672d6b3] C2\n",
      " 1 file changed, 1 insertion(+)\n",
      "* \u001b[33mcommit 672d6b3bfe65331fb1944eaffcfaafb349e33bf2\u001b[m\u001b[33m (\u001b[m\u001b[1;36mHEAD -> \u001b[m\u001b[1;32mbugFix\u001b[m\u001b[33m)\u001b[m\n",
      "\u001b[31m|\u001b[m Author: Afonso Matoso Magalhães <afonsomm98@gmail.com>\n",
      "\u001b[31m|\u001b[m Date:   Tue Apr 16 11:44:44 2024 +0100\n",
      "\u001b[31m|\u001b[m \n",
      "\u001b[31m|\u001b[m     C2\n",
      "\u001b[31m|\u001b[m \n",
      "* \u001b[33mcommit aa84653c82524cf76c3b0e14604469c4e89c7a2f\u001b[m\u001b[33m (\u001b[m\u001b[1;32mmain\u001b[m\u001b[33m)\u001b[m\n",
      "\u001b[31m|\u001b[m Author: Afonso Matoso Magalhães <afonsomm98@gmail.com>\n",
      "\u001b[31m|\u001b[m Date:   Tue Apr 16 11:44:40 2024 +0100\n",
      "\u001b[31m|\u001b[m \n",
      "\u001b[31m|\u001b[m     C3\n",
      "\u001b[31m|\u001b[m \n",
      "* \u001b[33mcommit eadba0c6cff8bebc16b48ae50b09a574eb0c0e37\u001b[m\n",
      "\u001b[31m|\u001b[m Author: Afonso Matoso Magalhães <afonsomm98@gmail.com>\n",
      "\u001b[31m|\u001b[m Date:   Tue Apr 16 11:44:40 2024 +0100\n",
      "\u001b[31m|\u001b[m \n",
      "\u001b[31m|\u001b[m     C2\n",
      "\u001b[31m|\u001b[m \n",
      "* \u001b[33mcommit d6f8c4ce16a5db9489f3633584a1e149f7c0ddbd\u001b[m\n",
      "\u001b[31m|\u001b[m Author: Afonso Matoso Magalhães <afonsomm98@gmail.com>\n",
      "\u001b[31m|\u001b[m Date:   Tue Apr 16 11:44:38 2024 +0100\n",
      "\u001b[31m|\u001b[m \n",
      "\u001b[31m|\u001b[m     C1\n",
      "\u001b[31m|\u001b[m \n",
      "* \u001b[33mcommit 4abe4740bdd9598bd5c7cc79a987dd5f0554c770\u001b[m\n",
      "  Author: Afonso Matoso Magalhães <afonsomm98@gmail.com>\n",
      "  Date:   Tue Apr 16 11:44:37 2024 +0100\n",
      "  \n",
      "      C0\n"
     ]
    }
   ],
   "source": [
    "!echo \"hello world changed 3\" >> file.txt; git add file.txt; git commit -m \"C2\"\n",
    "!git log --all --graph"
   ]
  },
  {
   "cell_type": "code",
   "execution_count": null,
   "id": "512c3b96-6a1d-48d5-ab9c-bcf365ae4566",
   "metadata": {},
   "outputs": [
    {
     "name": "stdout",
     "output_type": "stream",
     "text": [
      "Switched to branch 'main'\n",
      "[main af49e06] C3\n",
      " 1 file changed, 1 insertion(+)\n",
      " create mode 100644 file1.txt\n",
      "* \u001b[33mcommit af49e06f42917538d6df2684bda8c654b702f497\u001b[m\u001b[33m (\u001b[m\u001b[1;36mHEAD -> \u001b[m\u001b[1;32mmain\u001b[m\u001b[33m)\u001b[m\n",
      "\u001b[31m|\u001b[m Author: Afonso Matoso Magalhães <afonsomm98@gmail.com>\n",
      "\u001b[31m|\u001b[m Date:   Tue Apr 16 11:44:46 2024 +0100\n",
      "\u001b[31m|\u001b[m \n",
      "\u001b[31m|\u001b[m     C3\n",
      "\u001b[31m|\u001b[m   \n",
      "\u001b[31m|\u001b[m * \u001b[33mcommit 672d6b3bfe65331fb1944eaffcfaafb349e33bf2\u001b[m\u001b[33m (\u001b[m\u001b[1;32mbugFix\u001b[m\u001b[33m)\u001b[m\n",
      "\u001b[31m|\u001b[m\u001b[31m/\u001b[m  Author: Afonso Matoso Magalhães <afonsomm98@gmail.com>\n",
      "\u001b[31m|\u001b[m   Date:   Tue Apr 16 11:44:44 2024 +0100\n",
      "\u001b[31m|\u001b[m   \n",
      "\u001b[31m|\u001b[m       C2\n",
      "\u001b[31m|\u001b[m \n",
      "* \u001b[33mcommit aa84653c82524cf76c3b0e14604469c4e89c7a2f\u001b[m\n",
      "\u001b[32m|\u001b[m Author: Afonso Matoso Magalhães <afonsomm98@gmail.com>\n",
      "\u001b[32m|\u001b[m Date:   Tue Apr 16 11:44:40 2024 +0100\n",
      "\u001b[32m|\u001b[m \n",
      "\u001b[32m|\u001b[m     C3\n",
      "\u001b[32m|\u001b[m \n",
      "* \u001b[33mcommit eadba0c6cff8bebc16b48ae50b09a574eb0c0e37\u001b[m\n",
      "\u001b[32m|\u001b[m Author: Afonso Matoso Magalhães <afonsomm98@gmail.com>\n",
      "\u001b[32m|\u001b[m Date:   Tue Apr 16 11:44:40 2024 +0100\n",
      "\u001b[32m|\u001b[m \n",
      "\u001b[32m|\u001b[m     C2\n",
      "\u001b[32m|\u001b[m \n",
      "* \u001b[33mcommit d6f8c4ce16a5db9489f3633584a1e149f7c0ddbd\u001b[m\n",
      "\u001b[32m|\u001b[m Author: Afonso Matoso Magalhães <afonsomm98@gmail.com>\n",
      "\u001b[32m|\u001b[m Date:   Tue Apr 16 11:44:38 2024 +0100\n",
      "\u001b[32m|\u001b[m \n",
      "\u001b[32m|\u001b[m     C1\n",
      "\u001b[32m|\u001b[m \n",
      "* \u001b[33mcommit 4abe4740bdd9598bd5c7cc79a987dd5f0554c770\u001b[m\n",
      "  Author: Afonso Matoso Magalhães <afonsomm98@gmail.com>\n",
      "  Date:   Tue Apr 16 11:44:37 2024 +0100\n",
      "  \n",
      "      C0\n"
     ]
    }
   ],
   "source": [
    "!git checkout main; echo \"hello world changed 4\" >> file1.txt; git add file1.txt; git commit -m \"C3\"\n",
    "!git log --all --graph"
   ]
  },
  {
   "cell_type": "code",
   "execution_count": null,
   "id": "a07d6d01-cade-4dbf-aa02-e43aafa4db55",
   "metadata": {},
   "outputs": [
    {
     "name": "stdout",
     "output_type": "stream",
     "text": [
      "Merge made by the 'ort' strategy.\n",
      " file.txt | 1 \u001b[32m+\u001b[m\n",
      " 1 file changed, 1 insertion(+)\n",
      "*   \u001b[33mcommit 4aa4729a84d7b065474892f9bdc82bc3c090f30c\u001b[m\u001b[33m (\u001b[m\u001b[1;36mHEAD -> \u001b[m\u001b[1;32mmain\u001b[m\u001b[33m)\u001b[m\n",
      "\u001b[31m|\u001b[m\u001b[32m\\\u001b[m  Merge: af49e06 672d6b3\n",
      "\u001b[31m|\u001b[m \u001b[32m|\u001b[m Author: Afonso Matoso Magalhães <afonsomm98@gmail.com>\n",
      "\u001b[31m|\u001b[m \u001b[32m|\u001b[m Date:   Tue Apr 16 11:44:47 2024 +0100\n",
      "\u001b[31m|\u001b[m \u001b[32m|\u001b[m \n",
      "\u001b[31m|\u001b[m \u001b[32m|\u001b[m     C4\n",
      "\u001b[31m|\u001b[m \u001b[32m|\u001b[m \n",
      "\u001b[31m|\u001b[m * \u001b[33mcommit 672d6b3bfe65331fb1944eaffcfaafb349e33bf2\u001b[m\u001b[33m (\u001b[m\u001b[1;32mbugFix\u001b[m\u001b[33m)\u001b[m\n",
      "\u001b[31m|\u001b[m \u001b[32m|\u001b[m Author: Afonso Matoso Magalhães <afonsomm98@gmail.com>\n",
      "\u001b[31m|\u001b[m \u001b[32m|\u001b[m Date:   Tue Apr 16 11:44:44 2024 +0100\n",
      "\u001b[31m|\u001b[m \u001b[32m|\u001b[m \n",
      "\u001b[31m|\u001b[m \u001b[32m|\u001b[m     C2\n",
      "\u001b[31m|\u001b[m \u001b[32m|\u001b[m \n",
      "* \u001b[32m|\u001b[m \u001b[33mcommit af49e06f42917538d6df2684bda8c654b702f497\u001b[m\n",
      "\u001b[32m|\u001b[m\u001b[32m/\u001b[m  Author: Afonso Matoso Magalhães <afonsomm98@gmail.com>\n",
      "\u001b[32m|\u001b[m   Date:   Tue Apr 16 11:44:46 2024 +0100\n",
      "\u001b[32m|\u001b[m   \n",
      "\u001b[32m|\u001b[m       C3\n",
      "\u001b[32m|\u001b[m \n",
      "* \u001b[33mcommit aa84653c82524cf76c3b0e14604469c4e89c7a2f\u001b[m\n",
      "\u001b[32m|\u001b[m Author: Afonso Matoso Magalhães <afonsomm98@gmail.com>\n",
      "\u001b[32m|\u001b[m Date:   Tue Apr 16 11:44:40 2024 +0100\n",
      "\u001b[32m|\u001b[m \n",
      "\u001b[32m|\u001b[m     C3\n",
      "\u001b[32m|\u001b[m \n",
      "* \u001b[33mcommit eadba0c6cff8bebc16b48ae50b09a574eb0c0e37\u001b[m\n",
      "\u001b[32m|\u001b[m Author: Afonso Matoso Magalhães <afonsomm98@gmail.com>\n",
      "\u001b[32m|\u001b[m Date:   Tue Apr 16 11:44:40 2024 +0100\n",
      "\u001b[32m|\u001b[m \n",
      "\u001b[32m|\u001b[m     C2\n",
      "\u001b[32m|\u001b[m \n",
      "* \u001b[33mcommit d6f8c4ce16a5db9489f3633584a1e149f7c0ddbd\u001b[m\n",
      "\u001b[32m|\u001b[m Author: Afonso Matoso Magalhães <afonsomm98@gmail.com>\n",
      "\u001b[32m|\u001b[m Date:   Tue Apr 16 11:44:38 2024 +0100\n",
      "\u001b[32m|\u001b[m \n",
      "\u001b[32m|\u001b[m     C1\n",
      "\u001b[32m|\u001b[m \n",
      "* \u001b[33mcommit 4abe4740bdd9598bd5c7cc79a987dd5f0554c770\u001b[m\n",
      "  Author: Afonso Matoso Magalhães <afonsomm98@gmail.com>\n",
      "  Date:   Tue Apr 16 11:44:37 2024 +0100\n",
      "  \n",
      "      C0\n"
     ]
    }
   ],
   "source": [
    "!git merge bugFix -m \"C4\"\n",
    "!git log --all --graph"
   ]
  },
  {
   "cell_type": "markdown",
   "id": "a611e0cd-5270-4165-920a-247144f807af",
   "metadata": {},
   "source": [
    "### Level 4"
   ]
  },
  {
   "cell_type": "markdown",
   "id": "3b3f81b3-bb39-4642-9986-65527403414f",
   "metadata": {},
   "source": [
    "- Rebasing takes an history of commits and sets their new base commit.\n",
    "\n",
    "- Let's get to the same stage as the beginning of this level. To do that we need to reset again while on the main branch, and force delete the bugFix branch:"
   ]
  },
  {
   "cell_type": "code",
   "execution_count": null,
   "id": "a6ce42bd-5840-4675-ac1b-b8df46386da4",
   "metadata": {},
   "outputs": [
    {
     "name": "stdout",
     "output_type": "stream",
     "text": [
      "HEAD is now at d6f8c4c C1\n",
      "Deleted branch bugFix (was 672d6b3).\n",
      "* \u001b[33mcommit d6f8c4ce16a5db9489f3633584a1e149f7c0ddbd\u001b[m\u001b[33m (\u001b[m\u001b[1;36mHEAD -> \u001b[m\u001b[1;32mmain\u001b[m\u001b[33m)\u001b[m\n",
      "\u001b[31m|\u001b[m Author: Afonso Matoso Magalhães <afonsomm98@gmail.com>\n",
      "\u001b[31m|\u001b[m Date:   Tue Apr 16 11:44:38 2024 +0100\n",
      "\u001b[31m|\u001b[m \n",
      "\u001b[31m|\u001b[m     C1\n",
      "\u001b[31m|\u001b[m \n",
      "* \u001b[33mcommit 4abe4740bdd9598bd5c7cc79a987dd5f0554c770\u001b[m\n",
      "  Author: Afonso Matoso Magalhães <afonsomm98@gmail.com>\n",
      "  Date:   Tue Apr 16 11:44:37 2024 +0100\n",
      "  \n",
      "      C0\n"
     ]
    }
   ],
   "source": [
    "!git reset --hard d6f8c4ce16a5db9489f3633584a1e149f7c0ddbd; git branch -D bugFix; git log --all --graph"
   ]
  },
  {
   "cell_type": "markdown",
   "id": "fa0b17dc-cd96-4056-a734-bf4bbbd77ccf",
   "metadata": {},
   "source": [
    "- To complete this level, we need to create the bugFix branch again, commit in it, move to the main branch, commit in it, move to the bugFix branch, and then use the `git rebase` command:"
   ]
  },
  {
   "cell_type": "code",
   "execution_count": null,
   "id": "a00c74e3-5f34-4948-b201-310ded2fed23",
   "metadata": {},
   "outputs": [
    {
     "name": "stdout",
     "output_type": "stream",
     "text": [
      "Switched to a new branch 'bugFix'\n",
      "[bugFix af1fb02] C2\n",
      " 1 file changed, 1 insertion(+)\n",
      "Switched to branch 'main'\n",
      "[main 62661e5] C3\n",
      " 1 file changed, 1 insertion(+)\n",
      " create mode 100644 file1.txt\n",
      "* \u001b[33mcommit af1fb0205c749e87a938ce4f2d2343bb248ffc57\u001b[m\u001b[33m (\u001b[m\u001b[1;32mbugFix\u001b[m\u001b[33m)\u001b[m\n",
      "\u001b[31m|\u001b[m Author: Afonso Matoso Magalhães <afonsomm98@gmail.com>\n",
      "\u001b[31m|\u001b[m Date:   Tue Apr 16 11:45:00 2024 +0100\n",
      "\u001b[31m|\u001b[m \n",
      "\u001b[31m|\u001b[m     C2\n",
      "\u001b[31m|\u001b[m   \n",
      "\u001b[31m|\u001b[m * \u001b[33mcommit 62661e57b270811d8e04f2ab31f1a2c9a45f9414\u001b[m\u001b[33m (\u001b[m\u001b[1;36mHEAD -> \u001b[m\u001b[1;32mmain\u001b[m\u001b[33m)\u001b[m\n",
      "\u001b[31m|\u001b[m\u001b[31m/\u001b[m  Author: Afonso Matoso Magalhães <afonsomm98@gmail.com>\n",
      "\u001b[31m|\u001b[m   Date:   Tue Apr 16 11:45:00 2024 +0100\n",
      "\u001b[31m|\u001b[m   \n",
      "\u001b[31m|\u001b[m       C3\n",
      "\u001b[31m|\u001b[m \n",
      "* \u001b[33mcommit d6f8c4ce16a5db9489f3633584a1e149f7c0ddbd\u001b[m\n",
      "\u001b[32m|\u001b[m Author: Afonso Matoso Magalhães <afonsomm98@gmail.com>\n",
      "\u001b[32m|\u001b[m Date:   Tue Apr 16 11:44:38 2024 +0100\n",
      "\u001b[32m|\u001b[m \n",
      "\u001b[32m|\u001b[m     C1\n",
      "\u001b[32m|\u001b[m \n",
      "* \u001b[33mcommit 4abe4740bdd9598bd5c7cc79a987dd5f0554c770\u001b[m\n",
      "  Author: Afonso Matoso Magalhães <afonsomm98@gmail.com>\n",
      "  Date:   Tue Apr 16 11:44:37 2024 +0100\n",
      "  \n",
      "      C0\n"
     ]
    }
   ],
   "source": [
    "!git checkout -b bugFix; echo \"Hello world changed 1\" >> file.txt; git add file.txt; git commit -m \"C2\"\n",
    "!git checkout main; echo \"Hello world\" >> file1.txt; git add file1.txt; git commit -m \"C3\"\n",
    "!git log --all --graph"
   ]
  },
  {
   "cell_type": "code",
   "execution_count": null,
   "id": "602d4439-c8e3-4acd-9cdf-4394d77de3f0",
   "metadata": {},
   "outputs": [
    {
     "name": "stdout",
     "output_type": "stream",
     "text": [
      "Switched to branch 'bugFix'\n",
      "\u001b[KSuccessfully rebased and updated refs/heads/bugFix.\n",
      "* \u001b[33mcommit 78482701d00947592e903cc20ea233c3f053218c\u001b[m\u001b[33m (\u001b[m\u001b[1;36mHEAD -> \u001b[m\u001b[1;32mbugFix\u001b[m\u001b[33m)\u001b[m\n",
      "\u001b[31m|\u001b[m Author: Afonso Matoso Magalhães <afonsomm98@gmail.com>\n",
      "\u001b[31m|\u001b[m Date:   Tue Apr 16 11:45:00 2024 +0100\n",
      "\u001b[31m|\u001b[m \n",
      "\u001b[31m|\u001b[m     C2\n",
      "\u001b[31m|\u001b[m \n",
      "* \u001b[33mcommit 62661e57b270811d8e04f2ab31f1a2c9a45f9414\u001b[m\u001b[33m (\u001b[m\u001b[1;32mmain\u001b[m\u001b[33m)\u001b[m\n",
      "\u001b[31m|\u001b[m Author: Afonso Matoso Magalhães <afonsomm98@gmail.com>\n",
      "\u001b[31m|\u001b[m Date:   Tue Apr 16 11:45:00 2024 +0100\n",
      "\u001b[31m|\u001b[m \n",
      "\u001b[31m|\u001b[m     C3\n",
      "\u001b[31m|\u001b[m \n",
      "* \u001b[33mcommit d6f8c4ce16a5db9489f3633584a1e149f7c0ddbd\u001b[m\n",
      "\u001b[31m|\u001b[m Author: Afonso Matoso Magalhães <afonsomm98@gmail.com>\n",
      "\u001b[31m|\u001b[m Date:   Tue Apr 16 11:44:38 2024 +0100\n",
      "\u001b[31m|\u001b[m \n",
      "\u001b[31m|\u001b[m     C1\n",
      "\u001b[31m|\u001b[m \n",
      "* \u001b[33mcommit 4abe4740bdd9598bd5c7cc79a987dd5f0554c770\u001b[m\n",
      "  Author: Afonso Matoso Magalhães <afonsomm98@gmail.com>\n",
      "  Date:   Tue Apr 16 11:44:37 2024 +0100\n",
      "  \n",
      "      C0\n"
     ]
    }
   ],
   "source": [
    "!git checkout bugFix; git rebase main\n",
    "!git log --all --graph"
   ]
  },
  {
   "cell_type": "markdown",
   "id": "0d25650b-abd5-4c2c-b359-2d7cc86de65f",
   "metadata": {},
   "source": [
    "- This created a clean linear sequence of commits, making the log/history easier to read."
   ]
  },
  {
   "cell_type": "markdown",
   "id": "1c89e235-d155-47ca-bfd8-d3086eac00f4",
   "metadata": {},
   "source": [
    "### Level 5"
   ]
  },
  {
   "cell_type": "markdown",
   "id": "c2c59544-8595-4193-b0c6-7d01c9891fca",
   "metadata": {},
   "source": [
    "- HEAD corresponds to the currently checked out commit, i.e., the one we are working on top of. Most git commands that change the Working Tree start by changing HEAD.\n",
    "- A detached HEAD means that it is attached to a commit instead of a branch.\n",
    "- To get to the same stage as this level we need to reset to C1 on both main and bugFix, commit on main and bugFix separately, and commit again on bugFix:"
   ]
  },
  {
   "cell_type": "code",
   "execution_count": null,
   "id": "58c44d6c-50ac-476a-85b8-b8b510564a3d",
   "metadata": {},
   "outputs": [
    {
     "name": "stdout",
     "output_type": "stream",
     "text": [
      "HEAD is now at d6f8c4c C1\n",
      "Switched to branch 'main'\n",
      "HEAD is now at d6f8c4c C1\n",
      "[main 59e45ed] C2\n",
      " 1 file changed, 1 insertion(+)\n",
      "Switched to branch 'bugFix'\n",
      "[bugFix a782f63] C3\n",
      " 1 file changed, 1 insertion(+)\n",
      " create mode 100644 file1.txt\n",
      "[bugFix 86c2f7d] C4\n",
      " 1 file changed, 1 insertion(+)\n"
     ]
    }
   ],
   "source": [
    "!git reset --hard d6f8c4ce16a5db9489f3633584a1e149f7c0ddbd\n",
    "!git checkout main; git reset --hard d6f8c4ce16a5db9489f3633584a1e149f7c0ddbd\n",
    "!echo \"Hello world changed 1\" >> file.txt; git add file.txt; git commit -m \"C2\"\n",
    "!git checkout bugFix; echo \"Hello world\" >> file1.txt; git add file1.txt; git commit -m \"C3\"\n",
    "!echo \"Hello world changed\" >> file1.txt; git add file1.txt; git commit -m \"C4\""
   ]
  },
  {
   "cell_type": "code",
   "execution_count": null,
   "id": "c227654d-151c-4aed-8f04-b25740aa32fe",
   "metadata": {},
   "outputs": [
    {
     "name": "stdout",
     "output_type": "stream",
     "text": [
      "* \u001b[33mcommit 86c2f7df3e7564a65513e7ba0180c7d937453632\u001b[m\u001b[33m (\u001b[m\u001b[1;36mHEAD -> \u001b[m\u001b[1;32mbugFix\u001b[m\u001b[33m)\u001b[m\n",
      "\u001b[31m|\u001b[m Author: Afonso Matoso Magalhães <afonsomm98@gmail.com>\n",
      "\u001b[31m|\u001b[m Date:   Tue Apr 16 11:45:09 2024 +0100\n",
      "\u001b[31m|\u001b[m \n",
      "\u001b[31m|\u001b[m     C4\n",
      "\u001b[31m|\u001b[m \n",
      "* \u001b[33mcommit a782f6376954bc7fa272ba6227e2bec8389f82cd\u001b[m\n",
      "\u001b[31m|\u001b[m Author: Afonso Matoso Magalhães <afonsomm98@gmail.com>\n",
      "\u001b[31m|\u001b[m Date:   Tue Apr 16 11:45:09 2024 +0100\n",
      "\u001b[31m|\u001b[m \n",
      "\u001b[31m|\u001b[m     C3\n",
      "\u001b[31m|\u001b[m   \n",
      "\u001b[31m|\u001b[m * \u001b[33mcommit 59e45ed005c84f2342b98f735737ad2536fa0d05\u001b[m\u001b[33m (\u001b[m\u001b[1;32mmain\u001b[m\u001b[33m)\u001b[m\n",
      "\u001b[31m|\u001b[m\u001b[31m/\u001b[m  Author: Afonso Matoso Magalhães <afonsomm98@gmail.com>\n",
      "\u001b[31m|\u001b[m   Date:   Tue Apr 16 11:45:08 2024 +0100\n",
      "\u001b[31m|\u001b[m   \n",
      "\u001b[31m|\u001b[m       C2\n",
      "\u001b[31m|\u001b[m \n",
      "* \u001b[33mcommit d6f8c4ce16a5db9489f3633584a1e149f7c0ddbd\u001b[m\n",
      "\u001b[32m|\u001b[m Author: Afonso Matoso Magalhães <afonsomm98@gmail.com>\n",
      "\u001b[32m|\u001b[m Date:   Tue Apr 16 11:44:38 2024 +0100\n",
      "\u001b[32m|\u001b[m \n",
      "\u001b[32m|\u001b[m     C1\n",
      "\u001b[32m|\u001b[m \n",
      "* \u001b[33mcommit 4abe4740bdd9598bd5c7cc79a987dd5f0554c770\u001b[m\n",
      "  Author: Afonso Matoso Magalhães <afonsomm98@gmail.com>\n",
      "  Date:   Tue Apr 16 11:44:37 2024 +0100\n",
      "  \n",
      "      C0\n"
     ]
    }
   ],
   "source": [
    "!git log --all --graph"
   ]
  },
  {
   "cell_type": "markdown",
   "id": "e8dcc493-d32b-4706-8553-a6331c425855",
   "metadata": {},
   "source": [
    "- To complete this level we need to checkout the commit where bugFix is pointing to, using its ID:"
   ]
  },
  {
   "cell_type": "code",
   "execution_count": null,
   "id": "0d16593b-f18d-4d8c-b564-b2fcafbafdf0",
   "metadata": {},
   "outputs": [
    {
     "name": "stdout",
     "output_type": "stream",
     "text": [
      "Note: switching to '86c2f7df3e7564a65513e7ba0180c7d937453632'.\n",
      "\n",
      "You are in 'detached HEAD' state. You can look around, make experimental\n",
      "changes and commit them, and you can discard any commits you make in this\n",
      "state without impacting any branches by switching back to a branch.\n",
      "\n",
      "If you want to create a new branch to retain commits you create, you may\n",
      "do so (now or later) by using -c with the switch command. Example:\n",
      "\n",
      "  git switch -c <new-branch-name>\n",
      "\n",
      "Or undo this operation with:\n",
      "\n",
      "  git switch -\n",
      "\n",
      "Turn off this advice by setting config variable advice.detachedHead to false\n",
      "\n",
      "HEAD is now at 86c2f7d C4\n",
      "* \u001b[33mcommit 86c2f7df3e7564a65513e7ba0180c7d937453632\u001b[m\u001b[33m (\u001b[m\u001b[1;36mHEAD\u001b[m\u001b[33m, \u001b[m\u001b[1;32mbugFix\u001b[m\u001b[33m)\u001b[m\n",
      "\u001b[31m|\u001b[m Author: Afonso Matoso Magalhães <afonsomm98@gmail.com>\n",
      "\u001b[31m|\u001b[m Date:   Tue Apr 16 11:45:09 2024 +0100\n",
      "\u001b[31m|\u001b[m \n",
      "\u001b[31m|\u001b[m     C4\n",
      "\u001b[31m|\u001b[m \n",
      "* \u001b[33mcommit a782f6376954bc7fa272ba6227e2bec8389f82cd\u001b[m\n",
      "\u001b[31m|\u001b[m Author: Afonso Matoso Magalhães <afonsomm98@gmail.com>\n",
      "\u001b[31m|\u001b[m Date:   Tue Apr 16 11:45:09 2024 +0100\n",
      "\u001b[31m|\u001b[m \n",
      "\u001b[31m|\u001b[m     C3\n",
      "\u001b[31m|\u001b[m   \n",
      "\u001b[31m|\u001b[m * \u001b[33mcommit 59e45ed005c84f2342b98f735737ad2536fa0d05\u001b[m\u001b[33m (\u001b[m\u001b[1;32mmain\u001b[m\u001b[33m)\u001b[m\n",
      "\u001b[31m|\u001b[m\u001b[31m/\u001b[m  Author: Afonso Matoso Magalhães <afonsomm98@gmail.com>\n",
      "\u001b[31m|\u001b[m   Date:   Tue Apr 16 11:45:08 2024 +0100\n",
      "\u001b[31m|\u001b[m   \n",
      "\u001b[31m|\u001b[m       C2\n",
      "\u001b[31m|\u001b[m \n",
      "* \u001b[33mcommit d6f8c4ce16a5db9489f3633584a1e149f7c0ddbd\u001b[m\n",
      "\u001b[32m|\u001b[m Author: Afonso Matoso Magalhães <afonsomm98@gmail.com>\n",
      "\u001b[32m|\u001b[m Date:   Tue Apr 16 11:44:38 2024 +0100\n",
      "\u001b[32m|\u001b[m \n",
      "\u001b[32m|\u001b[m     C1\n",
      "\u001b[32m|\u001b[m \n",
      "* \u001b[33mcommit 4abe4740bdd9598bd5c7cc79a987dd5f0554c770\u001b[m\n",
      "  Author: Afonso Matoso Magalhães <afonsomm98@gmail.com>\n",
      "  Date:   Tue Apr 16 11:44:37 2024 +0100\n",
      "  \n",
      "      C0\n"
     ]
    }
   ],
   "source": [
    "!git checkout 86c2f7df3e7564a65513e7ba0180c7d937453632; git log --all --graph"
   ]
  },
  {
   "cell_type": "markdown",
   "id": "802a2f67-5329-47f0-988f-fc93a1f5cf9b",
   "metadata": {},
   "source": [
    "- We can see that when HEAD was pointing to bugFix `git log` showed it as `(HEAD -> bugFix)`. Now it shows it as `(HEAD, bugFix)`, so it is not pointing at the branch, but at the commit it self, so it is detached."
   ]
  },
  {
   "cell_type": "markdown",
   "id": "d75eed7d-84c3-467b-b5a8-d2eec9e2702f",
   "metadata": {},
   "source": [
    "### Level 6"
   ]
  },
  {
   "cell_type": "markdown",
   "id": "3b78e3db-3420-412a-96bf-85817fb6f17b",
   "metadata": {},
   "source": [
    "- Since commit ids/hashes are relatively big, git only requires us to specify enough characters of that hash until it uniquely identifies that commit. This is still not very convenient, so git provides us relative refs, which allow us to start from somewhere memorable and work from there.\n",
    "\n",
    "- At this level, we will use `^` which moves upwards one commit.\n",
    "\n",
    "- Let's get to the same stage as the beginning of the level:"
   ]
  },
  {
   "cell_type": "code",
   "execution_count": null,
   "id": "4ec575bb-49a3-462f-8b99-f5282f16524e",
   "metadata": {},
   "outputs": [
    {
     "name": "stdout",
     "output_type": "stream",
     "text": [
      "Previous HEAD position was 86c2f7d C4\n",
      "Switched to branch 'main'\n",
      "* \u001b[33mcommit 86c2f7df3e7564a65513e7ba0180c7d937453632\u001b[m\u001b[33m (\u001b[m\u001b[1;32mbugFix\u001b[m\u001b[33m)\u001b[m\n",
      "\u001b[31m|\u001b[m Author: Afonso Matoso Magalhães <afonsomm98@gmail.com>\n",
      "\u001b[31m|\u001b[m Date:   Tue Apr 16 11:45:09 2024 +0100\n",
      "\u001b[31m|\u001b[m \n",
      "\u001b[31m|\u001b[m     C4\n",
      "\u001b[31m|\u001b[m \n",
      "* \u001b[33mcommit a782f6376954bc7fa272ba6227e2bec8389f82cd\u001b[m\n",
      "\u001b[31m|\u001b[m Author: Afonso Matoso Magalhães <afonsomm98@gmail.com>\n",
      "\u001b[31m|\u001b[m Date:   Tue Apr 16 11:45:09 2024 +0100\n",
      "\u001b[31m|\u001b[m \n",
      "\u001b[31m|\u001b[m     C3\n",
      "\u001b[31m|\u001b[m   \n",
      "\u001b[31m|\u001b[m * \u001b[33mcommit 59e45ed005c84f2342b98f735737ad2536fa0d05\u001b[m\u001b[33m (\u001b[m\u001b[1;36mHEAD -> \u001b[m\u001b[1;32mmain\u001b[m\u001b[33m)\u001b[m\n",
      "\u001b[31m|\u001b[m\u001b[31m/\u001b[m  Author: Afonso Matoso Magalhães <afonsomm98@gmail.com>\n",
      "\u001b[31m|\u001b[m   Date:   Tue Apr 16 11:45:08 2024 +0100\n",
      "\u001b[31m|\u001b[m   \n",
      "\u001b[31m|\u001b[m       C2\n",
      "\u001b[31m|\u001b[m \n",
      "* \u001b[33mcommit d6f8c4ce16a5db9489f3633584a1e149f7c0ddbd\u001b[m\n",
      "\u001b[32m|\u001b[m Author: Afonso Matoso Magalhães <afonsomm98@gmail.com>\n",
      "\u001b[32m|\u001b[m Date:   Tue Apr 16 11:44:38 2024 +0100\n",
      "\u001b[32m|\u001b[m \n",
      "\u001b[32m|\u001b[m     C1\n",
      "\u001b[32m|\u001b[m \n",
      "* \u001b[33mcommit 4abe4740bdd9598bd5c7cc79a987dd5f0554c770\u001b[m\n",
      "  Author: Afonso Matoso Magalhães <afonsomm98@gmail.com>\n",
      "  Date:   Tue Apr 16 11:44:37 2024 +0100\n",
      "  \n",
      "      C0\n"
     ]
    }
   ],
   "source": [
    "!git checkout main; git log --all --graph"
   ]
  },
  {
   "cell_type": "markdown",
   "id": "f0e592b7-2655-4893-a240-4c1bb4a4a913",
   "metadata": {},
   "source": [
    "- To complete this level, we need to checkout the parent of bugFix's commit:"
   ]
  },
  {
   "cell_type": "code",
   "execution_count": null,
   "id": "08e52af1-8621-4402-9885-2d687651db13",
   "metadata": {},
   "outputs": [
    {
     "name": "stdout",
     "output_type": "stream",
     "text": [
      "Note: switching to 'bugFix^'.\n",
      "\n",
      "You are in 'detached HEAD' state. You can look around, make experimental\n",
      "changes and commit them, and you can discard any commits you make in this\n",
      "state without impacting any branches by switching back to a branch.\n",
      "\n",
      "If you want to create a new branch to retain commits you create, you may\n",
      "do so (now or later) by using -c with the switch command. Example:\n",
      "\n",
      "  git switch -c <new-branch-name>\n",
      "\n",
      "Or undo this operation with:\n",
      "\n",
      "  git switch -\n",
      "\n",
      "Turn off this advice by setting config variable advice.detachedHead to false\n",
      "\n",
      "HEAD is now at a782f63 C3\n"
     ]
    }
   ],
   "source": [
    "!git checkout bugFix^"
   ]
  },
  {
   "cell_type": "code",
   "execution_count": null,
   "id": "d1594658-6e6e-4810-a50c-90bace5b591c",
   "metadata": {},
   "outputs": [
    {
     "name": "stdout",
     "output_type": "stream",
     "text": [
      "* \u001b[33mcommit 86c2f7df3e7564a65513e7ba0180c7d937453632\u001b[m\u001b[33m (\u001b[m\u001b[1;32mbugFix\u001b[m\u001b[33m)\u001b[m\n",
      "\u001b[31m|\u001b[m Author: Afonso Matoso Magalhães <afonsomm98@gmail.com>\n",
      "\u001b[31m|\u001b[m Date:   Tue Apr 16 11:45:09 2024 +0100\n",
      "\u001b[31m|\u001b[m \n",
      "\u001b[31m|\u001b[m     C4\n",
      "\u001b[31m|\u001b[m \n",
      "* \u001b[33mcommit a782f6376954bc7fa272ba6227e2bec8389f82cd\u001b[m\u001b[33m (\u001b[m\u001b[1;36mHEAD\u001b[m\u001b[33m)\u001b[m\n",
      "\u001b[31m|\u001b[m Author: Afonso Matoso Magalhães <afonsomm98@gmail.com>\n",
      "\u001b[31m|\u001b[m Date:   Tue Apr 16 11:45:09 2024 +0100\n",
      "\u001b[31m|\u001b[m \n",
      "\u001b[31m|\u001b[m     C3\n",
      "\u001b[31m|\u001b[m   \n",
      "\u001b[31m|\u001b[m * \u001b[33mcommit 59e45ed005c84f2342b98f735737ad2536fa0d05\u001b[m\u001b[33m (\u001b[m\u001b[1;32mmain\u001b[m\u001b[33m)\u001b[m\n",
      "\u001b[31m|\u001b[m\u001b[31m/\u001b[m  Author: Afonso Matoso Magalhães <afonsomm98@gmail.com>\n",
      "\u001b[31m|\u001b[m   Date:   Tue Apr 16 11:45:08 2024 +0100\n",
      "\u001b[31m|\u001b[m   \n",
      "\u001b[31m|\u001b[m       C2\n",
      "\u001b[31m|\u001b[m \n",
      "* \u001b[33mcommit d6f8c4ce16a5db9489f3633584a1e149f7c0ddbd\u001b[m\n",
      "\u001b[32m|\u001b[m Author: Afonso Matoso Magalhães <afonsomm98@gmail.com>\n",
      "\u001b[32m|\u001b[m Date:   Tue Apr 16 11:44:38 2024 +0100\n",
      "\u001b[32m|\u001b[m \n",
      "\u001b[32m|\u001b[m     C1\n",
      "\u001b[32m|\u001b[m \n",
      "* \u001b[33mcommit 4abe4740bdd9598bd5c7cc79a987dd5f0554c770\u001b[m\n",
      "  Author: Afonso Matoso Magalhães <afonsomm98@gmail.com>\n",
      "  Date:   Tue Apr 16 11:44:37 2024 +0100\n",
      "  \n",
      "      C0\n"
     ]
    }
   ],
   "source": [
    "!git log --all --graph"
   ]
  },
  {
   "cell_type": "markdown",
   "id": "5c60a5c6-8c9d-4b51-86a5-fd885e500fcc",
   "metadata": {},
   "source": [
    "### Level 7"
   ]
  },
  {
   "cell_type": "markdown",
   "id": "236d86eb-0721-46ff-a75b-7ab16949608b",
   "metadata": {},
   "source": [
    "- We can use the `^` operator several times, such as `bugFix^^`, to move up several commits. However, we can use the `~` operator which takes a trailing number and, that way, is more convenient.\n",
    "\n",
    "- One of the main reasons to use relative refs is to move branches. We can directly reassign a branch to a commit using `git branch -f`, which forces a branch to move.\n",
    "\n",
    ">- *Sidenote*: In a real git environment this is not allowed for the current checked out branch.\n",
    "\n",
    "- Let's get to the same stage as the beginning of the level:"
   ]
  },
  {
   "cell_type": "code",
   "execution_count": null,
   "id": "edebba4c-89d6-42cf-bbf7-24e302dd8a75",
   "metadata": {},
   "outputs": [
    {
     "name": "stdout",
     "output_type": "stream",
     "text": [
      "* \u001b[33mcommit a782f6376954bc7fa272ba6227e2bec8389f82cd\u001b[m\u001b[33m (\u001b[m\u001b[1;36mHEAD\u001b[m\u001b[33m, \u001b[m\u001b[1;32mbugFix\u001b[m\u001b[33m)\u001b[m\n",
      "\u001b[31m|\u001b[m Author: Afonso Matoso Magalhães <afonsomm98@gmail.com>\n",
      "\u001b[31m|\u001b[m Date:   Tue Apr 16 11:45:09 2024 +0100\n",
      "\u001b[31m|\u001b[m \n",
      "\u001b[31m|\u001b[m     C3\n",
      "\u001b[31m|\u001b[m   \n",
      "\u001b[31m|\u001b[m * \u001b[33mcommit 59e45ed005c84f2342b98f735737ad2536fa0d05\u001b[m\u001b[33m (\u001b[m\u001b[1;32mmain\u001b[m\u001b[33m)\u001b[m\n",
      "\u001b[31m|\u001b[m\u001b[31m/\u001b[m  Author: Afonso Matoso Magalhães <afonsomm98@gmail.com>\n",
      "\u001b[31m|\u001b[m   Date:   Tue Apr 16 11:45:08 2024 +0100\n",
      "\u001b[31m|\u001b[m   \n",
      "\u001b[31m|\u001b[m       C2\n",
      "\u001b[31m|\u001b[m \n",
      "* \u001b[33mcommit d6f8c4ce16a5db9489f3633584a1e149f7c0ddbd\u001b[m\n",
      "\u001b[32m|\u001b[m Author: Afonso Matoso Magalhães <afonsomm98@gmail.com>\n",
      "\u001b[32m|\u001b[m Date:   Tue Apr 16 11:44:38 2024 +0100\n",
      "\u001b[32m|\u001b[m \n",
      "\u001b[32m|\u001b[m     C1\n",
      "\u001b[32m|\u001b[m \n",
      "* \u001b[33mcommit 4abe4740bdd9598bd5c7cc79a987dd5f0554c770\u001b[m\n",
      "  Author: Afonso Matoso Magalhães <afonsomm98@gmail.com>\n",
      "  Date:   Tue Apr 16 11:44:37 2024 +0100\n",
      "  \n",
      "      C0\n"
     ]
    }
   ],
   "source": [
    "!git branch -f bugFix HEAD; git log --all --graph"
   ]
  },
  {
   "cell_type": "code",
   "execution_count": null,
   "id": "f7851ebf-e881-4bb5-8562-0115e4b8ef18",
   "metadata": {},
   "outputs": [
    {
     "name": "stdout",
     "output_type": "stream",
     "text": [
      "Previous HEAD position was a782f63 C3\n",
      "Switched to branch 'main'\n",
      "[main 0b253a5] C4\n",
      " 1 file changed, 1 insertion(+)\n",
      "Switched to branch 'bugFix'\n",
      "[bugFix d2450be] C5\n",
      " 1 file changed, 1 insertion(+)\n",
      "[bugFix 3806c6c] C6\n",
      " 1 file changed, 1 insertion(+)\n",
      "* \u001b[33mcommit 3806c6ce35da4841587ed2272dd1ccd70690b999\u001b[m\u001b[33m (\u001b[m\u001b[1;36mHEAD -> \u001b[m\u001b[1;32mbugFix\u001b[m\u001b[33m)\u001b[m\n",
      "\u001b[31m|\u001b[m Author: Afonso Matoso Magalhães <afonsomm98@gmail.com>\n",
      "\u001b[31m|\u001b[m Date:   Tue Apr 16 11:45:31 2024 +0100\n",
      "\u001b[31m|\u001b[m \n",
      "\u001b[31m|\u001b[m     C6\n",
      "\u001b[31m|\u001b[m \n",
      "* \u001b[33mcommit d2450be479728636ea01550c5da0c745376df7bb\u001b[m\n",
      "\u001b[31m|\u001b[m Author: Afonso Matoso Magalhães <afonsomm98@gmail.com>\n",
      "\u001b[31m|\u001b[m Date:   Tue Apr 16 11:45:31 2024 +0100\n",
      "\u001b[31m|\u001b[m \n",
      "\u001b[31m|\u001b[m     C5\n",
      "\u001b[31m|\u001b[m \n",
      "* \u001b[33mcommit a782f6376954bc7fa272ba6227e2bec8389f82cd\u001b[m\n",
      "\u001b[31m|\u001b[m Author: Afonso Matoso Magalhães <afonsomm98@gmail.com>\n",
      "\u001b[31m|\u001b[m Date:   Tue Apr 16 11:45:09 2024 +0100\n",
      "\u001b[31m|\u001b[m \n",
      "\u001b[31m|\u001b[m     C3\n",
      "\u001b[31m|\u001b[m   \n",
      "\u001b[31m|\u001b[m * \u001b[33mcommit 0b253a577f03107ebd3a8ea4ca7cf2f62d815b72\u001b[m\u001b[33m (\u001b[m\u001b[1;32mmain\u001b[m\u001b[33m)\u001b[m\n",
      "\u001b[31m|\u001b[m \u001b[32m|\u001b[m Author: Afonso Matoso Magalhães <afonsomm98@gmail.com>\n",
      "\u001b[31m|\u001b[m \u001b[32m|\u001b[m Date:   Tue Apr 16 11:45:31 2024 +0100\n",
      "\u001b[31m|\u001b[m \u001b[32m|\u001b[m \n",
      "\u001b[31m|\u001b[m \u001b[32m|\u001b[m     C4\n",
      "\u001b[31m|\u001b[m \u001b[32m|\u001b[m \n",
      "\u001b[31m|\u001b[m * \u001b[33mcommit 59e45ed005c84f2342b98f735737ad2536fa0d05\u001b[m\n",
      "\u001b[31m|\u001b[m\u001b[31m/\u001b[m  Author: Afonso Matoso Magalhães <afonsomm98@gmail.com>\n",
      "\u001b[31m|\u001b[m   Date:   Tue Apr 16 11:45:08 2024 +0100\n",
      "\u001b[31m|\u001b[m   \n",
      "\u001b[31m|\u001b[m       C2\n",
      "\u001b[31m|\u001b[m \n",
      "* \u001b[33mcommit d6f8c4ce16a5db9489f3633584a1e149f7c0ddbd\u001b[m\n",
      "\u001b[32m|\u001b[m Author: Afonso Matoso Magalhães <afonsomm98@gmail.com>\n",
      "\u001b[32m|\u001b[m Date:   Tue Apr 16 11:44:38 2024 +0100\n",
      "\u001b[32m|\u001b[m \n",
      "\u001b[32m|\u001b[m     C1\n",
      "\u001b[32m|\u001b[m \n",
      "* \u001b[33mcommit 4abe4740bdd9598bd5c7cc79a987dd5f0554c770\u001b[m\n",
      "  Author: Afonso Matoso Magalhães <afonsomm98@gmail.com>\n",
      "  Date:   Tue Apr 16 11:44:37 2024 +0100\n",
      "  \n",
      "      C0\n"
     ]
    }
   ],
   "source": [
    "!git checkout main; echo \"Hello world changed 2\" >> file.txt; git add file.txt; git commit -m \"C4\"\n",
    "!git checkout bugFix; echo \"Hello world changed 1\" >> file1.txt; git add file1.txt; git commit -m \"C5\"\n",
    "!echo \"Hello world changed 2\" >> file1.txt; git add file1.txt; git commit -m \"C6\"\n",
    "!git log --all --graph"
   ]
  },
  {
   "cell_type": "code",
   "execution_count": null,
   "id": "84988809-b4c7-4455-a3be-9fb0f2cae940",
   "metadata": {},
   "outputs": [
    {
     "name": "stdout",
     "output_type": "stream",
     "text": [
      "Note: switching to 'main^'.\n",
      "\n",
      "You are in 'detached HEAD' state. You can look around, make experimental\n",
      "changes and commit them, and you can discard any commits you make in this\n",
      "state without impacting any branches by switching back to a branch.\n",
      "\n",
      "If you want to create a new branch to retain commits you create, you may\n",
      "do so (now or later) by using -c with the switch command. Example:\n",
      "\n",
      "  git switch -c <new-branch-name>\n",
      "\n",
      "Or undo this operation with:\n",
      "\n",
      "  git switch -\n",
      "\n",
      "Turn off this advice by setting config variable advice.detachedHead to false\n",
      "\n",
      "HEAD is now at 59e45ed C2\n",
      "* \u001b[33mcommit 3806c6ce35da4841587ed2272dd1ccd70690b999\u001b[m\u001b[33m (\u001b[m\u001b[1;32mbugFix\u001b[m\u001b[33m)\u001b[m\n",
      "\u001b[31m|\u001b[m Author: Afonso Matoso Magalhães <afonsomm98@gmail.com>\n",
      "\u001b[31m|\u001b[m Date:   Tue Apr 16 11:45:31 2024 +0100\n",
      "\u001b[31m|\u001b[m \n",
      "\u001b[31m|\u001b[m     C6\n",
      "\u001b[31m|\u001b[m \n",
      "* \u001b[33mcommit d2450be479728636ea01550c5da0c745376df7bb\u001b[m\n",
      "\u001b[31m|\u001b[m Author: Afonso Matoso Magalhães <afonsomm98@gmail.com>\n",
      "\u001b[31m|\u001b[m Date:   Tue Apr 16 11:45:31 2024 +0100\n",
      "\u001b[31m|\u001b[m \n",
      "\u001b[31m|\u001b[m     C5\n",
      "\u001b[31m|\u001b[m \n",
      "* \u001b[33mcommit a782f6376954bc7fa272ba6227e2bec8389f82cd\u001b[m\n",
      "\u001b[31m|\u001b[m Author: Afonso Matoso Magalhães <afonsomm98@gmail.com>\n",
      "\u001b[31m|\u001b[m Date:   Tue Apr 16 11:45:09 2024 +0100\n",
      "\u001b[31m|\u001b[m \n",
      "\u001b[31m|\u001b[m     C3\n",
      "\u001b[31m|\u001b[m   \n",
      "\u001b[31m|\u001b[m * \u001b[33mcommit 0b253a577f03107ebd3a8ea4ca7cf2f62d815b72\u001b[m\u001b[33m (\u001b[m\u001b[1;32mmain\u001b[m\u001b[33m)\u001b[m\n",
      "\u001b[31m|\u001b[m \u001b[32m|\u001b[m Author: Afonso Matoso Magalhães <afonsomm98@gmail.com>\n",
      "\u001b[31m|\u001b[m \u001b[32m|\u001b[m Date:   Tue Apr 16 11:45:31 2024 +0100\n",
      "\u001b[31m|\u001b[m \u001b[32m|\u001b[m \n",
      "\u001b[31m|\u001b[m \u001b[32m|\u001b[m     C4\n",
      "\u001b[31m|\u001b[m \u001b[32m|\u001b[m \n",
      "\u001b[31m|\u001b[m * \u001b[33mcommit 59e45ed005c84f2342b98f735737ad2536fa0d05\u001b[m\u001b[33m (\u001b[m\u001b[1;36mHEAD\u001b[m\u001b[33m)\u001b[m\n",
      "\u001b[31m|\u001b[m\u001b[31m/\u001b[m  Author: Afonso Matoso Magalhães <afonsomm98@gmail.com>\n",
      "\u001b[31m|\u001b[m   Date:   Tue Apr 16 11:45:08 2024 +0100\n",
      "\u001b[31m|\u001b[m   \n",
      "\u001b[31m|\u001b[m       C2\n",
      "\u001b[31m|\u001b[m \n",
      "* \u001b[33mcommit d6f8c4ce16a5db9489f3633584a1e149f7c0ddbd\u001b[m\n",
      "\u001b[32m|\u001b[m Author: Afonso Matoso Magalhães <afonsomm98@gmail.com>\n",
      "\u001b[32m|\u001b[m Date:   Tue Apr 16 11:44:38 2024 +0100\n",
      "\u001b[32m|\u001b[m \n",
      "\u001b[32m|\u001b[m     C1\n",
      "\u001b[32m|\u001b[m \n",
      "* \u001b[33mcommit 4abe4740bdd9598bd5c7cc79a987dd5f0554c770\u001b[m\n",
      "  Author: Afonso Matoso Magalhães <afonsomm98@gmail.com>\n",
      "  Date:   Tue Apr 16 11:44:37 2024 +0100\n",
      "  \n",
      "      C0\n"
     ]
    }
   ],
   "source": [
    "!git checkout main^; git log --all --graph"
   ]
  },
  {
   "cell_type": "markdown",
   "id": "4bc537f1-3b9c-4e10-820c-d26e7887a231",
   "metadata": {},
   "source": [
    "- We need to copy the identifier of commit C6 before unreferencing it (`3806c6ce35da4841587ed2272dd1ccd70690b999`)."
   ]
  },
  {
   "cell_type": "code",
   "execution_count": null,
   "id": "5fe362ed-ea5e-454c-9e8c-fcdf546d0690",
   "metadata": {},
   "outputs": [
    {
     "name": "stdout",
     "output_type": "stream",
     "text": [
      "* \u001b[33mcommit d2450be479728636ea01550c5da0c745376df7bb\u001b[m\u001b[33m (\u001b[m\u001b[1;32mbugFix\u001b[m\u001b[33m)\u001b[m\n",
      "\u001b[31m|\u001b[m Author: Afonso Matoso Magalhães <afonsomm98@gmail.com>\n",
      "\u001b[31m|\u001b[m Date:   Tue Apr 16 11:45:31 2024 +0100\n",
      "\u001b[31m|\u001b[m \n",
      "\u001b[31m|\u001b[m     C5\n",
      "\u001b[31m|\u001b[m \n",
      "* \u001b[33mcommit a782f6376954bc7fa272ba6227e2bec8389f82cd\u001b[m\n",
      "\u001b[31m|\u001b[m Author: Afonso Matoso Magalhães <afonsomm98@gmail.com>\n",
      "\u001b[31m|\u001b[m Date:   Tue Apr 16 11:45:09 2024 +0100\n",
      "\u001b[31m|\u001b[m \n",
      "\u001b[31m|\u001b[m     C3\n",
      "\u001b[31m|\u001b[m   \n",
      "\u001b[31m|\u001b[m * \u001b[33mcommit 0b253a577f03107ebd3a8ea4ca7cf2f62d815b72\u001b[m\u001b[33m (\u001b[m\u001b[1;32mmain\u001b[m\u001b[33m)\u001b[m\n",
      "\u001b[31m|\u001b[m \u001b[32m|\u001b[m Author: Afonso Matoso Magalhães <afonsomm98@gmail.com>\n",
      "\u001b[31m|\u001b[m \u001b[32m|\u001b[m Date:   Tue Apr 16 11:45:31 2024 +0100\n",
      "\u001b[31m|\u001b[m \u001b[32m|\u001b[m \n",
      "\u001b[31m|\u001b[m \u001b[32m|\u001b[m     C4\n",
      "\u001b[31m|\u001b[m \u001b[32m|\u001b[m \n",
      "\u001b[31m|\u001b[m * \u001b[33mcommit 59e45ed005c84f2342b98f735737ad2536fa0d05\u001b[m\u001b[33m (\u001b[m\u001b[1;36mHEAD\u001b[m\u001b[33m)\u001b[m\n",
      "\u001b[31m|\u001b[m\u001b[31m/\u001b[m  Author: Afonso Matoso Magalhães <afonsomm98@gmail.com>\n",
      "\u001b[31m|\u001b[m   Date:   Tue Apr 16 11:45:08 2024 +0100\n",
      "\u001b[31m|\u001b[m   \n",
      "\u001b[31m|\u001b[m       C2\n",
      "\u001b[31m|\u001b[m \n",
      "* \u001b[33mcommit d6f8c4ce16a5db9489f3633584a1e149f7c0ddbd\u001b[m\n",
      "\u001b[32m|\u001b[m Author: Afonso Matoso Magalhães <afonsomm98@gmail.com>\n",
      "\u001b[32m|\u001b[m Date:   Tue Apr 16 11:44:38 2024 +0100\n",
      "\u001b[32m|\u001b[m \n",
      "\u001b[32m|\u001b[m     C1\n",
      "\u001b[32m|\u001b[m \n",
      "* \u001b[33mcommit 4abe4740bdd9598bd5c7cc79a987dd5f0554c770\u001b[m\n",
      "  Author: Afonso Matoso Magalhães <afonsomm98@gmail.com>\n",
      "  Date:   Tue Apr 16 11:44:37 2024 +0100\n",
      "  \n",
      "      C0\n"
     ]
    }
   ],
   "source": [
    "!git branch -f bugFix bugFix^; git log --all --graph"
   ]
  },
  {
   "cell_type": "markdown",
   "id": "a9b102a1-630b-40d7-94e9-67412754e2dc",
   "metadata": {},
   "source": [
    "- To complete this level we need to point main to C6, HEAD to C1, and bugFix to C0, using relative refs as much as possible:"
   ]
  },
  {
   "cell_type": "code",
   "execution_count": null,
   "id": "e2f130da-6758-4fda-82a5-2329fc711f64",
   "metadata": {},
   "outputs": [
    {
     "name": "stdout",
     "output_type": "stream",
     "text": [
      "* \u001b[33mcommit 3806c6ce35da4841587ed2272dd1ccd70690b999\u001b[m\u001b[33m (\u001b[m\u001b[1;32mmain\u001b[m\u001b[33m)\u001b[m\n",
      "\u001b[31m|\u001b[m Author: Afonso Matoso Magalhães <afonsomm98@gmail.com>\n",
      "\u001b[31m|\u001b[m Date:   Tue Apr 16 11:45:31 2024 +0100\n",
      "\u001b[31m|\u001b[m \n",
      "\u001b[31m|\u001b[m     C6\n",
      "\u001b[31m|\u001b[m \n",
      "* \u001b[33mcommit d2450be479728636ea01550c5da0c745376df7bb\u001b[m\u001b[33m (\u001b[m\u001b[1;32mbugFix\u001b[m\u001b[33m)\u001b[m\n",
      "\u001b[31m|\u001b[m Author: Afonso Matoso Magalhães <afonsomm98@gmail.com>\n",
      "\u001b[31m|\u001b[m Date:   Tue Apr 16 11:45:31 2024 +0100\n",
      "\u001b[31m|\u001b[m \n",
      "\u001b[31m|\u001b[m     C5\n",
      "\u001b[31m|\u001b[m \n",
      "* \u001b[33mcommit a782f6376954bc7fa272ba6227e2bec8389f82cd\u001b[m\n",
      "\u001b[31m|\u001b[m Author: Afonso Matoso Magalhães <afonsomm98@gmail.com>\n",
      "\u001b[31m|\u001b[m Date:   Tue Apr 16 11:45:09 2024 +0100\n",
      "\u001b[31m|\u001b[m \n",
      "\u001b[31m|\u001b[m     C3\n",
      "\u001b[31m|\u001b[m   \n",
      "\u001b[31m|\u001b[m * \u001b[33mcommit 59e45ed005c84f2342b98f735737ad2536fa0d05\u001b[m\u001b[33m (\u001b[m\u001b[1;36mHEAD\u001b[m\u001b[33m)\u001b[m\n",
      "\u001b[31m|\u001b[m\u001b[31m/\u001b[m  Author: Afonso Matoso Magalhães <afonsomm98@gmail.com>\n",
      "\u001b[31m|\u001b[m   Date:   Tue Apr 16 11:45:08 2024 +0100\n",
      "\u001b[31m|\u001b[m   \n",
      "\u001b[31m|\u001b[m       C2\n",
      "\u001b[31m|\u001b[m \n",
      "* \u001b[33mcommit d6f8c4ce16a5db9489f3633584a1e149f7c0ddbd\u001b[m\n",
      "\u001b[32m|\u001b[m Author: Afonso Matoso Magalhães <afonsomm98@gmail.com>\n",
      "\u001b[32m|\u001b[m Date:   Tue Apr 16 11:44:38 2024 +0100\n",
      "\u001b[32m|\u001b[m \n",
      "\u001b[32m|\u001b[m     C1\n",
      "\u001b[32m|\u001b[m \n",
      "* \u001b[33mcommit 4abe4740bdd9598bd5c7cc79a987dd5f0554c770\u001b[m\n",
      "  Author: Afonso Matoso Magalhães <afonsomm98@gmail.com>\n",
      "  Date:   Tue Apr 16 11:44:37 2024 +0100\n",
      "  \n",
      "      C0\n"
     ]
    }
   ],
   "source": [
    "!git branch -f main 3806; git log --all --graph"
   ]
  },
  {
   "cell_type": "code",
   "execution_count": null,
   "id": "8bb5b7b6-a656-474c-a851-08c5ee67c45d",
   "metadata": {},
   "outputs": [
    {
     "name": "stdout",
     "output_type": "stream",
     "text": [
      "Warning: you are leaving 1 commit behind, not connected to\n",
      "any of your branches:\n",
      "\n",
      "  59e45ed C2\n",
      "\n",
      "If you want to keep it by creating a new branch, this may be a good time\n",
      "to do so with:\n",
      "\n",
      " git branch <new-branch-name> 59e45ed\n",
      "\n",
      "HEAD is now at d6f8c4c C1\n",
      "* \u001b[33mcommit 3806c6ce35da4841587ed2272dd1ccd70690b999\u001b[m\u001b[33m (\u001b[m\u001b[1;32mmain\u001b[m\u001b[33m)\u001b[m\n",
      "\u001b[31m|\u001b[m Author: Afonso Matoso Magalhães <afonsomm98@gmail.com>\n",
      "\u001b[31m|\u001b[m Date:   Tue Apr 16 11:45:31 2024 +0100\n",
      "\u001b[31m|\u001b[m \n",
      "\u001b[31m|\u001b[m     C6\n",
      "\u001b[31m|\u001b[m \n",
      "* \u001b[33mcommit d2450be479728636ea01550c5da0c745376df7bb\u001b[m\n",
      "\u001b[31m|\u001b[m Author: Afonso Matoso Magalhães <afonsomm98@gmail.com>\n",
      "\u001b[31m|\u001b[m Date:   Tue Apr 16 11:45:31 2024 +0100\n",
      "\u001b[31m|\u001b[m \n",
      "\u001b[31m|\u001b[m     C5\n",
      "\u001b[31m|\u001b[m \n",
      "* \u001b[33mcommit a782f6376954bc7fa272ba6227e2bec8389f82cd\u001b[m\n",
      "\u001b[31m|\u001b[m Author: Afonso Matoso Magalhães <afonsomm98@gmail.com>\n",
      "\u001b[31m|\u001b[m Date:   Tue Apr 16 11:45:09 2024 +0100\n",
      "\u001b[31m|\u001b[m \n",
      "\u001b[31m|\u001b[m     C3\n",
      "\u001b[31m|\u001b[m \n",
      "* \u001b[33mcommit d6f8c4ce16a5db9489f3633584a1e149f7c0ddbd\u001b[m\u001b[33m (\u001b[m\u001b[1;36mHEAD\u001b[m\u001b[33m)\u001b[m\n",
      "\u001b[31m|\u001b[m Author: Afonso Matoso Magalhães <afonsomm98@gmail.com>\n",
      "\u001b[31m|\u001b[m Date:   Tue Apr 16 11:44:38 2024 +0100\n",
      "\u001b[31m|\u001b[m \n",
      "\u001b[31m|\u001b[m     C1\n",
      "\u001b[31m|\u001b[m \n",
      "* \u001b[33mcommit 4abe4740bdd9598bd5c7cc79a987dd5f0554c770\u001b[m\u001b[33m (\u001b[m\u001b[1;32mbugFix\u001b[m\u001b[33m)\u001b[m\n",
      "  Author: Afonso Matoso Magalhães <afonsomm98@gmail.com>\n",
      "  Date:   Tue Apr 16 11:44:37 2024 +0100\n",
      "  \n",
      "      C0\n"
     ]
    }
   ],
   "source": [
    "!git checkout bugFix~2; git branch -f bugFix HEAD^; git log --all --graph"
   ]
  },
  {
   "cell_type": "markdown",
   "id": "7d78a8d3-fc94-488c-bef7-5830773b87a1",
   "metadata": {},
   "source": [
    "### Level 8"
   ]
  },
  {
   "cell_type": "markdown",
   "id": "971dfcfd-de10-47de-8c53-90acce3aba35",
   "metadata": {},
   "source": [
    "- There are two ways of reversing changes in git, i.e.:\n",
    "    - `git reset`, which gets back to a specific commit, discarding subsequent ones. Since some of the commit history may vanish, we should not use this for remote changes in repositories that other people use, but in others cases it's okay.\n",
    "    - `git revert`, which creates a new commit that reverses the changes made by a specific commit. This does not remove history, so it is good to reverse changes made in remote branches.\n",
    " \n",
    "- Let's get to the same stage as the beginning of the level:"
   ]
  },
  {
   "cell_type": "code",
   "execution_count": null,
   "id": "6f60fd58-226f-4fd6-bcbd-1eb56a03b35e",
   "metadata": {},
   "outputs": [
    {
     "name": "stdout",
     "output_type": "stream",
     "text": [
      "Deleted branch bugFix (was 4abe474).\n",
      "* \u001b[33mcommit d6f8c4ce16a5db9489f3633584a1e149f7c0ddbd\u001b[m\u001b[33m (\u001b[m\u001b[1;36mHEAD\u001b[m\u001b[33m, \u001b[m\u001b[1;32mmain\u001b[m\u001b[33m)\u001b[m\n",
      "\u001b[31m|\u001b[m Author: Afonso Matoso Magalhães <afonsomm98@gmail.com>\n",
      "\u001b[31m|\u001b[m Date:   Tue Apr 16 11:44:38 2024 +0100\n",
      "\u001b[31m|\u001b[m \n",
      "\u001b[31m|\u001b[m     C1\n",
      "\u001b[31m|\u001b[m \n",
      "* \u001b[33mcommit 4abe4740bdd9598bd5c7cc79a987dd5f0554c770\u001b[m\n",
      "  Author: Afonso Matoso Magalhães <afonsomm98@gmail.com>\n",
      "  Date:   Tue Apr 16 11:44:37 2024 +0100\n",
      "  \n",
      "      C0\n"
     ]
    }
   ],
   "source": [
    "!git branch -f main HEAD; git branch -D bugFix\n",
    "!git log --all --graph"
   ]
  },
  {
   "cell_type": "code",
   "execution_count": null,
   "id": "45e713a0-ab85-4a87-a579-85dbd230a68f",
   "metadata": {},
   "outputs": [
    {
     "name": "stdout",
     "output_type": "stream",
     "text": [
      "Switched to a new branch 'pushed'\n",
      "[pushed c2bb6ba] C2\n",
      " 1 file changed, 1 insertion(+)\n",
      "* \u001b[33mcommit c2bb6ba7680286da2918097b1cc983d13dd2b452\u001b[m\u001b[33m (\u001b[m\u001b[1;36mHEAD -> \u001b[m\u001b[1;32mpushed\u001b[m\u001b[33m)\u001b[m\n",
      "\u001b[31m|\u001b[m Author: Afonso Matoso Magalhães <afonsomm98@gmail.com>\n",
      "\u001b[31m|\u001b[m Date:   Tue Apr 16 11:49:12 2024 +0100\n",
      "\u001b[31m|\u001b[m \n",
      "\u001b[31m|\u001b[m     C2\n",
      "\u001b[31m|\u001b[m \n",
      "* \u001b[33mcommit d6f8c4ce16a5db9489f3633584a1e149f7c0ddbd\u001b[m\u001b[33m (\u001b[m\u001b[1;32mmain\u001b[m\u001b[33m)\u001b[m\n",
      "\u001b[31m|\u001b[m Author: Afonso Matoso Magalhães <afonsomm98@gmail.com>\n",
      "\u001b[31m|\u001b[m Date:   Tue Apr 16 11:44:38 2024 +0100\n",
      "\u001b[31m|\u001b[m \n",
      "\u001b[31m|\u001b[m     C1\n",
      "\u001b[31m|\u001b[m \n",
      "* \u001b[33mcommit 4abe4740bdd9598bd5c7cc79a987dd5f0554c770\u001b[m\n",
      "  Author: Afonso Matoso Magalhães <afonsomm98@gmail.com>\n",
      "  Date:   Tue Apr 16 11:44:37 2024 +0100\n",
      "  \n",
      "      C0\n"
     ]
    }
   ],
   "source": [
    "!git checkout -b pushed; echo \"change\" >> file.txt; git add file.txt; git commit -m \"C2\"\n",
    "!git log --all --graph"
   ]
  },
  {
   "cell_type": "code",
   "execution_count": null,
   "id": "6e344170-a7cb-4a95-886b-127d753cf960",
   "metadata": {},
   "outputs": [
    {
     "name": "stdout",
     "output_type": "stream",
     "text": [
      "Switched to branch 'main'\n",
      "Switched to a new branch 'local'\n",
      "[local 32d6b19] C3\n",
      " 1 file changed, 1 insertion(+)\n",
      "* \u001b[33mcommit 32d6b190ae74249d46ea0ac1d7a738e816af3b98\u001b[m\u001b[33m (\u001b[m\u001b[1;36mHEAD -> \u001b[m\u001b[1;32mlocal\u001b[m\u001b[33m)\u001b[m\n",
      "\u001b[31m|\u001b[m Author: Afonso Matoso Magalhães <afonsomm98@gmail.com>\n",
      "\u001b[31m|\u001b[m Date:   Tue Apr 16 11:49:13 2024 +0100\n",
      "\u001b[31m|\u001b[m \n",
      "\u001b[31m|\u001b[m     C3\n",
      "\u001b[31m|\u001b[m   \n",
      "\u001b[31m|\u001b[m * \u001b[33mcommit c2bb6ba7680286da2918097b1cc983d13dd2b452\u001b[m\u001b[33m (\u001b[m\u001b[1;32mpushed\u001b[m\u001b[33m)\u001b[m\n",
      "\u001b[31m|\u001b[m\u001b[31m/\u001b[m  Author: Afonso Matoso Magalhães <afonsomm98@gmail.com>\n",
      "\u001b[31m|\u001b[m   Date:   Tue Apr 16 11:49:12 2024 +0100\n",
      "\u001b[31m|\u001b[m   \n",
      "\u001b[31m|\u001b[m       C2\n",
      "\u001b[31m|\u001b[m \n",
      "* \u001b[33mcommit d6f8c4ce16a5db9489f3633584a1e149f7c0ddbd\u001b[m\u001b[33m (\u001b[m\u001b[1;32mmain\u001b[m\u001b[33m)\u001b[m\n",
      "\u001b[32m|\u001b[m Author: Afonso Matoso Magalhães <afonsomm98@gmail.com>\n",
      "\u001b[32m|\u001b[m Date:   Tue Apr 16 11:44:38 2024 +0100\n",
      "\u001b[32m|\u001b[m \n",
      "\u001b[32m|\u001b[m     C1\n",
      "\u001b[32m|\u001b[m \n",
      "* \u001b[33mcommit 4abe4740bdd9598bd5c7cc79a987dd5f0554c770\u001b[m\n",
      "  Author: Afonso Matoso Magalhães <afonsomm98@gmail.com>\n",
      "  Date:   Tue Apr 16 11:44:37 2024 +0100\n",
      "  \n",
      "      C0\n"
     ]
    }
   ],
   "source": [
    "!git checkout main; git checkout -b local; echo \"change\" >> file.txt; git add file.txt; git commit -m \"C3\"\n",
    "!git log --all --graph"
   ]
  },
  {
   "cell_type": "markdown",
   "id": "3a13b031-9aac-4505-a96c-da3fc2384b29",
   "metadata": {},
   "source": [
    "- To complete this level, we need to use the `git reset` command to reverse the local changes made in the local branch back to main, and `git revert` to reverse the changes made in the remote branch pushed back to main:"
   ]
  },
  {
   "cell_type": "code",
   "execution_count": null,
   "id": "470d2970-ae25-4765-9241-ed5a003c25ed",
   "metadata": {},
   "outputs": [
    {
     "name": "stdout",
     "output_type": "stream",
     "text": [
      "HEAD is now at d6f8c4c C1\n",
      "* \u001b[33mcommit c2bb6ba7680286da2918097b1cc983d13dd2b452\u001b[m\u001b[33m (\u001b[m\u001b[1;32mpushed\u001b[m\u001b[33m)\u001b[m\n",
      "\u001b[31m|\u001b[m Author: Afonso Matoso Magalhães <afonsomm98@gmail.com>\n",
      "\u001b[31m|\u001b[m Date:   Tue Apr 16 11:49:12 2024 +0100\n",
      "\u001b[31m|\u001b[m \n",
      "\u001b[31m|\u001b[m     C2\n",
      "\u001b[31m|\u001b[m \n",
      "* \u001b[33mcommit d6f8c4ce16a5db9489f3633584a1e149f7c0ddbd\u001b[m\u001b[33m (\u001b[m\u001b[1;36mHEAD -> \u001b[m\u001b[1;32mlocal\u001b[m\u001b[33m, \u001b[m\u001b[1;32mmain\u001b[m\u001b[33m)\u001b[m\n",
      "\u001b[31m|\u001b[m Author: Afonso Matoso Magalhães <afonsomm98@gmail.com>\n",
      "\u001b[31m|\u001b[m Date:   Tue Apr 16 11:44:38 2024 +0100\n",
      "\u001b[31m|\u001b[m \n",
      "\u001b[31m|\u001b[m     C1\n",
      "\u001b[31m|\u001b[m \n",
      "* \u001b[33mcommit 4abe4740bdd9598bd5c7cc79a987dd5f0554c770\u001b[m\n",
      "  Author: Afonso Matoso Magalhães <afonsomm98@gmail.com>\n",
      "  Date:   Tue Apr 16 11:44:37 2024 +0100\n",
      "  \n",
      "      C0\n"
     ]
    }
   ],
   "source": [
    "!git reset --hard main\n",
    "!git log --all --graph"
   ]
  },
  {
   "cell_type": "code",
   "execution_count": null,
   "id": "09650de4-ebe5-4a6a-8b32-d0abaf08dab3",
   "metadata": {},
   "outputs": [
    {
     "name": "stdout",
     "output_type": "stream",
     "text": [
      "Switched to branch 'pushed'\n",
      "[pushed 13b0fb7] Revert \"C2\"\n",
      " Date: Tue Apr 16 11:49:16 2024 +0100\n",
      " 1 file changed, 1 deletion(-)\n",
      "* \u001b[33mcommit 13b0fb7260d5ea890f570d430706d0bcfcc20e32\u001b[m\u001b[33m (\u001b[m\u001b[1;36mHEAD -> \u001b[m\u001b[1;32mpushed\u001b[m\u001b[33m)\u001b[m\n",
      "\u001b[31m|\u001b[m Author: Afonso Matoso Magalhães <afonsomm98@gmail.com>\n",
      "\u001b[31m|\u001b[m Date:   Tue Apr 16 11:49:16 2024 +0100\n",
      "\u001b[31m|\u001b[m \n",
      "\u001b[31m|\u001b[m     Revert \"C2\"\n",
      "\u001b[31m|\u001b[m     \n",
      "\u001b[31m|\u001b[m     This reverts commit c2bb6ba7680286da2918097b1cc983d13dd2b452.\n",
      "\u001b[31m|\u001b[m \n",
      "* \u001b[33mcommit c2bb6ba7680286da2918097b1cc983d13dd2b452\u001b[m\n",
      "\u001b[31m|\u001b[m Author: Afonso Matoso Magalhães <afonsomm98@gmail.com>\n",
      "\u001b[31m|\u001b[m Date:   Tue Apr 16 11:49:12 2024 +0100\n",
      "\u001b[31m|\u001b[m \n",
      "\u001b[31m|\u001b[m     C2\n",
      "\u001b[31m|\u001b[m \n",
      "* \u001b[33mcommit d6f8c4ce16a5db9489f3633584a1e149f7c0ddbd\u001b[m\u001b[33m (\u001b[m\u001b[1;32mmain\u001b[m\u001b[33m, \u001b[m\u001b[1;32mlocal\u001b[m\u001b[33m)\u001b[m\n",
      "\u001b[31m|\u001b[m Author: Afonso Matoso Magalhães <afonsomm98@gmail.com>\n",
      "\u001b[31m|\u001b[m Date:   Tue Apr 16 11:44:38 2024 +0100\n",
      "\u001b[31m|\u001b[m \n",
      "\u001b[31m|\u001b[m     C1\n",
      "\u001b[31m|\u001b[m \n",
      "* \u001b[33mcommit 4abe4740bdd9598bd5c7cc79a987dd5f0554c770\u001b[m\n",
      "  Author: Afonso Matoso Magalhães <afonsomm98@gmail.com>\n",
      "  Date:   Tue Apr 16 11:44:37 2024 +0100\n",
      "  \n",
      "      C0\n"
     ]
    }
   ],
   "source": [
    "!git checkout pushed; git revert --no-edit pushed\n",
    "!git log --all --graph"
   ]
  },
  {
   "cell_type": "markdown",
   "id": "66b346f4-c431-43dc-96de-32258c183c4c",
   "metadata": {},
   "source": [
    "### Level 9"
   ]
  },
  {
   "cell_type": "markdown",
   "id": "9239ccc4-2e79-474e-91ac-5f65ae375366",
   "metadata": {},
   "source": [
    "- The `git cherry-pick` command allows us to copy a sequence of specific commits to the current checked out branch.\n",
    "\n",
    "- Let's get to the same point as the beginning of the level: **TODO ...**"
   ]
  },
  {
   "cell_type": "code",
   "execution_count": null,
   "id": "34d61231-3af7-4792-ada8-dc6ff8b16f18",
   "metadata": {},
   "outputs": [],
   "source": [
    "#| echo: false\n",
    "#| output: false\n",
    "!git checkout main; git branch -D pushed local"
   ]
  },
  {
   "cell_type": "code",
   "execution_count": null,
   "id": "58353847-baf0-41a6-857c-01fbce26423b",
   "metadata": {},
   "outputs": [
    {
     "name": "stdout",
     "output_type": "stream",
     "text": [
      "Switched to a new branch 'bugFix'\n",
      "[bugFix b09609a] C2\n",
      " 1 file changed, 1 insertion(+)\n",
      " create mode 100644 file2.txt\n",
      "[bugFix c373010] C3\n",
      " 1 file changed, 1 insertion(+), 1 deletion(-)\n",
      "Switched to branch 'main'\n",
      "Switched to a new branch 'side'\n",
      "[side 543b2cb] C4\n",
      " 1 file changed, 1 insertion(+)\n",
      " create mode 100644 file3.txt\n",
      "[side c3f2ab7] C5\n",
      " 1 file changed, 1 insertion(+), 1 deletion(-)\n",
      "Switched to branch 'main'\n",
      "Switched to a new branch 'another'\n",
      "[another e5d7fdd] C6\n",
      " 1 file changed, 1 insertion(+)\n",
      " create mode 100644 file4.txt\n",
      "[another 57e9844] C7\n",
      " 1 file changed, 1 insertion(+), 1 deletion(-)\n",
      "Switched to branch 'main'\n",
      "* \u001b[33mcommit 57e984493a2c827a12f9377df13f5d426d7f93e0\u001b[m\u001b[33m (\u001b[m\u001b[1;32manother\u001b[m\u001b[33m)\u001b[m\n",
      "\u001b[31m|\u001b[m Author: Afonso Matoso Magalhães <afonsomm98@gmail.com>\n",
      "\u001b[31m|\u001b[m Date:   Tue Apr 16 11:57:13 2024 +0100\n",
      "\u001b[31m|\u001b[m \n",
      "\u001b[31m|\u001b[m     C7\n",
      "\u001b[31m|\u001b[m \n",
      "* \u001b[33mcommit e5d7fdd3cdd8413060af70494b0b65c781c722c9\u001b[m\n",
      "\u001b[31m|\u001b[m Author: Afonso Matoso Magalhães <afonsomm98@gmail.com>\n",
      "\u001b[31m|\u001b[m Date:   Tue Apr 16 11:57:13 2024 +0100\n",
      "\u001b[31m|\u001b[m \n",
      "\u001b[31m|\u001b[m     C6\n",
      "\u001b[31m|\u001b[m   \n",
      "\u001b[31m|\u001b[m * \u001b[33mcommit c373010b1a5f143b3ff900ecd2eb628351e29355\u001b[m\u001b[33m (\u001b[m\u001b[1;32mbugFix\u001b[m\u001b[33m)\u001b[m\n",
      "\u001b[31m|\u001b[m \u001b[32m|\u001b[m Author: Afonso Matoso Magalhães <afonsomm98@gmail.com>\n",
      "\u001b[31m|\u001b[m \u001b[32m|\u001b[m Date:   Tue Apr 16 11:57:12 2024 +0100\n",
      "\u001b[31m|\u001b[m \u001b[32m|\u001b[m \n",
      "\u001b[31m|\u001b[m \u001b[32m|\u001b[m     C3\n",
      "\u001b[31m|\u001b[m \u001b[32m|\u001b[m \n",
      "\u001b[31m|\u001b[m * \u001b[33mcommit b09609a0fee244e56ddd2456430d170becb57073\u001b[m\n",
      "\u001b[31m|\u001b[m\u001b[31m/\u001b[m  Author: Afonso Matoso Magalhães <afonsomm98@gmail.com>\n",
      "\u001b[31m|\u001b[m   Date:   Tue Apr 16 11:57:12 2024 +0100\n",
      "\u001b[31m|\u001b[m   \n",
      "\u001b[31m|\u001b[m       C2\n",
      "\u001b[31m|\u001b[m   \n",
      "\u001b[31m|\u001b[m * \u001b[33mcommit c3f2ab71815a6de17ffbf1b332cc14a6ca5af069\u001b[m\u001b[33m (\u001b[m\u001b[1;32mside\u001b[m\u001b[33m)\u001b[m\n",
      "\u001b[31m|\u001b[m \u001b[33m|\u001b[m Author: Afonso Matoso Magalhães <afonsomm98@gmail.com>\n",
      "\u001b[31m|\u001b[m \u001b[33m|\u001b[m Date:   Tue Apr 16 11:57:12 2024 +0100\n",
      "\u001b[31m|\u001b[m \u001b[33m|\u001b[m \n",
      "\u001b[31m|\u001b[m \u001b[33m|\u001b[m     C5\n",
      "\u001b[31m|\u001b[m \u001b[33m|\u001b[m \n",
      "\u001b[31m|\u001b[m * \u001b[33mcommit 543b2cb18a32ec924338f589d6da5f037dd41d65\u001b[m\n",
      "\u001b[31m|\u001b[m\u001b[31m/\u001b[m  Author: Afonso Matoso Magalhães <afonsomm98@gmail.com>\n",
      "\u001b[31m|\u001b[m   Date:   Tue Apr 16 11:57:12 2024 +0100\n",
      "\u001b[31m|\u001b[m   \n",
      "\u001b[31m|\u001b[m       C4\n",
      "\u001b[31m|\u001b[m \n",
      "* \u001b[33mcommit d6f8c4ce16a5db9489f3633584a1e149f7c0ddbd\u001b[m\u001b[33m (\u001b[m\u001b[1;36mHEAD -> \u001b[m\u001b[1;32mmain\u001b[m\u001b[33m)\u001b[m\n",
      "\u001b[33m|\u001b[m Author: Afonso Matoso Magalhães <afonsomm98@gmail.com>\n",
      "\u001b[33m|\u001b[m Date:   Tue Apr 16 11:44:38 2024 +0100\n",
      "\u001b[33m|\u001b[m \n",
      "\u001b[33m|\u001b[m     C1\n",
      "\u001b[33m|\u001b[m \n",
      "* \u001b[33mcommit 4abe4740bdd9598bd5c7cc79a987dd5f0554c770\u001b[m\n",
      "  Author: Afonso Matoso Magalhães <afonsomm98@gmail.com>\n",
      "  Date:   Tue Apr 16 11:44:37 2024 +0100\n",
      "  \n",
      "      C0\n"
     ]
    }
   ],
   "source": [
    "#| echo: false\n",
    "#| output: false\n",
    "!git checkout -b bugFix; echo \"1\" > file2.txt; git add file2.txt; git commit -m \"C2\"; echo \"2\" > file2.txt; git add file2.txt; git commit -m \"C3\"\n",
    "!git checkout main\n",
    "!git checkout -b side; echo \"1\" > file3.txt; git add file3.txt; git commit -m \"C4\"; echo \"2\" > file3.txt; git add file3.txt; git commit -m \"C5\"\n",
    "!git checkout main\n",
    "!git checkout -b another; echo \"1\" > file4.txt; git add file4.txt; git commit -m \"C6\"; echo \"2\" > file4.txt; git add file4.txt; git commit -m \"C7\"\n",
    "!git checkout main\n",
    "!git log --all --graph"
   ]
  },
  {
   "cell_type": "markdown",
   "id": "6c5b48d1-e8ce-43f3-8484-4d733aff2242",
   "metadata": {},
   "source": [
    "::: {.content-hidden}\n",
    "- To complete this level we need to copy commits C3, C4 and C7 in this order to the main branch:\n",
    ":::"
   ]
  },
  {
   "cell_type": "code",
   "execution_count": null,
   "id": "f6f3a807-e0d1-48d6-8971-453b899c2b91",
   "metadata": {},
   "outputs": [
    {
     "name": "stdout",
     "output_type": "stream",
     "text": [
      "CONFLICT (modify/delete): file2.txt deleted in HEAD and modified in 61e8a2a (C3).  Version 61e8a2a (C3) of file2.txt left in tree.\n",
      "error: could not apply 61e8a2a... C3\n",
      "\u001b[33mhint: After resolving the conflicts, mark them with\u001b[m\n",
      "\u001b[33mhint: \"git add/rm <pathspec>\", then run\u001b[m\n",
      "\u001b[33mhint: \"git cherry-pick --continue\".\u001b[m\n",
      "\u001b[33mhint: You can instead skip this commit with \"git cherry-pick --skip\".\u001b[m\n",
      "\u001b[33mhint: To abort and get back to the state before \"git cherry-pick\",\u001b[m\n",
      "\u001b[33mhint: run \"git cherry-pick --abort\".\u001b[m\n",
      "* \u001b[33mcommit 57e984493a2c827a12f9377df13f5d426d7f93e0\u001b[m\u001b[33m (\u001b[m\u001b[1;32manother\u001b[m\u001b[33m)\u001b[m\n",
      "\u001b[31m|\u001b[m Author: Afonso Matoso Magalhães <afonsomm98@gmail.com>\n",
      "\u001b[31m|\u001b[m Date:   Tue Apr 16 11:57:13 2024 +0100\n",
      "\u001b[31m|\u001b[m \n",
      "\u001b[31m|\u001b[m     C7\n",
      "\u001b[31m|\u001b[m \n",
      "* \u001b[33mcommit e5d7fdd3cdd8413060af70494b0b65c781c722c9\u001b[m\n",
      "\u001b[31m|\u001b[m Author: Afonso Matoso Magalhães <afonsomm98@gmail.com>\n",
      "\u001b[31m|\u001b[m Date:   Tue Apr 16 11:57:13 2024 +0100\n",
      "\u001b[31m|\u001b[m \n",
      "\u001b[31m|\u001b[m     C6\n",
      "\u001b[31m|\u001b[m   \n",
      "\u001b[31m|\u001b[m * \u001b[33mcommit c373010b1a5f143b3ff900ecd2eb628351e29355\u001b[m\u001b[33m (\u001b[m\u001b[1;32mbugFix\u001b[m\u001b[33m)\u001b[m\n",
      "\u001b[31m|\u001b[m \u001b[32m|\u001b[m Author: Afonso Matoso Magalhães <afonsomm98@gmail.com>\n",
      "\u001b[31m|\u001b[m \u001b[32m|\u001b[m Date:   Tue Apr 16 11:57:12 2024 +0100\n",
      "\u001b[31m|\u001b[m \u001b[32m|\u001b[m \n",
      "\u001b[31m|\u001b[m \u001b[32m|\u001b[m     C3\n",
      "\u001b[31m|\u001b[m \u001b[32m|\u001b[m \n",
      "\u001b[31m|\u001b[m * \u001b[33mcommit b09609a0fee244e56ddd2456430d170becb57073\u001b[m\n",
      "\u001b[31m|\u001b[m\u001b[31m/\u001b[m  Author: Afonso Matoso Magalhães <afonsomm98@gmail.com>\n",
      "\u001b[31m|\u001b[m   Date:   Tue Apr 16 11:57:12 2024 +0100\n",
      "\u001b[31m|\u001b[m   \n",
      "\u001b[31m|\u001b[m       C2\n",
      "\u001b[31m|\u001b[m   \n",
      "\u001b[31m|\u001b[m * \u001b[33mcommit c3f2ab71815a6de17ffbf1b332cc14a6ca5af069\u001b[m\u001b[33m (\u001b[m\u001b[1;32mside\u001b[m\u001b[33m)\u001b[m\n",
      "\u001b[31m|\u001b[m \u001b[33m|\u001b[m Author: Afonso Matoso Magalhães <afonsomm98@gmail.com>\n",
      "\u001b[31m|\u001b[m \u001b[33m|\u001b[m Date:   Tue Apr 16 11:57:12 2024 +0100\n",
      "\u001b[31m|\u001b[m \u001b[33m|\u001b[m \n",
      "\u001b[31m|\u001b[m \u001b[33m|\u001b[m     C5\n",
      "\u001b[31m|\u001b[m \u001b[33m|\u001b[m \n",
      "\u001b[31m|\u001b[m * \u001b[33mcommit 543b2cb18a32ec924338f589d6da5f037dd41d65\u001b[m\n",
      "\u001b[31m|\u001b[m\u001b[31m/\u001b[m  Author: Afonso Matoso Magalhães <afonsomm98@gmail.com>\n",
      "\u001b[31m|\u001b[m   Date:   Tue Apr 16 11:57:12 2024 +0100\n",
      "\u001b[31m|\u001b[m   \n",
      "\u001b[31m|\u001b[m       C4\n",
      "\u001b[31m|\u001b[m \n",
      "* \u001b[33mcommit d6f8c4ce16a5db9489f3633584a1e149f7c0ddbd\u001b[m\u001b[33m (\u001b[m\u001b[1;36mHEAD -> \u001b[m\u001b[1;32mmain\u001b[m\u001b[33m)\u001b[m\n",
      "\u001b[33m|\u001b[m Author: Afonso Matoso Magalhães <afonsomm98@gmail.com>\n",
      "\u001b[33m|\u001b[m Date:   Tue Apr 16 11:44:38 2024 +0100\n",
      "\u001b[33m|\u001b[m \n",
      "\u001b[33m|\u001b[m     C1\n",
      "\u001b[33m|\u001b[m \n",
      "* \u001b[33mcommit 4abe4740bdd9598bd5c7cc79a987dd5f0554c770\u001b[m\n",
      "  Author: Afonso Matoso Magalhães <afonsomm98@gmail.com>\n",
      "  Date:   Tue Apr 16 11:44:37 2024 +0100\n",
      "  \n",
      "      C0\n"
     ]
    }
   ],
   "source": [
    "#| echo: false\n",
    "#| output: false\n",
    "!git cherry-pick bugFix side^ another\n",
    "!git log --all --graph"
   ]
  },
  {
   "cell_type": "code",
   "execution_count": null,
   "id": "aa67fbba-7a89-43a9-b9c7-b72a6b789f30",
   "metadata": {},
   "outputs": [
    {
     "name": "stdout",
     "output_type": "stream",
     "text": [
      "Deleted branch another (was 57e9844).\n",
      "Deleted branch side (was c3f2ab7).\n",
      "Deleted branch bugFix (was c373010).\n"
     ]
    }
   ],
   "source": [
    "#| echo: false\n",
    "#| output: false\n",
    "!git branch -D another side bugFix\n",
    "!git cherry-pick --abort\n",
    "!git clean -d -x -f"
   ]
  },
  {
   "cell_type": "code",
   "execution_count": null,
   "id": "59b98ea8-95d4-4a07-bd26-68984dc7930c",
   "metadata": {},
   "outputs": [
    {
     "name": "stdout",
     "output_type": "stream",
     "text": [
      "100644 e4aade4828b482cab3237c1a433fe5c6f0081a38 0\tfile.txt\n"
     ]
    }
   ],
   "source": [
    "#| echo: false\n",
    "#| output: false\n",
    "!git ls-files --stage"
   ]
  },
  {
   "cell_type": "code",
   "execution_count": null,
   "id": "866eead3-df5a-4d88-a910-5299b533595d",
   "metadata": {},
   "outputs": [
    {
     "name": "stdout",
     "output_type": "stream",
     "text": [
      "\u001b[33mcommit d6f8c4ce16a5db9489f3633584a1e149f7c0ddbd\u001b[m\u001b[33m (\u001b[m\u001b[1;36mHEAD -> \u001b[m\u001b[1;32mmain\u001b[m\u001b[33m)\u001b[m\n",
      "Author: Afonso Matoso Magalhães <afonsomm98@gmail.com>\n",
      "Date:   Tue Apr 16 11:44:38 2024 +0100\n",
      "\n",
      "    C1\n",
      "\n",
      "\u001b[33mcommit 4abe4740bdd9598bd5c7cc79a987dd5f0554c770\u001b[m\n",
      "Author: Afonso Matoso Magalhães <afonsomm98@gmail.com>\n",
      "Date:   Tue Apr 16 11:44:37 2024 +0100\n",
      "\n",
      "    C0\n"
     ]
    }
   ],
   "source": [
    "#| echo: false\n",
    "#| output: false\n",
    "!git log"
   ]
  },
  {
   "cell_type": "code",
   "execution_count": null,
   "id": "b5c484ca-5e8a-4c21-8800-a93a138c18a5",
   "metadata": {},
   "outputs": [],
   "source": []
  }
 ],
 "metadata": {
  "kernelspec": {
   "display_name": "python3",
   "language": "python",
   "name": "python3"
  }
 },
 "nbformat": 4,
 "nbformat_minor": 5
}
