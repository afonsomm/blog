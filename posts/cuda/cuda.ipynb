{
 "cells": [
  {
   "cell_type": "raw",
   "id": "bd318d6e-0b3e-4308-a240-e131d39de6c8",
   "metadata": {},
   "source": [
    "---\n",
    "title: \"CUDA\"\n",
    "subtitle: \"\"\n",
    "author: \"Afonso Matoso Magalhães\"\n",
    "date-modified: last-modified\n",
    "categories: [\"courses\"]\n",
    "image: \"logo.png\"\n",
    "toc: true\n",
    "draft: false\n",
    "---"
   ]
  }
 ],
 "metadata": {
  "kernelspec": {
   "display_name": "Python 3 (ipykernel)",
   "language": "python",
   "name": "python3"
  },
  "language_info": {
   "codemirror_mode": {
    "name": "ipython",
    "version": 3
   },
   "file_extension": ".py",
   "mimetype": "text/x-python",
   "name": "python",
   "nbconvert_exporter": "python",
   "pygments_lexer": "ipython3",
   "version": "3.12.2"
  }
 },
 "nbformat": 4,
 "nbformat_minor": 5
}
